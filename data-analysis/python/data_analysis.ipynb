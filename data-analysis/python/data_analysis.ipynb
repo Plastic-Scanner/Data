{
 "cells": [
  {
   "attachments": {},
   "cell_type": "markdown",
   "metadata": {},
   "source": [
    "Import dataset"
   ]
  },
  {
   "cell_type": "code",
   "execution_count": 93,
   "metadata": {},
   "outputs": [],
   "source": [
    "# step 1: import the .csv into 1 big dataframe from this url: https://raw.githubusercontent.com/Plastic-Scanner/data/main/data/20230419_DB2.1_fourth_dataset/measurement.csv\n",
    "import pandas as pd\n",
    "url = 'https://raw.githubusercontent.com/Plastic-Scanner/data/main/data/20230419_DB2.1_fourth_dataset/measurement.csv'\n",
    "df = pd.read_csv(url, sep=',')"
   ]
  },
  {
   "cell_type": "code",
   "execution_count": 94,
   "metadata": {},
   "outputs": [
    {
     "data": {
      "text/html": [
       "<div>\n",
       "<style scoped>\n",
       "    .dataframe tbody tr th:only-of-type {\n",
       "        vertical-align: middle;\n",
       "    }\n",
       "\n",
       "    .dataframe tbody tr th {\n",
       "        vertical-align: top;\n",
       "    }\n",
       "\n",
       "    .dataframe thead th {\n",
       "        text-align: right;\n",
       "    }\n",
       "</style>\n",
       "<table border=\"1\" class=\"dataframe\">\n",
       "  <thead>\n",
       "    <tr style=\"text-align: right;\">\n",
       "      <th></th>\n",
       "      <th>Reading</th>\n",
       "      <th>Name</th>\n",
       "      <th>PlasticType</th>\n",
       "      <th>Color</th>\n",
       "      <th>MeasurementType</th>\n",
       "      <th>DateTime</th>\n",
       "      <th>nm940</th>\n",
       "      <th>nm1050</th>\n",
       "      <th>nm1200</th>\n",
       "      <th>nm1300</th>\n",
       "      <th>nm1450</th>\n",
       "      <th>nm1550</th>\n",
       "      <th>nm1650</th>\n",
       "      <th>nm1720</th>\n",
       "    </tr>\n",
       "  </thead>\n",
       "  <tbody>\n",
       "    <tr>\n",
       "      <th>0</th>\n",
       "      <td>0</td>\n",
       "      <td>NaN</td>\n",
       "      <td>unknown</td>\n",
       "      <td>NaN</td>\n",
       "      <td>calibration</td>\n",
       "      <td>2023-04-18 10:04:02</td>\n",
       "      <td>0.774016</td>\n",
       "      <td>0.258732</td>\n",
       "      <td>0.599910</td>\n",
       "      <td>0.609679</td>\n",
       "      <td>0.406767</td>\n",
       "      <td>0.345687</td>\n",
       "      <td>0.211025</td>\n",
       "      <td>0.106971</td>\n",
       "    </tr>\n",
       "    <tr>\n",
       "      <th>1</th>\n",
       "      <td>1</td>\n",
       "      <td>ref</td>\n",
       "      <td>reference</td>\n",
       "      <td>white</td>\n",
       "      <td>regular</td>\n",
       "      <td>2023-04-18 10:04:29</td>\n",
       "      <td>0.773671</td>\n",
       "      <td>0.258681</td>\n",
       "      <td>0.600065</td>\n",
       "      <td>0.609726</td>\n",
       "      <td>0.406746</td>\n",
       "      <td>0.345734</td>\n",
       "      <td>0.210966</td>\n",
       "      <td>0.106948</td>\n",
       "    </tr>\n",
       "    <tr>\n",
       "      <th>2</th>\n",
       "      <td>2</td>\n",
       "      <td>ref</td>\n",
       "      <td>reference</td>\n",
       "      <td>white</td>\n",
       "      <td>regular</td>\n",
       "      <td>2023-04-18 10:04:30</td>\n",
       "      <td>0.773778</td>\n",
       "      <td>0.258697</td>\n",
       "      <td>0.600188</td>\n",
       "      <td>0.609797</td>\n",
       "      <td>0.406819</td>\n",
       "      <td>0.345758</td>\n",
       "      <td>0.210962</td>\n",
       "      <td>0.106943</td>\n",
       "    </tr>\n",
       "    <tr>\n",
       "      <th>3</th>\n",
       "      <td>3</td>\n",
       "      <td>ref</td>\n",
       "      <td>reference</td>\n",
       "      <td>white</td>\n",
       "      <td>regular</td>\n",
       "      <td>2023-04-18 10:04:31</td>\n",
       "      <td>0.773845</td>\n",
       "      <td>0.258638</td>\n",
       "      <td>0.600238</td>\n",
       "      <td>0.609842</td>\n",
       "      <td>0.406801</td>\n",
       "      <td>0.345766</td>\n",
       "      <td>0.210938</td>\n",
       "      <td>0.106955</td>\n",
       "    </tr>\n",
       "    <tr>\n",
       "      <th>4</th>\n",
       "      <td>4</td>\n",
       "      <td>231_HDPE_ps_1</td>\n",
       "      <td>HDPE</td>\n",
       "      <td>white</td>\n",
       "      <td>regular</td>\n",
       "      <td>2023-04-18 10:05:38</td>\n",
       "      <td>0.548005</td>\n",
       "      <td>0.186000</td>\n",
       "      <td>0.326448</td>\n",
       "      <td>0.376345</td>\n",
       "      <td>0.221133</td>\n",
       "      <td>0.205087</td>\n",
       "      <td>0.129772</td>\n",
       "      <td>0.068097</td>\n",
       "    </tr>\n",
       "    <tr>\n",
       "      <th>...</th>\n",
       "      <td>...</td>\n",
       "      <td>...</td>\n",
       "      <td>...</td>\n",
       "      <td>...</td>\n",
       "      <td>...</td>\n",
       "      <td>...</td>\n",
       "      <td>...</td>\n",
       "      <td>...</td>\n",
       "      <td>...</td>\n",
       "      <td>...</td>\n",
       "      <td>...</td>\n",
       "      <td>...</td>\n",
       "      <td>...</td>\n",
       "      <td>...</td>\n",
       "    </tr>\n",
       "    <tr>\n",
       "      <th>525</th>\n",
       "      <td>525</td>\n",
       "      <td>6mm_PMMA_ps_2</td>\n",
       "      <td>PMMA</td>\n",
       "      <td>transparent</td>\n",
       "      <td>regular</td>\n",
       "      <td>2023-04-19 10:38:07</td>\n",
       "      <td>0.662025</td>\n",
       "      <td>0.214258</td>\n",
       "      <td>0.315317</td>\n",
       "      <td>0.461283</td>\n",
       "      <td>0.194425</td>\n",
       "      <td>0.197187</td>\n",
       "      <td>0.092601</td>\n",
       "      <td>0.041280</td>\n",
       "    </tr>\n",
       "    <tr>\n",
       "      <th>526</th>\n",
       "      <td>526</td>\n",
       "      <td>6mm_PMMA_ps_3</td>\n",
       "      <td>PMMA</td>\n",
       "      <td>transparent</td>\n",
       "      <td>regular</td>\n",
       "      <td>2023-04-19 10:38:15</td>\n",
       "      <td>0.659949</td>\n",
       "      <td>0.214274</td>\n",
       "      <td>0.314634</td>\n",
       "      <td>0.461083</td>\n",
       "      <td>0.194860</td>\n",
       "      <td>0.197976</td>\n",
       "      <td>0.092832</td>\n",
       "      <td>0.041247</td>\n",
       "    </tr>\n",
       "    <tr>\n",
       "      <th>527</th>\n",
       "      <td>527</td>\n",
       "      <td>5mm_PMMA_ps_1</td>\n",
       "      <td>PMMA</td>\n",
       "      <td>transparent</td>\n",
       "      <td>regular</td>\n",
       "      <td>2023-04-19 10:38:43</td>\n",
       "      <td>0.699323</td>\n",
       "      <td>0.227274</td>\n",
       "      <td>0.354076</td>\n",
       "      <td>0.494101</td>\n",
       "      <td>0.219395</td>\n",
       "      <td>0.217460</td>\n",
       "      <td>0.103934</td>\n",
       "      <td>0.046443</td>\n",
       "    </tr>\n",
       "    <tr>\n",
       "      <th>528</th>\n",
       "      <td>528</td>\n",
       "      <td>5mm_PMMA_ps_2</td>\n",
       "      <td>PMMA</td>\n",
       "      <td>transparent</td>\n",
       "      <td>regular</td>\n",
       "      <td>2023-04-19 10:38:55</td>\n",
       "      <td>0.702091</td>\n",
       "      <td>0.227281</td>\n",
       "      <td>0.353875</td>\n",
       "      <td>0.496637</td>\n",
       "      <td>0.220139</td>\n",
       "      <td>0.218248</td>\n",
       "      <td>0.104919</td>\n",
       "      <td>0.046635</td>\n",
       "    </tr>\n",
       "    <tr>\n",
       "      <th>529</th>\n",
       "      <td>529</td>\n",
       "      <td>5mm_PMMA_ps_3</td>\n",
       "      <td>PMMA</td>\n",
       "      <td>transparent</td>\n",
       "      <td>regular</td>\n",
       "      <td>2023-04-19 10:39:04</td>\n",
       "      <td>0.706109</td>\n",
       "      <td>0.228121</td>\n",
       "      <td>0.354746</td>\n",
       "      <td>0.496641</td>\n",
       "      <td>0.219223</td>\n",
       "      <td>0.217012</td>\n",
       "      <td>0.104527</td>\n",
       "      <td>0.046533</td>\n",
       "    </tr>\n",
       "  </tbody>\n",
       "</table>\n",
       "<p>530 rows × 14 columns</p>\n",
       "</div>"
      ],
      "text/plain": [
       "     Reading           Name PlasticType        Color MeasurementType  \\\n",
       "0          0            NaN     unknown          NaN     calibration   \n",
       "1          1            ref   reference        white         regular   \n",
       "2          2            ref   reference        white         regular   \n",
       "3          3            ref   reference        white         regular   \n",
       "4          4  231_HDPE_ps_1        HDPE        white         regular   \n",
       "..       ...            ...         ...          ...             ...   \n",
       "525      525  6mm_PMMA_ps_2        PMMA  transparent         regular   \n",
       "526      526  6mm_PMMA_ps_3        PMMA  transparent         regular   \n",
       "527      527  5mm_PMMA_ps_1        PMMA  transparent         regular   \n",
       "528      528  5mm_PMMA_ps_2        PMMA  transparent         regular   \n",
       "529      529  5mm_PMMA_ps_3        PMMA  transparent         regular   \n",
       "\n",
       "                DateTime     nm940    nm1050    nm1200    nm1300    nm1450  \\\n",
       "0    2023-04-18 10:04:02  0.774016  0.258732  0.599910  0.609679  0.406767   \n",
       "1    2023-04-18 10:04:29  0.773671  0.258681  0.600065  0.609726  0.406746   \n",
       "2    2023-04-18 10:04:30  0.773778  0.258697  0.600188  0.609797  0.406819   \n",
       "3    2023-04-18 10:04:31  0.773845  0.258638  0.600238  0.609842  0.406801   \n",
       "4    2023-04-18 10:05:38  0.548005  0.186000  0.326448  0.376345  0.221133   \n",
       "..                   ...       ...       ...       ...       ...       ...   \n",
       "525  2023-04-19 10:38:07  0.662025  0.214258  0.315317  0.461283  0.194425   \n",
       "526  2023-04-19 10:38:15  0.659949  0.214274  0.314634  0.461083  0.194860   \n",
       "527  2023-04-19 10:38:43  0.699323  0.227274  0.354076  0.494101  0.219395   \n",
       "528  2023-04-19 10:38:55  0.702091  0.227281  0.353875  0.496637  0.220139   \n",
       "529  2023-04-19 10:39:04  0.706109  0.228121  0.354746  0.496641  0.219223   \n",
       "\n",
       "       nm1550    nm1650    nm1720  \n",
       "0    0.345687  0.211025  0.106971  \n",
       "1    0.345734  0.210966  0.106948  \n",
       "2    0.345758  0.210962  0.106943  \n",
       "3    0.345766  0.210938  0.106955  \n",
       "4    0.205087  0.129772  0.068097  \n",
       "..        ...       ...       ...  \n",
       "525  0.197187  0.092601  0.041280  \n",
       "526  0.197976  0.092832  0.041247  \n",
       "527  0.217460  0.103934  0.046443  \n",
       "528  0.218248  0.104919  0.046635  \n",
       "529  0.217012  0.104527  0.046533  \n",
       "\n",
       "[530 rows x 14 columns]"
      ]
     },
     "execution_count": 94,
     "metadata": {},
     "output_type": "execute_result"
    }
   ],
   "source": [
    "#drop all the columns after the column named \"nm1720\"\n",
    "df = df.loc[:, :'nm1720']\n",
    "df"
   ]
  },
  {
   "attachments": {},
   "cell_type": "markdown",
   "metadata": {},
   "source": [
    "# Find reference data\n",
    "and check if their standard deviation differs greatly"
   ]
  },
  {
   "cell_type": "code",
   "execution_count": 95,
   "metadata": {},
   "outputs": [
    {
     "data": {
      "text/html": [
       "<div>\n",
       "<style scoped>\n",
       "    .dataframe tbody tr th:only-of-type {\n",
       "        vertical-align: middle;\n",
       "    }\n",
       "\n",
       "    .dataframe tbody tr th {\n",
       "        vertical-align: top;\n",
       "    }\n",
       "\n",
       "    .dataframe thead th {\n",
       "        text-align: right;\n",
       "    }\n",
       "</style>\n",
       "<table border=\"1\" class=\"dataframe\">\n",
       "  <thead>\n",
       "    <tr style=\"text-align: right;\">\n",
       "      <th></th>\n",
       "      <th>Reading</th>\n",
       "      <th>nm940</th>\n",
       "      <th>nm1050</th>\n",
       "      <th>nm1200</th>\n",
       "      <th>nm1300</th>\n",
       "      <th>nm1450</th>\n",
       "      <th>nm1550</th>\n",
       "      <th>nm1650</th>\n",
       "      <th>nm1720</th>\n",
       "    </tr>\n",
       "  </thead>\n",
       "  <tbody>\n",
       "    <tr>\n",
       "      <th>count</th>\n",
       "      <td>13.000000</td>\n",
       "      <td>13.000000</td>\n",
       "      <td>13.000000</td>\n",
       "      <td>13.000000</td>\n",
       "      <td>13.000000</td>\n",
       "      <td>13.000000</td>\n",
       "      <td>13.000000</td>\n",
       "      <td>13.000000</td>\n",
       "      <td>13.000000</td>\n",
       "    </tr>\n",
       "    <tr>\n",
       "      <th>mean</th>\n",
       "      <td>174.000000</td>\n",
       "      <td>0.794918</td>\n",
       "      <td>0.264884</td>\n",
       "      <td>0.612305</td>\n",
       "      <td>0.624434</td>\n",
       "      <td>0.418890</td>\n",
       "      <td>0.360097</td>\n",
       "      <td>0.219304</td>\n",
       "      <td>0.111934</td>\n",
       "    </tr>\n",
       "    <tr>\n",
       "      <th>std</th>\n",
       "      <td>171.421022</td>\n",
       "      <td>0.015584</td>\n",
       "      <td>0.004527</td>\n",
       "      <td>0.009037</td>\n",
       "      <td>0.010511</td>\n",
       "      <td>0.008678</td>\n",
       "      <td>0.010107</td>\n",
       "      <td>0.006091</td>\n",
       "      <td>0.003557</td>\n",
       "    </tr>\n",
       "    <tr>\n",
       "      <th>min</th>\n",
       "      <td>0.000000</td>\n",
       "      <td>0.773671</td>\n",
       "      <td>0.258638</td>\n",
       "      <td>0.599910</td>\n",
       "      <td>0.609679</td>\n",
       "      <td>0.406746</td>\n",
       "      <td>0.345687</td>\n",
       "      <td>0.210938</td>\n",
       "      <td>0.106943</td>\n",
       "    </tr>\n",
       "    <tr>\n",
       "      <th>25%</th>\n",
       "      <td>3.000000</td>\n",
       "      <td>0.774016</td>\n",
       "      <td>0.258732</td>\n",
       "      <td>0.600238</td>\n",
       "      <td>0.609842</td>\n",
       "      <td>0.406819</td>\n",
       "      <td>0.345766</td>\n",
       "      <td>0.211025</td>\n",
       "      <td>0.106971</td>\n",
       "    </tr>\n",
       "    <tr>\n",
       "      <th>50%</th>\n",
       "      <td>151.000000</td>\n",
       "      <td>0.796826</td>\n",
       "      <td>0.267875</td>\n",
       "      <td>0.618401</td>\n",
       "      <td>0.630891</td>\n",
       "      <td>0.423784</td>\n",
       "      <td>0.366310</td>\n",
       "      <td>0.221955</td>\n",
       "      <td>0.113311</td>\n",
       "    </tr>\n",
       "    <tr>\n",
       "      <th>75%</th>\n",
       "      <td>196.000000</td>\n",
       "      <td>0.807981</td>\n",
       "      <td>0.268199</td>\n",
       "      <td>0.619162</td>\n",
       "      <td>0.632189</td>\n",
       "      <td>0.425691</td>\n",
       "      <td>0.367690</td>\n",
       "      <td>0.223383</td>\n",
       "      <td>0.114407</td>\n",
       "    </tr>\n",
       "    <tr>\n",
       "      <th>max</th>\n",
       "      <td>448.000000</td>\n",
       "      <td>0.810601</td>\n",
       "      <td>0.268857</td>\n",
       "      <td>0.619995</td>\n",
       "      <td>0.633611</td>\n",
       "      <td>0.426579</td>\n",
       "      <td>0.368015</td>\n",
       "      <td>0.226099</td>\n",
       "      <td>0.115618</td>\n",
       "    </tr>\n",
       "  </tbody>\n",
       "</table>\n",
       "</div>"
      ],
      "text/plain": [
       "          Reading      nm940     nm1050     nm1200     nm1300     nm1450  \\\n",
       "count   13.000000  13.000000  13.000000  13.000000  13.000000  13.000000   \n",
       "mean   174.000000   0.794918   0.264884   0.612305   0.624434   0.418890   \n",
       "std    171.421022   0.015584   0.004527   0.009037   0.010511   0.008678   \n",
       "min      0.000000   0.773671   0.258638   0.599910   0.609679   0.406746   \n",
       "25%      3.000000   0.774016   0.258732   0.600238   0.609842   0.406819   \n",
       "50%    151.000000   0.796826   0.267875   0.618401   0.630891   0.423784   \n",
       "75%    196.000000   0.807981   0.268199   0.619162   0.632189   0.425691   \n",
       "max    448.000000   0.810601   0.268857   0.619995   0.633611   0.426579   \n",
       "\n",
       "          nm1550     nm1650     nm1720  \n",
       "count  13.000000  13.000000  13.000000  \n",
       "mean    0.360097   0.219304   0.111934  \n",
       "std     0.010107   0.006091   0.003557  \n",
       "min     0.345687   0.210938   0.106943  \n",
       "25%     0.345766   0.211025   0.106971  \n",
       "50%     0.366310   0.221955   0.113311  \n",
       "75%     0.367690   0.223383   0.114407  \n",
       "max     0.368015   0.226099   0.115618  "
      ]
     },
     "execution_count": 95,
     "metadata": {},
     "output_type": "execute_result"
    }
   ],
   "source": [
    "#make a new dataframe with only the ones that have MeasurementType as \"calibration\" or PlasticType as \"reference\"\n",
    "df_ref = df[(df['MeasurementType'] == 'calibration') | (df['PlasticType'] == 'reference')]\n",
    "#basic statistics\n",
    "df_ref.describe()"
   ]
  },
  {
   "attachments": {},
   "cell_type": "markdown",
   "metadata": {},
   "source": [
    "# Normalize data"
   ]
  },
  {
   "cell_type": "code",
   "execution_count": 96,
   "metadata": {},
   "outputs": [
    {
     "data": {
      "text/html": [
       "<div>\n",
       "<style scoped>\n",
       "    .dataframe tbody tr th:only-of-type {\n",
       "        vertical-align: middle;\n",
       "    }\n",
       "\n",
       "    .dataframe tbody tr th {\n",
       "        vertical-align: top;\n",
       "    }\n",
       "\n",
       "    .dataframe thead th {\n",
       "        text-align: right;\n",
       "    }\n",
       "</style>\n",
       "<table border=\"1\" class=\"dataframe\">\n",
       "  <thead>\n",
       "    <tr style=\"text-align: right;\">\n",
       "      <th></th>\n",
       "      <th>Reading</th>\n",
       "      <th>Name</th>\n",
       "      <th>PlasticType</th>\n",
       "      <th>Color</th>\n",
       "      <th>MeasurementType</th>\n",
       "      <th>DateTime</th>\n",
       "      <th>nm940</th>\n",
       "      <th>nm1050</th>\n",
       "      <th>nm1200</th>\n",
       "      <th>nm1300</th>\n",
       "      <th>nm1450</th>\n",
       "      <th>nm1550</th>\n",
       "      <th>nm1650</th>\n",
       "      <th>nm1720</th>\n",
       "    </tr>\n",
       "  </thead>\n",
       "  <tbody>\n",
       "    <tr>\n",
       "      <th>0</th>\n",
       "      <td>0</td>\n",
       "      <td>NaN</td>\n",
       "      <td>unknown</td>\n",
       "      <td>NaN</td>\n",
       "      <td>calibration</td>\n",
       "      <td>2023-04-18 10:04:02</td>\n",
       "      <td>0.973705</td>\n",
       "      <td>0.976775</td>\n",
       "      <td>0.979756</td>\n",
       "      <td>0.976370</td>\n",
       "      <td>0.971059</td>\n",
       "      <td>0.959982</td>\n",
       "      <td>0.962247</td>\n",
       "      <td>0.955662</td>\n",
       "    </tr>\n",
       "    <tr>\n",
       "      <th>1</th>\n",
       "      <td>1</td>\n",
       "      <td>ref</td>\n",
       "      <td>reference</td>\n",
       "      <td>white</td>\n",
       "      <td>regular</td>\n",
       "      <td>2023-04-18 10:04:29</td>\n",
       "      <td>0.973271</td>\n",
       "      <td>0.976583</td>\n",
       "      <td>0.980009</td>\n",
       "      <td>0.976446</td>\n",
       "      <td>0.971009</td>\n",
       "      <td>0.960113</td>\n",
       "      <td>0.961977</td>\n",
       "      <td>0.955455</td>\n",
       "    </tr>\n",
       "    <tr>\n",
       "      <th>2</th>\n",
       "      <td>2</td>\n",
       "      <td>ref</td>\n",
       "      <td>reference</td>\n",
       "      <td>white</td>\n",
       "      <td>regular</td>\n",
       "      <td>2023-04-18 10:04:30</td>\n",
       "      <td>0.973405</td>\n",
       "      <td>0.976642</td>\n",
       "      <td>0.980211</td>\n",
       "      <td>0.976560</td>\n",
       "      <td>0.971185</td>\n",
       "      <td>0.960179</td>\n",
       "      <td>0.961961</td>\n",
       "      <td>0.955411</td>\n",
       "    </tr>\n",
       "    <tr>\n",
       "      <th>3</th>\n",
       "      <td>3</td>\n",
       "      <td>ref</td>\n",
       "      <td>reference</td>\n",
       "      <td>white</td>\n",
       "      <td>regular</td>\n",
       "      <td>2023-04-18 10:04:31</td>\n",
       "      <td>0.973489</td>\n",
       "      <td>0.976419</td>\n",
       "      <td>0.980293</td>\n",
       "      <td>0.976631</td>\n",
       "      <td>0.971142</td>\n",
       "      <td>0.960200</td>\n",
       "      <td>0.961852</td>\n",
       "      <td>0.955512</td>\n",
       "    </tr>\n",
       "    <tr>\n",
       "      <th>4</th>\n",
       "      <td>4</td>\n",
       "      <td>231_HDPE_ps_1</td>\n",
       "      <td>HDPE</td>\n",
       "      <td>white</td>\n",
       "      <td>regular</td>\n",
       "      <td>2023-04-18 10:05:38</td>\n",
       "      <td>0.689385</td>\n",
       "      <td>0.702195</td>\n",
       "      <td>0.533146</td>\n",
       "      <td>0.602697</td>\n",
       "      <td>0.527902</td>\n",
       "      <td>0.569531</td>\n",
       "      <td>0.591744</td>\n",
       "      <td>0.608363</td>\n",
       "    </tr>\n",
       "    <tr>\n",
       "      <th>...</th>\n",
       "      <td>...</td>\n",
       "      <td>...</td>\n",
       "      <td>...</td>\n",
       "      <td>...</td>\n",
       "      <td>...</td>\n",
       "      <td>...</td>\n",
       "      <td>...</td>\n",
       "      <td>...</td>\n",
       "      <td>...</td>\n",
       "      <td>...</td>\n",
       "      <td>...</td>\n",
       "      <td>...</td>\n",
       "      <td>...</td>\n",
       "      <td>...</td>\n",
       "    </tr>\n",
       "    <tr>\n",
       "      <th>525</th>\n",
       "      <td>525</td>\n",
       "      <td>6mm_PMMA_ps_2</td>\n",
       "      <td>PMMA</td>\n",
       "      <td>transparent</td>\n",
       "      <td>regular</td>\n",
       "      <td>2023-04-19 10:38:07</td>\n",
       "      <td>0.832821</td>\n",
       "      <td>0.808876</td>\n",
       "      <td>0.514967</td>\n",
       "      <td>0.738722</td>\n",
       "      <td>0.464144</td>\n",
       "      <td>0.547595</td>\n",
       "      <td>0.422250</td>\n",
       "      <td>0.368787</td>\n",
       "    </tr>\n",
       "    <tr>\n",
       "      <th>526</th>\n",
       "      <td>526</td>\n",
       "      <td>6mm_PMMA_ps_3</td>\n",
       "      <td>PMMA</td>\n",
       "      <td>transparent</td>\n",
       "      <td>regular</td>\n",
       "      <td>2023-04-19 10:38:15</td>\n",
       "      <td>0.830209</td>\n",
       "      <td>0.808933</td>\n",
       "      <td>0.513852</td>\n",
       "      <td>0.738401</td>\n",
       "      <td>0.465182</td>\n",
       "      <td>0.549785</td>\n",
       "      <td>0.423300</td>\n",
       "      <td>0.368493</td>\n",
       "    </tr>\n",
       "    <tr>\n",
       "      <th>527</th>\n",
       "      <td>527</td>\n",
       "      <td>5mm_PMMA_ps_1</td>\n",
       "      <td>PMMA</td>\n",
       "      <td>transparent</td>\n",
       "      <td>regular</td>\n",
       "      <td>2023-04-19 10:38:43</td>\n",
       "      <td>0.879742</td>\n",
       "      <td>0.858014</td>\n",
       "      <td>0.578267</td>\n",
       "      <td>0.791279</td>\n",
       "      <td>0.523755</td>\n",
       "      <td>0.603892</td>\n",
       "      <td>0.473926</td>\n",
       "      <td>0.414917</td>\n",
       "    </tr>\n",
       "    <tr>\n",
       "      <th>528</th>\n",
       "      <td>528</td>\n",
       "      <td>5mm_PMMA_ps_2</td>\n",
       "      <td>PMMA</td>\n",
       "      <td>transparent</td>\n",
       "      <td>regular</td>\n",
       "      <td>2023-04-19 10:38:55</td>\n",
       "      <td>0.883224</td>\n",
       "      <td>0.858039</td>\n",
       "      <td>0.577939</td>\n",
       "      <td>0.795339</td>\n",
       "      <td>0.525530</td>\n",
       "      <td>0.606081</td>\n",
       "      <td>0.478420</td>\n",
       "      <td>0.416626</td>\n",
       "    </tr>\n",
       "    <tr>\n",
       "      <th>529</th>\n",
       "      <td>529</td>\n",
       "      <td>5mm_PMMA_ps_3</td>\n",
       "      <td>PMMA</td>\n",
       "      <td>transparent</td>\n",
       "      <td>regular</td>\n",
       "      <td>2023-04-19 10:39:04</td>\n",
       "      <td>0.888279</td>\n",
       "      <td>0.861209</td>\n",
       "      <td>0.579362</td>\n",
       "      <td>0.795345</td>\n",
       "      <td>0.523344</td>\n",
       "      <td>0.602647</td>\n",
       "      <td>0.476632</td>\n",
       "      <td>0.415716</td>\n",
       "    </tr>\n",
       "  </tbody>\n",
       "</table>\n",
       "<p>530 rows × 14 columns</p>\n",
       "</div>"
      ],
      "text/plain": [
       "     Reading           Name PlasticType        Color MeasurementType  \\\n",
       "0          0            NaN     unknown          NaN     calibration   \n",
       "1          1            ref   reference        white         regular   \n",
       "2          2            ref   reference        white         regular   \n",
       "3          3            ref   reference        white         regular   \n",
       "4          4  231_HDPE_ps_1        HDPE        white         regular   \n",
       "..       ...            ...         ...          ...             ...   \n",
       "525      525  6mm_PMMA_ps_2        PMMA  transparent         regular   \n",
       "526      526  6mm_PMMA_ps_3        PMMA  transparent         regular   \n",
       "527      527  5mm_PMMA_ps_1        PMMA  transparent         regular   \n",
       "528      528  5mm_PMMA_ps_2        PMMA  transparent         regular   \n",
       "529      529  5mm_PMMA_ps_3        PMMA  transparent         regular   \n",
       "\n",
       "                DateTime     nm940    nm1050    nm1200    nm1300    nm1450  \\\n",
       "0    2023-04-18 10:04:02  0.973705  0.976775  0.979756  0.976370  0.971059   \n",
       "1    2023-04-18 10:04:29  0.973271  0.976583  0.980009  0.976446  0.971009   \n",
       "2    2023-04-18 10:04:30  0.973405  0.976642  0.980211  0.976560  0.971185   \n",
       "3    2023-04-18 10:04:31  0.973489  0.976419  0.980293  0.976631  0.971142   \n",
       "4    2023-04-18 10:05:38  0.689385  0.702195  0.533146  0.602697  0.527902   \n",
       "..                   ...       ...       ...       ...       ...       ...   \n",
       "525  2023-04-19 10:38:07  0.832821  0.808876  0.514967  0.738722  0.464144   \n",
       "526  2023-04-19 10:38:15  0.830209  0.808933  0.513852  0.738401  0.465182   \n",
       "527  2023-04-19 10:38:43  0.879742  0.858014  0.578267  0.791279  0.523755   \n",
       "528  2023-04-19 10:38:55  0.883224  0.858039  0.577939  0.795339  0.525530   \n",
       "529  2023-04-19 10:39:04  0.888279  0.861209  0.579362  0.795345  0.523344   \n",
       "\n",
       "       nm1550    nm1650    nm1720  \n",
       "0    0.959982  0.962247  0.955662  \n",
       "1    0.960113  0.961977  0.955455  \n",
       "2    0.960179  0.961961  0.955411  \n",
       "3    0.960200  0.961852  0.955512  \n",
       "4    0.569531  0.591744  0.608363  \n",
       "..        ...       ...       ...  \n",
       "525  0.547595  0.422250  0.368787  \n",
       "526  0.549785  0.423300  0.368493  \n",
       "527  0.603892  0.473926  0.414917  \n",
       "528  0.606081  0.478420  0.416626  \n",
       "529  0.602647  0.476632  0.415716  \n",
       "\n",
       "[530 rows x 14 columns]"
      ]
     },
     "execution_count": 96,
     "metadata": {},
     "output_type": "execute_result"
    }
   ],
   "source": [
    "#make a new dataframe called df_norm that devides the columns from 'nm940' to 'nm1720' of the original dataframe by the mean values of the columns from 'nm940' to 'nm1720' in the df2 dataframe\n",
    "# while keeping the columns untill 'DateTime' from the original dataframe\n",
    "df_norm = df\n",
    "df_norm.loc[:, 'nm940':'nm1720'] = df.loc[:, 'nm940':'nm1720'].div(df_ref.loc[:, 'nm940':'nm1720'].mean())\n",
    "df_norm\n"
   ]
  },
  {
   "attachments": {},
   "cell_type": "markdown",
   "metadata": {},
   "source": [
    "# Filter for very dark or very bright samples"
   ]
  },
  {
   "cell_type": "code",
   "execution_count": 97,
   "metadata": {},
   "outputs": [
    {
     "data": {
      "text/html": [
       "<div>\n",
       "<style scoped>\n",
       "    .dataframe tbody tr th:only-of-type {\n",
       "        vertical-align: middle;\n",
       "    }\n",
       "\n",
       "    .dataframe tbody tr th {\n",
       "        vertical-align: top;\n",
       "    }\n",
       "\n",
       "    .dataframe thead th {\n",
       "        text-align: right;\n",
       "    }\n",
       "</style>\n",
       "<table border=\"1\" class=\"dataframe\">\n",
       "  <thead>\n",
       "    <tr style=\"text-align: right;\">\n",
       "      <th></th>\n",
       "      <th>Reading</th>\n",
       "      <th>Name</th>\n",
       "      <th>PlasticType</th>\n",
       "      <th>Color</th>\n",
       "      <th>MeasurementType</th>\n",
       "      <th>DateTime</th>\n",
       "      <th>nm940</th>\n",
       "      <th>nm1050</th>\n",
       "      <th>nm1200</th>\n",
       "      <th>nm1300</th>\n",
       "      <th>nm1450</th>\n",
       "      <th>nm1550</th>\n",
       "      <th>nm1650</th>\n",
       "      <th>nm1720</th>\n",
       "    </tr>\n",
       "  </thead>\n",
       "  <tbody>\n",
       "    <tr>\n",
       "      <th>0</th>\n",
       "      <td>0</td>\n",
       "      <td>NaN</td>\n",
       "      <td>unknown</td>\n",
       "      <td>NaN</td>\n",
       "      <td>calibration</td>\n",
       "      <td>2023-04-18 10:04:02</td>\n",
       "      <td>0.973705</td>\n",
       "      <td>0.976775</td>\n",
       "      <td>0.979756</td>\n",
       "      <td>0.976370</td>\n",
       "      <td>0.971059</td>\n",
       "      <td>0.959982</td>\n",
       "      <td>0.962247</td>\n",
       "      <td>0.955662</td>\n",
       "    </tr>\n",
       "    <tr>\n",
       "      <th>1</th>\n",
       "      <td>1</td>\n",
       "      <td>ref</td>\n",
       "      <td>reference</td>\n",
       "      <td>white</td>\n",
       "      <td>regular</td>\n",
       "      <td>2023-04-18 10:04:29</td>\n",
       "      <td>0.973271</td>\n",
       "      <td>0.976583</td>\n",
       "      <td>0.980009</td>\n",
       "      <td>0.976446</td>\n",
       "      <td>0.971009</td>\n",
       "      <td>0.960113</td>\n",
       "      <td>0.961977</td>\n",
       "      <td>0.955455</td>\n",
       "    </tr>\n",
       "    <tr>\n",
       "      <th>2</th>\n",
       "      <td>2</td>\n",
       "      <td>ref</td>\n",
       "      <td>reference</td>\n",
       "      <td>white</td>\n",
       "      <td>regular</td>\n",
       "      <td>2023-04-18 10:04:30</td>\n",
       "      <td>0.973405</td>\n",
       "      <td>0.976642</td>\n",
       "      <td>0.980211</td>\n",
       "      <td>0.976560</td>\n",
       "      <td>0.971185</td>\n",
       "      <td>0.960179</td>\n",
       "      <td>0.961961</td>\n",
       "      <td>0.955411</td>\n",
       "    </tr>\n",
       "    <tr>\n",
       "      <th>3</th>\n",
       "      <td>3</td>\n",
       "      <td>ref</td>\n",
       "      <td>reference</td>\n",
       "      <td>white</td>\n",
       "      <td>regular</td>\n",
       "      <td>2023-04-18 10:04:31</td>\n",
       "      <td>0.973489</td>\n",
       "      <td>0.976419</td>\n",
       "      <td>0.980293</td>\n",
       "      <td>0.976631</td>\n",
       "      <td>0.971142</td>\n",
       "      <td>0.960200</td>\n",
       "      <td>0.961852</td>\n",
       "      <td>0.955512</td>\n",
       "    </tr>\n",
       "    <tr>\n",
       "      <th>7</th>\n",
       "      <td>7</td>\n",
       "      <td>214_HDPE_ps_1</td>\n",
       "      <td>HDPE</td>\n",
       "      <td>white</td>\n",
       "      <td>regular</td>\n",
       "      <td>2023-04-18 10:08:33</td>\n",
       "      <td>0.977492</td>\n",
       "      <td>1.003183</td>\n",
       "      <td>0.830803</td>\n",
       "      <td>0.871922</td>\n",
       "      <td>0.737611</td>\n",
       "      <td>0.782426</td>\n",
       "      <td>0.790693</td>\n",
       "      <td>0.795310</td>\n",
       "    </tr>\n",
       "    <tr>\n",
       "      <th>...</th>\n",
       "      <td>...</td>\n",
       "      <td>...</td>\n",
       "      <td>...</td>\n",
       "      <td>...</td>\n",
       "      <td>...</td>\n",
       "      <td>...</td>\n",
       "      <td>...</td>\n",
       "      <td>...</td>\n",
       "      <td>...</td>\n",
       "      <td>...</td>\n",
       "      <td>...</td>\n",
       "      <td>...</td>\n",
       "      <td>...</td>\n",
       "      <td>...</td>\n",
       "    </tr>\n",
       "    <tr>\n",
       "      <th>525</th>\n",
       "      <td>525</td>\n",
       "      <td>6mm_PMMA_ps_2</td>\n",
       "      <td>PMMA</td>\n",
       "      <td>transparent</td>\n",
       "      <td>regular</td>\n",
       "      <td>2023-04-19 10:38:07</td>\n",
       "      <td>0.832821</td>\n",
       "      <td>0.808876</td>\n",
       "      <td>0.514967</td>\n",
       "      <td>0.738722</td>\n",
       "      <td>0.464144</td>\n",
       "      <td>0.547595</td>\n",
       "      <td>0.422250</td>\n",
       "      <td>0.368787</td>\n",
       "    </tr>\n",
       "    <tr>\n",
       "      <th>526</th>\n",
       "      <td>526</td>\n",
       "      <td>6mm_PMMA_ps_3</td>\n",
       "      <td>PMMA</td>\n",
       "      <td>transparent</td>\n",
       "      <td>regular</td>\n",
       "      <td>2023-04-19 10:38:15</td>\n",
       "      <td>0.830209</td>\n",
       "      <td>0.808933</td>\n",
       "      <td>0.513852</td>\n",
       "      <td>0.738401</td>\n",
       "      <td>0.465182</td>\n",
       "      <td>0.549785</td>\n",
       "      <td>0.423300</td>\n",
       "      <td>0.368493</td>\n",
       "    </tr>\n",
       "    <tr>\n",
       "      <th>527</th>\n",
       "      <td>527</td>\n",
       "      <td>5mm_PMMA_ps_1</td>\n",
       "      <td>PMMA</td>\n",
       "      <td>transparent</td>\n",
       "      <td>regular</td>\n",
       "      <td>2023-04-19 10:38:43</td>\n",
       "      <td>0.879742</td>\n",
       "      <td>0.858014</td>\n",
       "      <td>0.578267</td>\n",
       "      <td>0.791279</td>\n",
       "      <td>0.523755</td>\n",
       "      <td>0.603892</td>\n",
       "      <td>0.473926</td>\n",
       "      <td>0.414917</td>\n",
       "    </tr>\n",
       "    <tr>\n",
       "      <th>528</th>\n",
       "      <td>528</td>\n",
       "      <td>5mm_PMMA_ps_2</td>\n",
       "      <td>PMMA</td>\n",
       "      <td>transparent</td>\n",
       "      <td>regular</td>\n",
       "      <td>2023-04-19 10:38:55</td>\n",
       "      <td>0.883224</td>\n",
       "      <td>0.858039</td>\n",
       "      <td>0.577939</td>\n",
       "      <td>0.795339</td>\n",
       "      <td>0.525530</td>\n",
       "      <td>0.606081</td>\n",
       "      <td>0.478420</td>\n",
       "      <td>0.416626</td>\n",
       "    </tr>\n",
       "    <tr>\n",
       "      <th>529</th>\n",
       "      <td>529</td>\n",
       "      <td>5mm_PMMA_ps_3</td>\n",
       "      <td>PMMA</td>\n",
       "      <td>transparent</td>\n",
       "      <td>regular</td>\n",
       "      <td>2023-04-19 10:39:04</td>\n",
       "      <td>0.888279</td>\n",
       "      <td>0.861209</td>\n",
       "      <td>0.579362</td>\n",
       "      <td>0.795345</td>\n",
       "      <td>0.523344</td>\n",
       "      <td>0.602647</td>\n",
       "      <td>0.476632</td>\n",
       "      <td>0.415716</td>\n",
       "    </tr>\n",
       "  </tbody>\n",
       "</table>\n",
       "<p>294 rows × 14 columns</p>\n",
       "</div>"
      ],
      "text/plain": [
       "     Reading           Name PlasticType        Color MeasurementType  \\\n",
       "0          0            NaN     unknown          NaN     calibration   \n",
       "1          1            ref   reference        white         regular   \n",
       "2          2            ref   reference        white         regular   \n",
       "3          3            ref   reference        white         regular   \n",
       "7          7  214_HDPE_ps_1        HDPE        white         regular   \n",
       "..       ...            ...         ...          ...             ...   \n",
       "525      525  6mm_PMMA_ps_2        PMMA  transparent         regular   \n",
       "526      526  6mm_PMMA_ps_3        PMMA  transparent         regular   \n",
       "527      527  5mm_PMMA_ps_1        PMMA  transparent         regular   \n",
       "528      528  5mm_PMMA_ps_2        PMMA  transparent         regular   \n",
       "529      529  5mm_PMMA_ps_3        PMMA  transparent         regular   \n",
       "\n",
       "                DateTime     nm940    nm1050    nm1200    nm1300    nm1450  \\\n",
       "0    2023-04-18 10:04:02  0.973705  0.976775  0.979756  0.976370  0.971059   \n",
       "1    2023-04-18 10:04:29  0.973271  0.976583  0.980009  0.976446  0.971009   \n",
       "2    2023-04-18 10:04:30  0.973405  0.976642  0.980211  0.976560  0.971185   \n",
       "3    2023-04-18 10:04:31  0.973489  0.976419  0.980293  0.976631  0.971142   \n",
       "7    2023-04-18 10:08:33  0.977492  1.003183  0.830803  0.871922  0.737611   \n",
       "..                   ...       ...       ...       ...       ...       ...   \n",
       "525  2023-04-19 10:38:07  0.832821  0.808876  0.514967  0.738722  0.464144   \n",
       "526  2023-04-19 10:38:15  0.830209  0.808933  0.513852  0.738401  0.465182   \n",
       "527  2023-04-19 10:38:43  0.879742  0.858014  0.578267  0.791279  0.523755   \n",
       "528  2023-04-19 10:38:55  0.883224  0.858039  0.577939  0.795339  0.525530   \n",
       "529  2023-04-19 10:39:04  0.888279  0.861209  0.579362  0.795345  0.523344   \n",
       "\n",
       "       nm1550    nm1650    nm1720  \n",
       "0    0.959982  0.962247  0.955662  \n",
       "1    0.960113  0.961977  0.955455  \n",
       "2    0.960179  0.961961  0.955411  \n",
       "3    0.960200  0.961852  0.955512  \n",
       "7    0.782426  0.790693  0.795310  \n",
       "..        ...       ...       ...  \n",
       "525  0.547595  0.422250  0.368787  \n",
       "526  0.549785  0.423300  0.368493  \n",
       "527  0.603892  0.473926  0.414917  \n",
       "528  0.606081  0.478420  0.416626  \n",
       "529  0.602647  0.476632  0.415716  \n",
       "\n",
       "[294 rows x 14 columns]"
      ]
     },
     "execution_count": 97,
     "metadata": {},
     "output_type": "execute_result"
    }
   ],
   "source": [
    "# go through the df_norm dataframe and delete all the rows that have a value that is smaller than \"TooDark\"value in the column \"nm940\" and bigger than \"TooBright\" value in the column \"nm940\"\n",
    "TooBright = 1.2\n",
    "TooDark = 0.8\n",
    "df_norm = df_norm[(df_norm['nm940'] < TooBright) & (df_norm['nm940'] > TooDark)]\n",
    "df_norm"
   ]
  },
  {
   "attachments": {},
   "cell_type": "markdown",
   "metadata": {},
   "source": [
    "# Apply SNV filter"
   ]
  },
  {
   "cell_type": "code",
   "execution_count": 98,
   "metadata": {},
   "outputs": [
    {
     "name": "stderr",
     "output_type": "stream",
     "text": [
      "C:\\Users\\Jerry\\AppData\\Local\\Temp\\ipykernel_13832\\3671674907.py:4: SettingWithCopyWarning:\n",
      "\n",
      "\n",
      "A value is trying to be set on a copy of a slice from a DataFrame.\n",
      "Try using .loc[row_indexer,col_indexer] = value instead\n",
      "\n",
      "See the caveats in the documentation: https://pandas.pydata.org/pandas-docs/stable/user_guide/indexing.html#returning-a-view-versus-a-copy\n",
      "\n"
     ]
    },
    {
     "data": {
      "text/html": [
       "<div>\n",
       "<style scoped>\n",
       "    .dataframe tbody tr th:only-of-type {\n",
       "        vertical-align: middle;\n",
       "    }\n",
       "\n",
       "    .dataframe tbody tr th {\n",
       "        vertical-align: top;\n",
       "    }\n",
       "\n",
       "    .dataframe thead th {\n",
       "        text-align: right;\n",
       "    }\n",
       "</style>\n",
       "<table border=\"1\" class=\"dataframe\">\n",
       "  <thead>\n",
       "    <tr style=\"text-align: right;\">\n",
       "      <th></th>\n",
       "      <th>Reading</th>\n",
       "      <th>Name</th>\n",
       "      <th>PlasticType</th>\n",
       "      <th>Color</th>\n",
       "      <th>MeasurementType</th>\n",
       "      <th>DateTime</th>\n",
       "      <th>nm940</th>\n",
       "      <th>nm1050</th>\n",
       "      <th>nm1200</th>\n",
       "      <th>nm1300</th>\n",
       "      <th>nm1450</th>\n",
       "      <th>nm1550</th>\n",
       "      <th>nm1650</th>\n",
       "      <th>nm1720</th>\n",
       "    </tr>\n",
       "  </thead>\n",
       "  <tbody>\n",
       "    <tr>\n",
       "      <th>0</th>\n",
       "      <td>0</td>\n",
       "      <td>NaN</td>\n",
       "      <td>unknown</td>\n",
       "      <td>NaN</td>\n",
       "      <td>calibration</td>\n",
       "      <td>2023-04-18 10:04:02</td>\n",
       "      <td>0.476261</td>\n",
       "      <td>0.819509</td>\n",
       "      <td>1.152805</td>\n",
       "      <td>0.774235</td>\n",
       "      <td>0.180492</td>\n",
       "      <td>-1.057873</td>\n",
       "      <td>-0.804615</td>\n",
       "      <td>-1.540812</td>\n",
       "    </tr>\n",
       "    <tr>\n",
       "      <th>1</th>\n",
       "      <td>1</td>\n",
       "      <td>ref</td>\n",
       "      <td>reference</td>\n",
       "      <td>white</td>\n",
       "      <td>regular</td>\n",
       "      <td>2023-04-18 10:04:29</td>\n",
       "      <td>0.434693</td>\n",
       "      <td>0.802629</td>\n",
       "      <td>1.183331</td>\n",
       "      <td>0.787462</td>\n",
       "      <td>0.183465</td>\n",
       "      <td>-1.027033</td>\n",
       "      <td>-0.820015</td>\n",
       "      <td>-1.544532</td>\n",
       "    </tr>\n",
       "    <tr>\n",
       "      <th>2</th>\n",
       "      <td>2</td>\n",
       "      <td>ref</td>\n",
       "      <td>reference</td>\n",
       "      <td>white</td>\n",
       "      <td>regular</td>\n",
       "      <td>2023-04-18 10:04:30</td>\n",
       "      <td>0.436720</td>\n",
       "      <td>0.793570</td>\n",
       "      <td>1.187062</td>\n",
       "      <td>0.784519</td>\n",
       "      <td>0.191921</td>\n",
       "      <td>-1.021516</td>\n",
       "      <td>-0.825058</td>\n",
       "      <td>-1.547219</td>\n",
       "    </tr>\n",
       "    <tr>\n",
       "      <th>3</th>\n",
       "      <td>3</td>\n",
       "      <td>ref</td>\n",
       "      <td>reference</td>\n",
       "      <td>white</td>\n",
       "      <td>regular</td>\n",
       "      <td>2023-04-18 10:04:31</td>\n",
       "      <td>0.446738</td>\n",
       "      <td>0.770154</td>\n",
       "      <td>1.197793</td>\n",
       "      <td>0.793581</td>\n",
       "      <td>0.187625</td>\n",
       "      <td>-1.020259</td>\n",
       "      <td>-0.837914</td>\n",
       "      <td>-1.537718</td>\n",
       "    </tr>\n",
       "    <tr>\n",
       "      <th>7</th>\n",
       "      <td>7</td>\n",
       "      <td>214_HDPE_ps_1</td>\n",
       "      <td>HDPE</td>\n",
       "      <td>white</td>\n",
       "      <td>regular</td>\n",
       "      <td>2023-04-18 10:08:33</td>\n",
       "      <td>1.344420</td>\n",
       "      <td>1.612552</td>\n",
       "      <td>-0.186581</td>\n",
       "      <td>0.242579</td>\n",
       "      <td>-1.159231</td>\n",
       "      <td>-0.691498</td>\n",
       "      <td>-0.605218</td>\n",
       "      <td>-0.557025</td>\n",
       "    </tr>\n",
       "    <tr>\n",
       "      <th>...</th>\n",
       "      <td>...</td>\n",
       "      <td>...</td>\n",
       "      <td>...</td>\n",
       "      <td>...</td>\n",
       "      <td>...</td>\n",
       "      <td>...</td>\n",
       "      <td>...</td>\n",
       "      <td>...</td>\n",
       "      <td>...</td>\n",
       "      <td>...</td>\n",
       "      <td>...</td>\n",
       "      <td>...</td>\n",
       "      <td>...</td>\n",
       "      <td>...</td>\n",
       "    </tr>\n",
       "    <tr>\n",
       "      <th>525</th>\n",
       "      <td>525</td>\n",
       "      <td>6mm_PMMA_ps_2</td>\n",
       "      <td>PMMA</td>\n",
       "      <td>transparent</td>\n",
       "      <td>regular</td>\n",
       "      <td>2023-04-19 10:38:07</td>\n",
       "      <td>1.356803</td>\n",
       "      <td>1.224490</td>\n",
       "      <td>-0.399512</td>\n",
       "      <td>0.836853</td>\n",
       "      <td>-0.680338</td>\n",
       "      <td>-0.219230</td>\n",
       "      <td>-0.911825</td>\n",
       "      <td>-1.207240</td>\n",
       "    </tr>\n",
       "    <tr>\n",
       "      <th>526</th>\n",
       "      <td>526</td>\n",
       "      <td>6mm_PMMA_ps_3</td>\n",
       "      <td>PMMA</td>\n",
       "      <td>transparent</td>\n",
       "      <td>regular</td>\n",
       "      <td>2023-04-19 10:38:15</td>\n",
       "      <td>1.347752</td>\n",
       "      <td>1.229717</td>\n",
       "      <td>-0.407299</td>\n",
       "      <td>0.838428</td>\n",
       "      <td>-0.677299</td>\n",
       "      <td>-0.207951</td>\n",
       "      <td>-0.909647</td>\n",
       "      <td>-1.213701</td>\n",
       "    </tr>\n",
       "    <tr>\n",
       "      <th>527</th>\n",
       "      <td>527</td>\n",
       "      <td>5mm_PMMA_ps_1</td>\n",
       "      <td>PMMA</td>\n",
       "      <td>transparent</td>\n",
       "      <td>regular</td>\n",
       "      <td>2023-04-19 10:38:43</td>\n",
       "      <td>1.335285</td>\n",
       "      <td>1.214027</td>\n",
       "      <td>-0.347159</td>\n",
       "      <td>0.841597</td>\n",
       "      <td>-0.651375</td>\n",
       "      <td>-0.204151</td>\n",
       "      <td>-0.929456</td>\n",
       "      <td>-1.258766</td>\n",
       "    </tr>\n",
       "    <tr>\n",
       "      <th>528</th>\n",
       "      <td>528</td>\n",
       "      <td>5mm_PMMA_ps_2</td>\n",
       "      <td>PMMA</td>\n",
       "      <td>transparent</td>\n",
       "      <td>regular</td>\n",
       "      <td>2023-04-19 10:38:55</td>\n",
       "      <td>1.342208</td>\n",
       "      <td>1.201699</td>\n",
       "      <td>-0.361034</td>\n",
       "      <td>0.851883</td>\n",
       "      <td>-0.653435</td>\n",
       "      <td>-0.204021</td>\n",
       "      <td>-0.916269</td>\n",
       "      <td>-1.261030</td>\n",
       "    </tr>\n",
       "    <tr>\n",
       "      <th>529</th>\n",
       "      <td>529</td>\n",
       "      <td>5mm_PMMA_ps_3</td>\n",
       "      <td>PMMA</td>\n",
       "      <td>transparent</td>\n",
       "      <td>regular</td>\n",
       "      <td>2023-04-19 10:39:04</td>\n",
       "      <td>1.353224</td>\n",
       "      <td>1.203989</td>\n",
       "      <td>-0.349824</td>\n",
       "      <td>0.840885</td>\n",
       "      <td>-0.658650</td>\n",
       "      <td>-0.221454</td>\n",
       "      <td>-0.916170</td>\n",
       "      <td>-1.251999</td>\n",
       "    </tr>\n",
       "  </tbody>\n",
       "</table>\n",
       "<p>294 rows × 14 columns</p>\n",
       "</div>"
      ],
      "text/plain": [
       "     Reading           Name PlasticType        Color MeasurementType  \\\n",
       "0          0            NaN     unknown          NaN     calibration   \n",
       "1          1            ref   reference        white         regular   \n",
       "2          2            ref   reference        white         regular   \n",
       "3          3            ref   reference        white         regular   \n",
       "7          7  214_HDPE_ps_1        HDPE        white         regular   \n",
       "..       ...            ...         ...          ...             ...   \n",
       "525      525  6mm_PMMA_ps_2        PMMA  transparent         regular   \n",
       "526      526  6mm_PMMA_ps_3        PMMA  transparent         regular   \n",
       "527      527  5mm_PMMA_ps_1        PMMA  transparent         regular   \n",
       "528      528  5mm_PMMA_ps_2        PMMA  transparent         regular   \n",
       "529      529  5mm_PMMA_ps_3        PMMA  transparent         regular   \n",
       "\n",
       "                DateTime     nm940    nm1050    nm1200    nm1300    nm1450  \\\n",
       "0    2023-04-18 10:04:02  0.476261  0.819509  1.152805  0.774235  0.180492   \n",
       "1    2023-04-18 10:04:29  0.434693  0.802629  1.183331  0.787462  0.183465   \n",
       "2    2023-04-18 10:04:30  0.436720  0.793570  1.187062  0.784519  0.191921   \n",
       "3    2023-04-18 10:04:31  0.446738  0.770154  1.197793  0.793581  0.187625   \n",
       "7    2023-04-18 10:08:33  1.344420  1.612552 -0.186581  0.242579 -1.159231   \n",
       "..                   ...       ...       ...       ...       ...       ...   \n",
       "525  2023-04-19 10:38:07  1.356803  1.224490 -0.399512  0.836853 -0.680338   \n",
       "526  2023-04-19 10:38:15  1.347752  1.229717 -0.407299  0.838428 -0.677299   \n",
       "527  2023-04-19 10:38:43  1.335285  1.214027 -0.347159  0.841597 -0.651375   \n",
       "528  2023-04-19 10:38:55  1.342208  1.201699 -0.361034  0.851883 -0.653435   \n",
       "529  2023-04-19 10:39:04  1.353224  1.203989 -0.349824  0.840885 -0.658650   \n",
       "\n",
       "       nm1550    nm1650    nm1720  \n",
       "0   -1.057873 -0.804615 -1.540812  \n",
       "1   -1.027033 -0.820015 -1.544532  \n",
       "2   -1.021516 -0.825058 -1.547219  \n",
       "3   -1.020259 -0.837914 -1.537718  \n",
       "7   -0.691498 -0.605218 -0.557025  \n",
       "..        ...       ...       ...  \n",
       "525 -0.219230 -0.911825 -1.207240  \n",
       "526 -0.207951 -0.909647 -1.213701  \n",
       "527 -0.204151 -0.929456 -1.258766  \n",
       "528 -0.204021 -0.916269 -1.261030  \n",
       "529 -0.221454 -0.916170 -1.251999  \n",
       "\n",
       "[294 rows x 14 columns]"
      ]
     },
     "execution_count": 98,
     "metadata": {},
     "output_type": "execute_result"
    }
   ],
   "source": [
    "#make a new dataframe called df_snv that does and SNV transformation for each of the rows from 'nm940' to 'nm1720' of the df_norm dataframe\n",
    "# while keeping the columns untill 'DateTime' from the original dataframe\n",
    "df_snv = df_norm\n",
    "df_snv.loc[:, 'nm940':'nm1720'] = df_norm.loc[:, 'nm940':'nm1720'].sub(df_norm.loc[:, 'nm940':'nm1720'].mean(axis=1), axis=0).div(df_norm.loc[:, 'nm940':'nm1720'].std(axis=1), axis=0)\n",
    "df_snv"
   ]
  },
  {
   "cell_type": "code",
   "execution_count": 99,
   "metadata": {},
   "outputs": [
    {
     "name": "stderr",
     "output_type": "stream",
     "text": [
      "C:\\Users\\Jerry\\AppData\\Local\\Temp\\ipykernel_13832\\3219260488.py:2: FutureWarning:\n",
      "\n",
      "The default value of numeric_only in DataFrameGroupBy.mean is deprecated. In a future version, numeric_only will default to False. Either specify numeric_only or select only columns which should be valid for the function.\n",
      "\n"
     ]
    },
    {
     "data": {
      "text/html": [
       "<div>\n",
       "<style scoped>\n",
       "    .dataframe tbody tr th:only-of-type {\n",
       "        vertical-align: middle;\n",
       "    }\n",
       "\n",
       "    .dataframe tbody tr th {\n",
       "        vertical-align: top;\n",
       "    }\n",
       "\n",
       "    .dataframe thead th {\n",
       "        text-align: right;\n",
       "    }\n",
       "</style>\n",
       "<table border=\"1\" class=\"dataframe\">\n",
       "  <thead>\n",
       "    <tr style=\"text-align: right;\">\n",
       "      <th></th>\n",
       "      <th>PlasticType</th>\n",
       "      <th>nm940</th>\n",
       "      <th>nm1050</th>\n",
       "      <th>nm1200</th>\n",
       "      <th>nm1300</th>\n",
       "      <th>nm1450</th>\n",
       "      <th>nm1550</th>\n",
       "      <th>nm1650</th>\n",
       "      <th>nm1720</th>\n",
       "    </tr>\n",
       "  </thead>\n",
       "  <tbody>\n",
       "    <tr>\n",
       "      <th>0</th>\n",
       "      <td>HDPE</td>\n",
       "      <td>1.516875</td>\n",
       "      <td>1.441624</td>\n",
       "      <td>-0.466035</td>\n",
       "      <td>0.170684</td>\n",
       "      <td>-0.950524</td>\n",
       "      <td>-0.692009</td>\n",
       "      <td>-0.523711</td>\n",
       "      <td>-0.496905</td>\n",
       "    </tr>\n",
       "    <tr>\n",
       "      <th>1</th>\n",
       "      <td>PET</td>\n",
       "      <td>0.886844</td>\n",
       "      <td>0.520006</td>\n",
       "      <td>0.422494</td>\n",
       "      <td>0.562697</td>\n",
       "      <td>-0.120918</td>\n",
       "      <td>-0.061704</td>\n",
       "      <td>-1.023368</td>\n",
       "      <td>-1.186051</td>\n",
       "    </tr>\n",
       "    <tr>\n",
       "      <th>2</th>\n",
       "      <td>PP</td>\n",
       "      <td>1.402294</td>\n",
       "      <td>1.188191</td>\n",
       "      <td>-0.819817</td>\n",
       "      <td>0.498424</td>\n",
       "      <td>-0.710707</td>\n",
       "      <td>-0.282707</td>\n",
       "      <td>-0.546969</td>\n",
       "      <td>-0.728709</td>\n",
       "    </tr>\n",
       "    <tr>\n",
       "      <th>3</th>\n",
       "      <td>PS</td>\n",
       "      <td>1.075542</td>\n",
       "      <td>0.952366</td>\n",
       "      <td>-0.013984</td>\n",
       "      <td>0.542027</td>\n",
       "      <td>0.067293</td>\n",
       "      <td>0.123204</td>\n",
       "      <td>-1.005187</td>\n",
       "      <td>-1.741263</td>\n",
       "    </tr>\n",
       "  </tbody>\n",
       "</table>\n",
       "</div>"
      ],
      "text/plain": [
       "  PlasticType     nm940    nm1050    nm1200    nm1300    nm1450    nm1550  \\\n",
       "0        HDPE  1.516875  1.441624 -0.466035  0.170684 -0.950524 -0.692009   \n",
       "1         PET  0.886844  0.520006  0.422494  0.562697 -0.120918 -0.061704   \n",
       "2          PP  1.402294  1.188191 -0.819817  0.498424 -0.710707 -0.282707   \n",
       "3          PS  1.075542  0.952366 -0.013984  0.542027  0.067293  0.123204   \n",
       "\n",
       "     nm1650    nm1720  \n",
       "0 -0.523711 -0.496905  \n",
       "1 -1.023368 -1.186051  \n",
       "2 -0.546969 -0.728709  \n",
       "3 -1.005187 -1.741263  "
      ]
     },
     "execution_count": 99,
     "metadata": {},
     "output_type": "execute_result"
    }
   ],
   "source": [
    "#make a new dataframe the calculates the mean of the rows from 'nm940' to 'nm1720' of the df_snv dataframe grouped by the PlasticType column\n",
    "df_snv_mean = df_snv.groupby('PlasticType').mean()\n",
    "#and drop the Reading column\n",
    "df_snv_mean = df_snv_mean.drop(columns=['Reading'])\n",
    "#and drop the reference and unknown rows\n",
    "df_snv_mean = df_snv_mean.drop(index=['reference', 'unknown'])\n",
    "#make the index of the df_snv_mean dataframe into a column\n",
    "df_snv_mean = df_snv_mean.reset_index()\n",
    "#drop the PlasticTypes that are not \"PET\", \"HDPE\", \"PP\", \"PS\"\n",
    "df_snv_mean = df_snv_mean[df_snv_mean['PlasticType'].isin(['PET', 'HDPE', 'PP', 'PS'])]\n",
    "df_snv_mean = df_snv_mean.reset_index(drop=True)\n",
    "df_snv_mean"
   ]
  },
  {
   "cell_type": "code",
   "execution_count": 100,
   "metadata": {},
   "outputs": [
    {
     "data": {
      "text/html": [
       "<div>\n",
       "<style scoped>\n",
       "    .dataframe tbody tr th:only-of-type {\n",
       "        vertical-align: middle;\n",
       "    }\n",
       "\n",
       "    .dataframe tbody tr th {\n",
       "        vertical-align: top;\n",
       "    }\n",
       "\n",
       "    .dataframe thead th {\n",
       "        text-align: right;\n",
       "    }\n",
       "</style>\n",
       "<table border=\"1\" class=\"dataframe\">\n",
       "  <thead>\n",
       "    <tr style=\"text-align: right;\">\n",
       "      <th>PlasticType</th>\n",
       "      <th>wavelength</th>\n",
       "      <th>HDPE</th>\n",
       "      <th>PET</th>\n",
       "      <th>PP</th>\n",
       "      <th>PS</th>\n",
       "    </tr>\n",
       "  </thead>\n",
       "  <tbody>\n",
       "    <tr>\n",
       "      <th>0</th>\n",
       "      <td>nm940</td>\n",
       "      <td>1.516875</td>\n",
       "      <td>0.886844</td>\n",
       "      <td>1.402294</td>\n",
       "      <td>1.075542</td>\n",
       "    </tr>\n",
       "    <tr>\n",
       "      <th>1</th>\n",
       "      <td>nm1050</td>\n",
       "      <td>1.441624</td>\n",
       "      <td>0.520006</td>\n",
       "      <td>1.188191</td>\n",
       "      <td>0.952366</td>\n",
       "    </tr>\n",
       "    <tr>\n",
       "      <th>2</th>\n",
       "      <td>nm1200</td>\n",
       "      <td>-0.466035</td>\n",
       "      <td>0.422494</td>\n",
       "      <td>-0.819817</td>\n",
       "      <td>-0.013984</td>\n",
       "    </tr>\n",
       "    <tr>\n",
       "      <th>3</th>\n",
       "      <td>nm1300</td>\n",
       "      <td>0.170684</td>\n",
       "      <td>0.562697</td>\n",
       "      <td>0.498424</td>\n",
       "      <td>0.542027</td>\n",
       "    </tr>\n",
       "    <tr>\n",
       "      <th>4</th>\n",
       "      <td>nm1450</td>\n",
       "      <td>-0.950524</td>\n",
       "      <td>-0.120918</td>\n",
       "      <td>-0.710707</td>\n",
       "      <td>0.067293</td>\n",
       "    </tr>\n",
       "    <tr>\n",
       "      <th>5</th>\n",
       "      <td>nm1550</td>\n",
       "      <td>-0.692009</td>\n",
       "      <td>-0.061704</td>\n",
       "      <td>-0.282707</td>\n",
       "      <td>0.123204</td>\n",
       "    </tr>\n",
       "    <tr>\n",
       "      <th>6</th>\n",
       "      <td>nm1650</td>\n",
       "      <td>-0.523711</td>\n",
       "      <td>-1.023368</td>\n",
       "      <td>-0.546969</td>\n",
       "      <td>-1.005187</td>\n",
       "    </tr>\n",
       "    <tr>\n",
       "      <th>7</th>\n",
       "      <td>nm1720</td>\n",
       "      <td>-0.496905</td>\n",
       "      <td>-1.186051</td>\n",
       "      <td>-0.728709</td>\n",
       "      <td>-1.741263</td>\n",
       "    </tr>\n",
       "  </tbody>\n",
       "</table>\n",
       "</div>"
      ],
      "text/plain": [
       "PlasticType wavelength      HDPE       PET        PP        PS\n",
       "0                nm940  1.516875  0.886844  1.402294  1.075542\n",
       "1               nm1050  1.441624  0.520006  1.188191  0.952366\n",
       "2               nm1200 -0.466035  0.422494 -0.819817 -0.013984\n",
       "3               nm1300  0.170684  0.562697  0.498424  0.542027\n",
       "4               nm1450 -0.950524 -0.120918 -0.710707  0.067293\n",
       "5               nm1550 -0.692009 -0.061704 -0.282707  0.123204\n",
       "6               nm1650 -0.523711 -1.023368 -0.546969 -1.005187\n",
       "7               nm1720 -0.496905 -1.186051 -0.728709 -1.741263"
      ]
     },
     "execution_count": 100,
     "metadata": {},
     "output_type": "execute_result"
    }
   ],
   "source": [
    "#transpose the dataframe so the rows have the wavelengths and the columns have the plastic types\n",
    "df_snv_mean = df_snv_mean.T\n",
    "#make the first row the column names\n",
    "df_snv_mean.columns = df_snv_mean.iloc[0]\n",
    "#drop the first row\n",
    "df_snv_mean = df_snv_mean.drop(df_snv_mean.index[0])\n",
    "#reset the index\n",
    "df_snv_mean = df_snv_mean.reset_index()\n",
    "#rename the index column to wavelength\n",
    "df_snv_mean = df_snv_mean.rename(columns={'index': 'wavelength'})\n",
    "df_snv_mean\n"
   ]
  },
  {
   "cell_type": "code",
   "execution_count": 102,
   "metadata": {},
   "outputs": [],
   "source": [
    "#df_snv_toplot = df_snv                                                                                          #continue with all samples\n",
    "df_snv_toplot.loc[~df_snv_toplot['PlasticType'].isin(['PET', 'HDPE', 'PP', 'PS']), 'PlasticType'] = 'other'    #continue with only PET, HDPE, PP, PS and other\n",
    "#df_snv_toplot = df_snv[df_snv['PlasticType'].isin(['PET', 'HDPE', 'PP', 'PS'])]                                #continue with only PET, HDPE, PP, PS\n",
    "df_snv_toplot = df_snv_toplot.reset_index(drop=True)"
   ]
  },
  {
   "cell_type": "code",
   "execution_count": 103,
   "metadata": {},
   "outputs": [],
   "source": [
    "#make a pairplot of df_snv from the columns \"nm940\" to \"nm1720\" with seanborn, color based on the PlasticType column\n",
    "#import seaborn as sns\n",
    "#sns.pairplot(df_snv_toplot, hue=\"PlasticType\", vars=[\"nm940\",\"nm1050\",\"nm1200\",\"nm1300\",\"nm1450\",\"nm1550\",\"nm1650\",\"nm1720\" ])"
   ]
  },
  {
   "cell_type": "code",
   "execution_count": 104,
   "metadata": {},
   "outputs": [
    {
     "data": {
      "application/vnd.plotly.v1+json": {
       "config": {
        "plotlyServerURL": "https://plot.ly"
       },
       "data": [
        {
         "hovertemplate": "PlasticType=other<br>nm1200=%{x}<br>nm1450=%{y}<br>nm1720=%{z}<extra></extra>",
         "legendgroup": "other",
         "marker": {
          "color": "#636efa",
          "symbol": "circle"
         },
         "mode": "markers",
         "name": "other",
         "scene": "scene",
         "showlegend": true,
         "type": "scatter3d",
         "x": [
          1.1528050971439712,
          1.1833307746758188,
          1.1870624751219898,
          1.1977929661094728,
          -1.7340450773048615,
          -1.7472885472603652,
          -1.1395817499405327,
          -1.1175229119101218,
          -1.3704667453566168,
          -0.7572925125066304,
          -1.2331913095039932,
          -0.48689702877327373,
          -0.4857119925007693,
          -0.24375701820294524,
          -0.13783602956270447,
          -0.7288936561752619,
          -1.2168972074951112,
          -0.7709097218038462,
          -1.1293564613723788,
          -0.21217595815292276,
          -0.20266979106165425,
          -0.21931605089842765,
          -0.4805451594372925,
          -0.4658827545660544,
          -0.693470259921273,
          1.1635507033766206,
          1.174628627075776,
          0.11216020129937468,
          0.12605350201952212,
          0.04800108984572014,
          0.19856682270123624,
          0.17896903806422862,
          0.21122922443086734,
          0.08445585865120916,
          0.07674625229058599,
          0.08790199734080202,
          0.18543227569531595,
          0.24949219834723385,
          0.17630101795187605,
          -0.2104311273078854,
          -0.2300853357719852,
          -0.21310608861934557,
          -0.24127008169360495,
          -0.3132859638878318,
          -0.2868103839580993,
          -0.3100453267799188,
          -0.1089788847169177,
          -0.09782114436702037,
          -0.09367639970426928,
          0.12706106292411032,
          0.1344247645566513,
          0.09728141608675611,
          -0.42241871325122554,
          -0.39951221684508703,
          -0.40729875468296545,
          -0.3471592505418208,
          -0.3610337370238628,
          -0.3498241351849935
         ],
         "y": [
          0.18049176515029328,
          0.1834648982836012,
          0.19192113996153728,
          0.18762530415116416,
          -0.18762000805145035,
          -0.16441015419779234,
          -0.7530983307021921,
          -0.776439425983721,
          -0.08006312058742424,
          0.27827502678845034,
          -0.12526178788878334,
          0.06405199659223995,
          0.07467265604988532,
          -0.3182780166891613,
          -0.27834725472388955,
          -0.32304174615408926,
          0.08513298277577049,
          -0.3436554314824578,
          0.0036702944857032113,
          -0.6101982438158363,
          -0.47813472462896717,
          -0.6297389832713588,
          -0.2817059225295105,
          -0.34605105497152994,
          -0.8548538310986683,
          0.4442042870784184,
          0.5678835155101619,
          -0.2244075713238928,
          -0.22114917013617597,
          -0.3119297887192051,
          -0.2085377476883777,
          -0.17716247769977175,
          -0.2610338024948074,
          -0.4065933297797699,
          -0.337182824186635,
          -0.4264569086906461,
          -0.2764178050758773,
          -0.36930241257409907,
          -0.2080979936118877,
          -0.4009692839029286,
          -0.5521348356799886,
          -0.5388228943884213,
          -0.554711938595842,
          -0.6076329337546713,
          -0.6025680654333421,
          -0.6061158113981536,
          -0.4592693976079478,
          -0.44029416016570466,
          -0.44070631509879926,
          0.02869057923586791,
          0.028929586302168242,
          0.03497742374839468,
          -0.6765952097868017,
          -0.680338454831499,
          -0.6772990806532206,
          -0.6513753890865057,
          -0.6534347297927027,
          -0.6586495363338821
         ],
         "z": [
          -1.540812358294118,
          -1.544532258425658,
          -1.5472186982570162,
          -1.5377184931868242,
          0.7636350999043853,
          0.7271955179223312,
          1.5823553133077766,
          1.5771040199247204,
          -0.03468268280686796,
          -0.697416941776298,
          1.6724466111748848,
          1.4469790135431315,
          1.4635774077112078,
          -1.8358051858734679,
          -1.8991512970850921,
          -1.460193487616362,
          -1.6717296096161762,
          -1.7332424793389885,
          -1.6232423186509939,
          -1.4966943563253423,
          -1.5264735670868395,
          -1.5018869744096321,
          -1.388417494018833,
          -1.5006870740483216,
          -0.876875702367178,
          0.6355980224123252,
          0.8074421938844196,
          -1.611424648805063,
          -1.6057744178630635,
          -1.6104758870441567,
          -1.5696932967487445,
          -1.623479486786316,
          -1.566523390925562,
          -1.3404792795248033,
          -1.3632009077309886,
          -1.319445401554832,
          -1.6262647081421089,
          -1.5837579871093164,
          -1.6647104816967966,
          -1.1675295303878288,
          -1.437433421161082,
          -1.4520185936384,
          -1.4318720528664584,
          -1.336057567833195,
          -1.3485231621093803,
          -1.3525916745614508,
          -1.578208604643592,
          -1.5866165895766662,
          -1.5889793532625116,
          -1.7473572539115787,
          -1.7491460475551042,
          -1.7548347431390037,
          -1.2064689901788685,
          -1.2072401318011865,
          -1.2137013018493163,
          -1.2587659986403932,
          -1.2610303890338237,
          -1.2519993441414063
         ]
        },
        {
         "hovertemplate": "PlasticType=HDPE<br>nm1200=%{x}<br>nm1450=%{y}<br>nm1720=%{z}<extra></extra>",
         "legendgroup": "HDPE",
         "marker": {
          "color": "#EF553B",
          "symbol": "circle"
         },
         "mode": "markers",
         "name": "HDPE",
         "scene": "scene",
         "showlegend": true,
         "type": "scatter3d",
         "x": [
          -0.1865807128182544,
          -0.27408338291888235,
          -0.38582046957652505,
          -0.5545731414056657,
          -0.6998396112004844,
          -1.186387821205659,
          -1.3892850377598769,
          -0.7182657492490855,
          -0.36873104526276007,
          -0.5403714412274073,
          -0.33251882775047364,
          -0.6900565172513777,
          -0.5212560034894949,
          -0.9205240112725201,
          -0.6573603960041932,
          -0.21766503928399047,
          -0.20305227340385382,
          -0.05636308640768615,
          -0.17685602541654985,
          -0.025884331674030783,
          -0.7070377944776126,
          -0.49392202837981103,
          -0.47696871926234247,
          -0.3810361657615655,
          -0.4272863228071211,
          -0.4588480418911189,
          -0.5734030631118907,
          -0.574761866376808,
          -0.08165778680117393,
          0.29935783066078225
         ],
         "y": [
          -1.159231154635158,
          -0.9339972395855538,
          -0.8498247744157615,
          -0.8742446722022578,
          -1.2274472487610602,
          -0.9410797384849476,
          -0.972967991326025,
          -0.7326683998820283,
          -0.8821138881404224,
          -1.1134523655098645,
          -0.8580291767274242,
          -1.3089553193681702,
          -0.906744720748651,
          -1.1900381250003205,
          -0.9770419900743855,
          -0.8325448188955032,
          -0.7937939713004148,
          -0.7974789537976076,
          -0.5435549625854527,
          -0.8173272164168187,
          -0.8146585033874548,
          -0.9494890927164608,
          -1.0462828150905545,
          -0.9875157557786398,
          -0.8321678504009371,
          -0.8749265449353805,
          -1.1265685759851245,
          -1.0486260484223462,
          -0.9991431099562088,
          -1.1238130056000661
         ],
         "z": [
          -0.5570248799163886,
          -0.43518256393723825,
          -0.4503571089076489,
          -0.6940074647908905,
          -0.060230340002448444,
          -0.19284375276978163,
          0.5165665596162018,
          -0.06913487627054252,
          -0.4955361373220883,
          -0.6253338521560237,
          -0.6800794624481513,
          -0.02722389926346145,
          -0.46306697929275015,
          0.044932820893438974,
          -0.34585060611849705,
          -0.7269248311135608,
          -0.7889066773138501,
          -0.9887939531219269,
          -0.801527760757339,
          -0.8056245021299546,
          -0.7424855494696867,
          -0.7192256106084042,
          -0.36984038385153806,
          -0.7478881684646098,
          -0.7275030655853645,
          -1.0015554174963852,
          -0.8443983095037583,
          -0.28342550876659206,
          -0.4162357051796381,
          -0.40843416793201137
         ]
        },
        {
         "hovertemplate": "PlasticType=PP<br>nm1200=%{x}<br>nm1450=%{y}<br>nm1720=%{z}<extra></extra>",
         "legendgroup": "PP",
         "marker": {
          "color": "#00cc96",
          "symbol": "circle"
         },
         "mode": "markers",
         "name": "PP",
         "scene": "scene",
         "showlegend": true,
         "type": "scatter3d",
         "x": [
          -0.5642592940858487,
          -0.646105074848451,
          1.0222351593999124,
          -0.8264841611975731,
          -0.6714835523913513,
          -0.5511047981942285,
          -0.7432294673310021,
          -0.7760032211418788,
          -0.8132575344696862,
          -0.6188498111259537,
          -2.0806790305863365,
          -0.7780264986262306,
          -1.2585828673143553,
          -1.1911116208238266,
          -1.0539940054246402,
          -1.0826974865061851,
          -1.0609049801929584,
          -0.9287765161394679,
          -0.24642141198034462,
          -1.2956934495205867,
          -1.4019892214946477,
          -1.573177583306638,
          -0.7267857038899669,
          -0.7476447930294832,
          -0.5342090180102999,
          -0.6799111404548658,
          -0.7997586873674601,
          -0.5805222632970048,
          -0.7159103772371982,
          -0.8358907148497159,
          -0.800880927418526,
          -0.8013790903084884,
          -1.5888884252825861,
          -1.535967029154781,
          -0.9685610079671216,
          -0.7772588143833145,
          -0.4354326016002051,
          -0.6326640445978703,
          -0.3533005296172754,
          -0.843470648409771,
          -0.7712380291195778,
          -1.5109442176223293,
          -1.2408159044174767,
          -1.4305655886803688,
          -0.8066485265535395,
          -0.7449151885709125,
          -0.7777338493711083,
          -0.09019436742265442,
          -0.6077558079699888,
          -0.5243167415263233,
          -0.74464619496012,
          -0.7513284171676019,
          -0.5490251984763875,
          0.3487474916732873,
          0.1290849787456285,
          -0.8559193505261493,
          -1.1157223269430505,
          -0.9866355522301943,
          -1.2863181976327143,
          -1.6232444105361812,
          -2.0267805315763856,
          -0.6410922248002835,
          -1.1030365028888893,
          -1.1246491163399186,
          -0.5257880536585683,
          -0.48278310465771324,
          -0.7568038392596269,
          -1.9845435787729728,
          -0.30570838303950604,
          -0.4407897490889025,
          -0.5584687686712675,
          -0.5148860217891696,
          -0.6140427600204487,
          -0.7928716087899396,
          -0.10860565604220253,
          -0.5410399234996899,
          -0.78732709110252,
          -0.850154987087584,
          -0.8309879700822308,
          -1.1825803870305636,
          -1.048790428819421,
          -1.824667371355042,
          -0.760980778555439,
          -0.9664617679341309,
          -1.063650709806117,
          -1.1551100660281313,
          -0.7759281664319397,
          -0.6257034178560722,
          -0.5324151013068666,
          -0.5802805421855889,
          0.012036362243781674,
          -0.2135582700888069,
          -0.23772510507929343,
          -0.21709025113114472,
          -0.13407639115021466,
          -0.13321864182956464,
          -0.28427289101621234,
          0.11570870767124314,
          -0.9194961074547577,
          -0.5934766489825319,
          -0.781745942553416,
          -0.9815874326200369,
          -1.0608468536917444,
          -1.023014378864218,
          -0.8375558229086193,
          -0.8651800149928333,
          -1.7168233412657654,
          -0.9559433410798451,
          -1.5032295993571647,
          -0.9854647205267906,
          -0.9222891095648277,
          -1.3033311220338344,
          -1.3527357799725417,
          -1.2877357900428525,
          -1.1439288477190674,
          -0.767201119763988,
          -0.8786799513569425
         ],
         "y": [
          -0.7224641375944131,
          -0.8413066507063445,
          -0.665212871429423,
          -0.9584515843995927,
          -0.9118702461998413,
          -0.9457720675178966,
          -0.8884290655299978,
          -1.0747861729411403,
          -1.0075783326120475,
          -1.0223773350216077,
          -0.4607798988255428,
          -0.5767116977450274,
          -0.9906441427826599,
          -0.9995655859223976,
          -0.9457241808211097,
          -0.9230327257736243,
          -0.8706955087376038,
          -0.8138781924996802,
          -1.0550575325639917,
          -0.9271871161241061,
          -0.9703706171681589,
          -0.8573808258676239,
          -0.7823592942821415,
          -0.9020393590239504,
          -1.228383702789263,
          -0.9449173429652737,
          -0.9790339484310145,
          -0.9700760060089205,
          -0.9672978755928116,
          -1.000591267248962,
          -0.9424542449792394,
          -0.9788336022984161,
          -0.8882200813436069,
          -0.8606632561801592,
          -1.0017940403888075,
          -0.8565697211791152,
          -0.8933210211260096,
          -0.6950156244092871,
          -0.7930032077717476,
          -0.9782025552581062,
          -0.7493019937705029,
          -0.4683799077863765,
          -0.748256139950299,
          -0.8645968474387495,
          -0.7682319510922132,
          -0.6963912620322625,
          -0.8627543735932087,
          -0.2778253201825552,
          0.06354814596308443,
          -0.5876990469882581,
          0.0013009783135644129,
          -0.40721571202997414,
          -1.0010234589483498,
          -1.2136479551175605,
          0.43222378177705534,
          -1.2168681430319446,
          -0.8080688085555784,
          -0.7588486668420132,
          -0.6425066081147229,
          -0.14221167869944143,
          -1.0186701933216127,
          0.18900675685759113,
          0.9004634866406789,
          -1.3471693853801112,
          -0.9477562284398953,
          -0.9039030234916123,
          -0.9762081918721189,
          -0.11400187208441291,
          -0.859318733168339,
          -0.7853664525552023,
          -0.9049706079373926,
          -0.7975334085222022,
          -0.9754270643095297,
          -0.6224809617686736,
          -1.5987679086279964,
          -1.531545773285607,
          -0.7058395599141591,
          -0.7733608843511743,
          -0.9045417436113153,
          -0.07838335477875467,
          -0.08097426463112867,
          -0.13745264230152487,
          -0.41750928052436503,
          -0.8595701994011625,
          -1.0297319080594,
          -0.374521675126235,
          0.13506519072939643,
          -0.2523396032338862,
          -0.648642350880757,
          -0.6157461188342424,
          -0.6545323889203669,
          -0.446347483104877,
          -0.8342342003971945,
          -0.016269103264173614,
          -0.11614960992274126,
          -0.11633362900781274,
          0.15737595122371142,
          -1.1994442371074492,
          -0.906280638623519,
          -1.023851350308362,
          -1.049671400371434,
          -0.7167676387911702,
          -0.4176163417892862,
          -0.40848509321927196,
          -0.9498536520828144,
          -0.804400266742078,
          -0.4128061356743152,
          -0.8407018979611856,
          -0.22618125329473526,
          -0.2916630661629375,
          -0.19894982774561,
          -0.5887824404954534,
          -0.6116281530901946,
          -0.7007351047193932,
          -0.7641329771766506,
          -1.088006204546589,
          -1.0803080011949826
         ],
         "z": [
          -0.970812842207118,
          -1.0179402743083616,
          -1.483662395185699,
          -0.7860374507736827,
          -0.7885180868918761,
          -0.8780992031206338,
          -0.8885531547716629,
          -0.8014642384267507,
          -0.8168794632721073,
          -0.7931338030578305,
          0.06536558421619956,
          -1.2152699559601623,
          -0.5640475064017463,
          -0.49689708427608514,
          -0.5019131281105097,
          -0.4726545396276318,
          -0.6731079729112972,
          -0.8553233719173672,
          -0.07170417788480316,
          -0.3916941447953115,
          -0.44981049325868494,
          -0.39440682320621273,
          -0.9053524968412908,
          -1.0900181876201007,
          -0.660844486202459,
          -0.8923093972102479,
          -0.7976431562302091,
          -0.9235047493163356,
          -0.8262238542248517,
          -0.9131891822472332,
          -0.8111044315997193,
          -0.8415505657311955,
          -0.4341062400877923,
          -0.34753125520580813,
          -0.8588891958392068,
          -0.5160852394426867,
          -0.8912901106347223,
          -0.33810547460689666,
          -0.9587983176347373,
          -0.9212586103256571,
          -0.8222113826057735,
          -0.7877257960455873,
          -0.9038022187040099,
          -0.5588748043236105,
          -0.9326949187041569,
          -0.7848933968004466,
          -0.8192633467300316,
          -1.0687217973820218,
          -0.9951255800452843,
          -0.6142893494472507,
          -1.074787885493398,
          -0.45488159904748193,
          -0.4256380764995258,
          -0.22407874944941542,
          -0.4291451832001062,
          -0.6745805801627304,
          -0.34665960106256355,
          -0.6005342194507531,
          -1.1006147983474865,
          -0.9727101227227722,
          0.3510842681937809,
          -1.751681052858991,
          -0.8728365891243673,
          -0.234699756128572,
          -0.842569778651853,
          -0.9100650517460235,
          -0.7078019545755073,
          0.2779335990676855,
          -0.24377659588545578,
          -0.7671291861086921,
          -0.884532574692287,
          -1.0105025753645605,
          -0.5484572373880827,
          -0.9095401440134402,
          0.7017956964122805,
          -0.2331831773377615,
          -1.0342994052327357,
          -1.0662942409625398,
          -0.7864079491054574,
          -1.3180538168224505,
          -1.3898914132587992,
          -0.9019371935759672,
          -0.968546768899753,
          -0.894748702368746,
          -0.44019178422398336,
          -0.6528624456075225,
          -0.34840746926015953,
          -0.6754431986744226,
          -0.8421992132937907,
          -0.6259214205771504,
          -0.8428088111613183,
          -1.3278536618746073,
          0.04553630856202264,
          -1.980983173626826,
          -0.6527723731569036,
          -0.6542450091239149,
          -0.9651123927632227,
          0.4621873674118931,
          -0.7045189232009549,
          -1.0051368167049954,
          -0.6955975984616674,
          -0.9550961007142182,
          -1.043442230780108,
          -0.8256177645549779,
          -0.721912065773062,
          -0.7520559562377189,
          -0.3794889811937614,
          -0.6168203077173753,
          -0.8218058093396334,
          -1.1476663705805121,
          -1.0740937897555543,
          -0.8894167824525245,
          -0.9149250732484058,
          -0.9326118455491963,
          -0.8313395239242145,
          -0.22785335330121123,
          -0.5067514880145323
         ]
        },
        {
         "hovertemplate": "PlasticType=PET<br>nm1200=%{x}<br>nm1450=%{y}<br>nm1720=%{z}<extra></extra>",
         "legendgroup": "PET",
         "marker": {
          "color": "#ab63fa",
          "symbol": "circle"
         },
         "mode": "markers",
         "name": "PET",
         "scene": "scene",
         "showlegend": true,
         "type": "scatter3d",
         "x": [
          0.5523998995008238,
          0.6058635527817283,
          0.5563702527588832,
          0.3726421283802245,
          0.47632914351723366,
          0.7647481946156934,
          -1.1259438932486792,
          0.7991379598712244,
          0.7841864157200581,
          1.5672749641857369,
          -2.0349959396662705,
          0.47463481936055085,
          0.3896533415051626,
          0.8609299251742315,
          0.554201242412487,
          0.8210801782762553,
          0.5389777842452645,
          0.5353516268271181,
          0.08120645694525816,
          0.28572969213324384,
          0.5624915804555374,
          0.3173503110110883,
          -0.6243775446608846,
          0.6550149511616999,
          0.8559587755605375,
          1.1638978541145506,
          0.014200629633056657,
          0.09826445383587107,
          0.11326570776222747,
          0.3416200123011784,
          0.5627445836712154,
          -1.1717750737041985,
          -0.10946454939017418,
          1.066427548620083,
          0.6721541105494186,
          1.455444471978174,
          0.3357349463327025,
          0.544856356365053,
          0.6728524584250578,
          -0.5174084347886125,
          0.9019626701870453,
          0.509973105663509,
          0.36694057525523666,
          0.21844633590535498,
          1.4161333680193087,
          0.7039893787609866,
          0.2517201638804505,
          -0.150981035961406,
          -0.02854638028640801,
          0.8034285165281692,
          1.3077797987041273,
          0.7997999595630196
         ],
         "y": [
          -0.3624196617287955,
          -0.31111591845991554,
          -0.29064317810479834,
          0.10101551663725511,
          1.2600528822659172,
          -0.04106933971562654,
          0.9044384973172448,
          0.534540616518679,
          0.09860841381250945,
          -0.5765798821265322,
          0.059845729909198835,
          -0.32189660378747637,
          0.02712070541019492,
          -0.5796848343324584,
          -0.4239454156323975,
          -0.33597712527724627,
          0.16944953035559665,
          0.2411463152573663,
          0.8196836450725615,
          0.16582578866908623,
          -0.07625086177971954,
          -0.0695846865145611,
          -0.45136242703154433,
          -0.20381996826169455,
          0.15787324345269774,
          -0.6428011631683206,
          0.2633053975050444,
          -1.0212129682171671,
          -0.20793468385183778,
          -0.3892484767401676,
          -0.5174803242438433,
          -0.7292671775413713,
          -0.6652071934869763,
          -0.193797233991661,
          -1.253176100878788,
          0.006040670813758418,
          0.35994168452143027,
          0.05905351960370043,
          -0.06776049607659038,
          0.25713592534988794,
          -0.9270477739823192,
          -0.28187441855633727,
          -0.5164699171127056,
          0.7843235423076098,
          0.12478629822928487,
          -0.3012216365994688,
          0.02762084364342286,
          -0.9133623560473942,
          0.6792113227492915,
          0.20270725263880188,
          -0.430048042202385,
          -0.4892047852791601
         ],
         "z": [
          -1.5017345690261352,
          -1.3727439049408678,
          -1.5371953018870836,
          -1.1478698699758545,
          -1.5721642011214885,
          -1.435327784166616,
          -1.3837316032084617,
          -2.095904658353822,
          -1.6485509953217297,
          -0.24403451478958305,
          -0.5730789651976039,
          -0.7751000944273301,
          -1.550333066616942,
          -1.4845621623403356,
          -1.1534339549713806,
          -1.2166184514015999,
          -1.2627338839971518,
          -1.8267297173666721,
          -1.8189650494140641,
          -1.595043221995936,
          -1.6128739161842853,
          -1.2661516210588182,
          -0.41405752887920194,
          -1.6179312244264217,
          -1.120355989016465,
          -1.161240790384353,
          -1.32735379604328,
          1.3486630396979655,
          -1.5273041859059935,
          -1.4116054221951344,
          0.9050949943181477,
          0.5368040317358449,
          -0.83846673624783,
          -1.0537129396702443,
          -1.6894295290384933,
          -1.1792796925753535,
          -1.8636135366573525,
          -1.449638605924608,
          -1.5985096050124097,
          -1.1024585337183792,
          -1.2959366236445045,
          -1.6401099565990716,
          -0.9401470592283425,
          -1.138543934477264,
          -1.4307713556429602,
          -1.4205704457614297,
          -1.7822981008971543,
          0.36994622761677187,
          -1.7407276199123567,
          -1.5823027331617654,
          -1.3261798745080733,
          -1.1077213076182724
         ]
        },
        {
         "hovertemplate": "PlasticType=PS<br>nm1200=%{x}<br>nm1450=%{y}<br>nm1720=%{z}<extra></extra>",
         "legendgroup": "PS",
         "marker": {
          "color": "#FFA15A",
          "symbol": "circle"
         },
         "mode": "markers",
         "name": "PS",
         "scene": "scene",
         "showlegend": true,
         "type": "scatter3d",
         "x": [
          -0.12175495687745769,
          -0.3081842931318395,
          0.00842759807277897,
          -0.18748913512115517,
          -0.3012230807072256,
          -0.16535623034766533,
          -0.17150530799705263,
          0.07925328428565022,
          -0.03941806552310258,
          0.05821294551963372,
          0.5484589463977739,
          -0.6169084469670851,
          0.8702824627875911,
          0.13704528019562298,
          0.07362284049649319,
          0.5050280240812574,
          -0.029893405000310885,
          -0.16686780574036064,
          -0.06663142410644601,
          0.004665921568383934,
          -0.22812839129752577,
          0.5751231654210994,
          -0.1640417222533716,
          0.07369921654682154,
          -0.6157524266534888,
          -0.05466079942192017,
          0.11913217881951037,
          -0.1380298730850171,
          0.1964276794272408,
          -0.03592727746597558,
          0.19071762256957894,
          -0.0019278590023416977,
          0.02502444318235882,
          0.018653917594697776,
          -0.20760091561147428,
          -0.18504817041210486,
          -0.19482443483973916
         ],
         "y": [
          0.10902671061425982,
          0.09042064683233385,
          -0.005630689270100263,
          -0.007119208664765399,
          0.12350789858284411,
          -0.5873709036593504,
          0.03242643869081788,
          0.047492686178734575,
          0.03733190696505531,
          0.17257424463115323,
          -0.09557346446862067,
          0.07444563563908632,
          -0.37519919193598855,
          0.3601965378048274,
          0.4205691757405801,
          0.48852007196082786,
          -0.17323201831074608,
          0.28996341751877264,
          -0.09522354852773113,
          0.3852670828531874,
          0.07866932735848178,
          -0.3991462220719582,
          -0.18019561640316145,
          0.10180669733717046,
          0.315412668367984,
          0.4144678579939436,
          0.1824476455943503,
          0.3306294161120956,
          -0.043368728093020434,
          -0.09453191758935336,
          -0.3245299948694385,
          0.24683192304626697,
          0.23648014553242439,
          0.21020727424155378,
          0.029428202035498497,
          0.05166521134581174,
          0.04118612925405048
         ],
         "z": [
          -1.74646517472278,
          -1.7903701690008682,
          -1.8621044658863317,
          -1.747908109222356,
          -1.7478412348419756,
          -1.4383306815515837,
          -1.7714624422886958,
          -1.8231299269333283,
          -1.7816617318129813,
          -1.9291087055979443,
          -1.8674794132101527,
          -1.8384504551021152,
          -1.530472287653938,
          -1.8671567805232758,
          -1.273663854208859,
          -1.993029734432991,
          -1.6929692743351765,
          -1.9568421298789234,
          -1.7074886153352968,
          -1.8581117364636506,
          -1.983590673626886,
          -1.1798861305604313,
          -1.8613694848991162,
          -1.80677344719117,
          -1.3853254985054662,
          -2.134793204081637,
          -1.824632648461449,
          -1.8001545390184228,
          -1.696248863524053,
          -1.6064324711019349,
          -1.4462856545231626,
          -1.8458531465066559,
          -1.831896529877409,
          -1.8438709762814538,
          -1.6491924352288267,
          -1.6590846972179008,
          -1.6472820153883965
         ]
        }
       ],
       "layout": {
        "legend": {
         "title": {
          "text": "PlasticType"
         },
         "tracegroupgap": 0
        },
        "margin": {
         "t": 60
        },
        "scene": {
         "domain": {
          "x": [
           0,
           1
          ],
          "y": [
           0,
           1
          ]
         },
         "xaxis": {
          "title": {
           "text": "nm1200"
          }
         },
         "yaxis": {
          "title": {
           "text": "nm1450"
          }
         },
         "zaxis": {
          "title": {
           "text": "nm1720"
          }
         }
        },
        "template": {
         "data": {
          "bar": [
           {
            "error_x": {
             "color": "#2a3f5f"
            },
            "error_y": {
             "color": "#2a3f5f"
            },
            "marker": {
             "line": {
              "color": "#E5ECF6",
              "width": 0.5
             },
             "pattern": {
              "fillmode": "overlay",
              "size": 10,
              "solidity": 0.2
             }
            },
            "type": "bar"
           }
          ],
          "barpolar": [
           {
            "marker": {
             "line": {
              "color": "#E5ECF6",
              "width": 0.5
             },
             "pattern": {
              "fillmode": "overlay",
              "size": 10,
              "solidity": 0.2
             }
            },
            "type": "barpolar"
           }
          ],
          "carpet": [
           {
            "aaxis": {
             "endlinecolor": "#2a3f5f",
             "gridcolor": "white",
             "linecolor": "white",
             "minorgridcolor": "white",
             "startlinecolor": "#2a3f5f"
            },
            "baxis": {
             "endlinecolor": "#2a3f5f",
             "gridcolor": "white",
             "linecolor": "white",
             "minorgridcolor": "white",
             "startlinecolor": "#2a3f5f"
            },
            "type": "carpet"
           }
          ],
          "choropleth": [
           {
            "colorbar": {
             "outlinewidth": 0,
             "ticks": ""
            },
            "type": "choropleth"
           }
          ],
          "contour": [
           {
            "colorbar": {
             "outlinewidth": 0,
             "ticks": ""
            },
            "colorscale": [
             [
              0,
              "#0d0887"
             ],
             [
              0.1111111111111111,
              "#46039f"
             ],
             [
              0.2222222222222222,
              "#7201a8"
             ],
             [
              0.3333333333333333,
              "#9c179e"
             ],
             [
              0.4444444444444444,
              "#bd3786"
             ],
             [
              0.5555555555555556,
              "#d8576b"
             ],
             [
              0.6666666666666666,
              "#ed7953"
             ],
             [
              0.7777777777777778,
              "#fb9f3a"
             ],
             [
              0.8888888888888888,
              "#fdca26"
             ],
             [
              1,
              "#f0f921"
             ]
            ],
            "type": "contour"
           }
          ],
          "contourcarpet": [
           {
            "colorbar": {
             "outlinewidth": 0,
             "ticks": ""
            },
            "type": "contourcarpet"
           }
          ],
          "heatmap": [
           {
            "colorbar": {
             "outlinewidth": 0,
             "ticks": ""
            },
            "colorscale": [
             [
              0,
              "#0d0887"
             ],
             [
              0.1111111111111111,
              "#46039f"
             ],
             [
              0.2222222222222222,
              "#7201a8"
             ],
             [
              0.3333333333333333,
              "#9c179e"
             ],
             [
              0.4444444444444444,
              "#bd3786"
             ],
             [
              0.5555555555555556,
              "#d8576b"
             ],
             [
              0.6666666666666666,
              "#ed7953"
             ],
             [
              0.7777777777777778,
              "#fb9f3a"
             ],
             [
              0.8888888888888888,
              "#fdca26"
             ],
             [
              1,
              "#f0f921"
             ]
            ],
            "type": "heatmap"
           }
          ],
          "heatmapgl": [
           {
            "colorbar": {
             "outlinewidth": 0,
             "ticks": ""
            },
            "colorscale": [
             [
              0,
              "#0d0887"
             ],
             [
              0.1111111111111111,
              "#46039f"
             ],
             [
              0.2222222222222222,
              "#7201a8"
             ],
             [
              0.3333333333333333,
              "#9c179e"
             ],
             [
              0.4444444444444444,
              "#bd3786"
             ],
             [
              0.5555555555555556,
              "#d8576b"
             ],
             [
              0.6666666666666666,
              "#ed7953"
             ],
             [
              0.7777777777777778,
              "#fb9f3a"
             ],
             [
              0.8888888888888888,
              "#fdca26"
             ],
             [
              1,
              "#f0f921"
             ]
            ],
            "type": "heatmapgl"
           }
          ],
          "histogram": [
           {
            "marker": {
             "pattern": {
              "fillmode": "overlay",
              "size": 10,
              "solidity": 0.2
             }
            },
            "type": "histogram"
           }
          ],
          "histogram2d": [
           {
            "colorbar": {
             "outlinewidth": 0,
             "ticks": ""
            },
            "colorscale": [
             [
              0,
              "#0d0887"
             ],
             [
              0.1111111111111111,
              "#46039f"
             ],
             [
              0.2222222222222222,
              "#7201a8"
             ],
             [
              0.3333333333333333,
              "#9c179e"
             ],
             [
              0.4444444444444444,
              "#bd3786"
             ],
             [
              0.5555555555555556,
              "#d8576b"
             ],
             [
              0.6666666666666666,
              "#ed7953"
             ],
             [
              0.7777777777777778,
              "#fb9f3a"
             ],
             [
              0.8888888888888888,
              "#fdca26"
             ],
             [
              1,
              "#f0f921"
             ]
            ],
            "type": "histogram2d"
           }
          ],
          "histogram2dcontour": [
           {
            "colorbar": {
             "outlinewidth": 0,
             "ticks": ""
            },
            "colorscale": [
             [
              0,
              "#0d0887"
             ],
             [
              0.1111111111111111,
              "#46039f"
             ],
             [
              0.2222222222222222,
              "#7201a8"
             ],
             [
              0.3333333333333333,
              "#9c179e"
             ],
             [
              0.4444444444444444,
              "#bd3786"
             ],
             [
              0.5555555555555556,
              "#d8576b"
             ],
             [
              0.6666666666666666,
              "#ed7953"
             ],
             [
              0.7777777777777778,
              "#fb9f3a"
             ],
             [
              0.8888888888888888,
              "#fdca26"
             ],
             [
              1,
              "#f0f921"
             ]
            ],
            "type": "histogram2dcontour"
           }
          ],
          "mesh3d": [
           {
            "colorbar": {
             "outlinewidth": 0,
             "ticks": ""
            },
            "type": "mesh3d"
           }
          ],
          "parcoords": [
           {
            "line": {
             "colorbar": {
              "outlinewidth": 0,
              "ticks": ""
             }
            },
            "type": "parcoords"
           }
          ],
          "pie": [
           {
            "automargin": true,
            "type": "pie"
           }
          ],
          "scatter": [
           {
            "fillpattern": {
             "fillmode": "overlay",
             "size": 10,
             "solidity": 0.2
            },
            "type": "scatter"
           }
          ],
          "scatter3d": [
           {
            "line": {
             "colorbar": {
              "outlinewidth": 0,
              "ticks": ""
             }
            },
            "marker": {
             "colorbar": {
              "outlinewidth": 0,
              "ticks": ""
             }
            },
            "type": "scatter3d"
           }
          ],
          "scattercarpet": [
           {
            "marker": {
             "colorbar": {
              "outlinewidth": 0,
              "ticks": ""
             }
            },
            "type": "scattercarpet"
           }
          ],
          "scattergeo": [
           {
            "marker": {
             "colorbar": {
              "outlinewidth": 0,
              "ticks": ""
             }
            },
            "type": "scattergeo"
           }
          ],
          "scattergl": [
           {
            "marker": {
             "colorbar": {
              "outlinewidth": 0,
              "ticks": ""
             }
            },
            "type": "scattergl"
           }
          ],
          "scattermapbox": [
           {
            "marker": {
             "colorbar": {
              "outlinewidth": 0,
              "ticks": ""
             }
            },
            "type": "scattermapbox"
           }
          ],
          "scatterpolar": [
           {
            "marker": {
             "colorbar": {
              "outlinewidth": 0,
              "ticks": ""
             }
            },
            "type": "scatterpolar"
           }
          ],
          "scatterpolargl": [
           {
            "marker": {
             "colorbar": {
              "outlinewidth": 0,
              "ticks": ""
             }
            },
            "type": "scatterpolargl"
           }
          ],
          "scatterternary": [
           {
            "marker": {
             "colorbar": {
              "outlinewidth": 0,
              "ticks": ""
             }
            },
            "type": "scatterternary"
           }
          ],
          "surface": [
           {
            "colorbar": {
             "outlinewidth": 0,
             "ticks": ""
            },
            "colorscale": [
             [
              0,
              "#0d0887"
             ],
             [
              0.1111111111111111,
              "#46039f"
             ],
             [
              0.2222222222222222,
              "#7201a8"
             ],
             [
              0.3333333333333333,
              "#9c179e"
             ],
             [
              0.4444444444444444,
              "#bd3786"
             ],
             [
              0.5555555555555556,
              "#d8576b"
             ],
             [
              0.6666666666666666,
              "#ed7953"
             ],
             [
              0.7777777777777778,
              "#fb9f3a"
             ],
             [
              0.8888888888888888,
              "#fdca26"
             ],
             [
              1,
              "#f0f921"
             ]
            ],
            "type": "surface"
           }
          ],
          "table": [
           {
            "cells": {
             "fill": {
              "color": "#EBF0F8"
             },
             "line": {
              "color": "white"
             }
            },
            "header": {
             "fill": {
              "color": "#C8D4E3"
             },
             "line": {
              "color": "white"
             }
            },
            "type": "table"
           }
          ]
         },
         "layout": {
          "annotationdefaults": {
           "arrowcolor": "#2a3f5f",
           "arrowhead": 0,
           "arrowwidth": 1
          },
          "autotypenumbers": "strict",
          "coloraxis": {
           "colorbar": {
            "outlinewidth": 0,
            "ticks": ""
           }
          },
          "colorscale": {
           "diverging": [
            [
             0,
             "#8e0152"
            ],
            [
             0.1,
             "#c51b7d"
            ],
            [
             0.2,
             "#de77ae"
            ],
            [
             0.3,
             "#f1b6da"
            ],
            [
             0.4,
             "#fde0ef"
            ],
            [
             0.5,
             "#f7f7f7"
            ],
            [
             0.6,
             "#e6f5d0"
            ],
            [
             0.7,
             "#b8e186"
            ],
            [
             0.8,
             "#7fbc41"
            ],
            [
             0.9,
             "#4d9221"
            ],
            [
             1,
             "#276419"
            ]
           ],
           "sequential": [
            [
             0,
             "#0d0887"
            ],
            [
             0.1111111111111111,
             "#46039f"
            ],
            [
             0.2222222222222222,
             "#7201a8"
            ],
            [
             0.3333333333333333,
             "#9c179e"
            ],
            [
             0.4444444444444444,
             "#bd3786"
            ],
            [
             0.5555555555555556,
             "#d8576b"
            ],
            [
             0.6666666666666666,
             "#ed7953"
            ],
            [
             0.7777777777777778,
             "#fb9f3a"
            ],
            [
             0.8888888888888888,
             "#fdca26"
            ],
            [
             1,
             "#f0f921"
            ]
           ],
           "sequentialminus": [
            [
             0,
             "#0d0887"
            ],
            [
             0.1111111111111111,
             "#46039f"
            ],
            [
             0.2222222222222222,
             "#7201a8"
            ],
            [
             0.3333333333333333,
             "#9c179e"
            ],
            [
             0.4444444444444444,
             "#bd3786"
            ],
            [
             0.5555555555555556,
             "#d8576b"
            ],
            [
             0.6666666666666666,
             "#ed7953"
            ],
            [
             0.7777777777777778,
             "#fb9f3a"
            ],
            [
             0.8888888888888888,
             "#fdca26"
            ],
            [
             1,
             "#f0f921"
            ]
           ]
          },
          "colorway": [
           "#636efa",
           "#EF553B",
           "#00cc96",
           "#ab63fa",
           "#FFA15A",
           "#19d3f3",
           "#FF6692",
           "#B6E880",
           "#FF97FF",
           "#FECB52"
          ],
          "font": {
           "color": "#2a3f5f"
          },
          "geo": {
           "bgcolor": "white",
           "lakecolor": "white",
           "landcolor": "#E5ECF6",
           "showlakes": true,
           "showland": true,
           "subunitcolor": "white"
          },
          "hoverlabel": {
           "align": "left"
          },
          "hovermode": "closest",
          "mapbox": {
           "style": "light"
          },
          "paper_bgcolor": "white",
          "plot_bgcolor": "#E5ECF6",
          "polar": {
           "angularaxis": {
            "gridcolor": "white",
            "linecolor": "white",
            "ticks": ""
           },
           "bgcolor": "#E5ECF6",
           "radialaxis": {
            "gridcolor": "white",
            "linecolor": "white",
            "ticks": ""
           }
          },
          "scene": {
           "xaxis": {
            "backgroundcolor": "#E5ECF6",
            "gridcolor": "white",
            "gridwidth": 2,
            "linecolor": "white",
            "showbackground": true,
            "ticks": "",
            "zerolinecolor": "white"
           },
           "yaxis": {
            "backgroundcolor": "#E5ECF6",
            "gridcolor": "white",
            "gridwidth": 2,
            "linecolor": "white",
            "showbackground": true,
            "ticks": "",
            "zerolinecolor": "white"
           },
           "zaxis": {
            "backgroundcolor": "#E5ECF6",
            "gridcolor": "white",
            "gridwidth": 2,
            "linecolor": "white",
            "showbackground": true,
            "ticks": "",
            "zerolinecolor": "white"
           }
          },
          "shapedefaults": {
           "line": {
            "color": "#2a3f5f"
           }
          },
          "ternary": {
           "aaxis": {
            "gridcolor": "white",
            "linecolor": "white",
            "ticks": ""
           },
           "baxis": {
            "gridcolor": "white",
            "linecolor": "white",
            "ticks": ""
           },
           "bgcolor": "#E5ECF6",
           "caxis": {
            "gridcolor": "white",
            "linecolor": "white",
            "ticks": ""
           }
          },
          "title": {
           "x": 0.05
          },
          "xaxis": {
           "automargin": true,
           "gridcolor": "white",
           "linecolor": "white",
           "ticks": "",
           "title": {
            "standoff": 15
           },
           "zerolinecolor": "white",
           "zerolinewidth": 2
          },
          "yaxis": {
           "automargin": true,
           "gridcolor": "white",
           "linecolor": "white",
           "ticks": "",
           "title": {
            "standoff": 15
           },
           "zerolinecolor": "white",
           "zerolinewidth": 2
          }
         }
        }
       }
      }
     },
     "metadata": {},
     "output_type": "display_data"
    }
   ],
   "source": [
    "#make an interactive 3d scatterplot of df_snv_toplot\n",
    "import plotly.express as px\n",
    "fig = px.scatter_3d(df_snv_toplot, x='nm1200', y='nm1450', z='nm1720', color='PlasticType')\n",
    "fig.show()"
   ]
  },
  {
   "cell_type": "markdown",
   "metadata": {},
   "source": [
    "# PCA analysis"
   ]
  },
  {
   "cell_type": "code",
   "execution_count": 105,
   "metadata": {},
   "outputs": [
    {
     "data": {
      "text/html": [
       "<div>\n",
       "<style scoped>\n",
       "    .dataframe tbody tr th:only-of-type {\n",
       "        vertical-align: middle;\n",
       "    }\n",
       "\n",
       "    .dataframe tbody tr th {\n",
       "        vertical-align: top;\n",
       "    }\n",
       "\n",
       "    .dataframe thead th {\n",
       "        text-align: right;\n",
       "    }\n",
       "</style>\n",
       "<table border=\"1\" class=\"dataframe\">\n",
       "  <thead>\n",
       "    <tr style=\"text-align: right;\">\n",
       "      <th></th>\n",
       "      <th>principal component 1</th>\n",
       "      <th>principal component 2</th>\n",
       "      <th>principal component 3</th>\n",
       "      <th>PlasticType</th>\n",
       "      <th>Name</th>\n",
       "    </tr>\n",
       "  </thead>\n",
       "  <tbody>\n",
       "    <tr>\n",
       "      <th>0</th>\n",
       "      <td>-1.574923</td>\n",
       "      <td>0.012000</td>\n",
       "      <td>1.039109</td>\n",
       "      <td>other</td>\n",
       "      <td>NaN</td>\n",
       "    </tr>\n",
       "    <tr>\n",
       "      <th>1</th>\n",
       "      <td>-1.614905</td>\n",
       "      <td>0.050969</td>\n",
       "      <td>1.042838</td>\n",
       "      <td>other</td>\n",
       "      <td>ref</td>\n",
       "    </tr>\n",
       "    <tr>\n",
       "      <th>2</th>\n",
       "      <td>-1.623463</td>\n",
       "      <td>0.058240</td>\n",
       "      <td>1.042811</td>\n",
       "      <td>other</td>\n",
       "      <td>ref</td>\n",
       "    </tr>\n",
       "    <tr>\n",
       "      <th>3</th>\n",
       "      <td>-1.629781</td>\n",
       "      <td>0.065918</td>\n",
       "      <td>1.056251</td>\n",
       "      <td>other</td>\n",
       "      <td>ref</td>\n",
       "    </tr>\n",
       "    <tr>\n",
       "      <th>4</th>\n",
       "      <td>0.630385</td>\n",
       "      <td>-0.716805</td>\n",
       "      <td>0.589550</td>\n",
       "      <td>HDPE</td>\n",
       "      <td>214_HDPE_ps_1</td>\n",
       "    </tr>\n",
       "    <tr>\n",
       "      <th>...</th>\n",
       "      <td>...</td>\n",
       "      <td>...</td>\n",
       "      <td>...</td>\n",
       "      <td>...</td>\n",
       "      <td>...</td>\n",
       "    </tr>\n",
       "    <tr>\n",
       "      <th>289</th>\n",
       "      <td>-0.111696</td>\n",
       "      <td>-0.448488</td>\n",
       "      <td>-0.218908</td>\n",
       "      <td>other</td>\n",
       "      <td>6mm_PMMA_ps_2</td>\n",
       "    </tr>\n",
       "    <tr>\n",
       "      <th>290</th>\n",
       "      <td>-0.113551</td>\n",
       "      <td>-0.442868</td>\n",
       "      <td>-0.234159</td>\n",
       "      <td>other</td>\n",
       "      <td>6mm_PMMA_ps_3</td>\n",
       "    </tr>\n",
       "    <tr>\n",
       "      <th>291</th>\n",
       "      <td>-0.193838</td>\n",
       "      <td>-0.437982</td>\n",
       "      <td>-0.217604</td>\n",
       "      <td>other</td>\n",
       "      <td>5mm_PMMA_ps_1</td>\n",
       "    </tr>\n",
       "    <tr>\n",
       "      <th>292</th>\n",
       "      <td>-0.184264</td>\n",
       "      <td>-0.432991</td>\n",
       "      <td>-0.228857</td>\n",
       "      <td>other</td>\n",
       "      <td>5mm_PMMA_ps_2</td>\n",
       "    </tr>\n",
       "    <tr>\n",
       "      <th>293</th>\n",
       "      <td>-0.177509</td>\n",
       "      <td>-0.445573</td>\n",
       "      <td>-0.205826</td>\n",
       "      <td>other</td>\n",
       "      <td>5mm_PMMA_ps_3</td>\n",
       "    </tr>\n",
       "  </tbody>\n",
       "</table>\n",
       "<p>294 rows × 5 columns</p>\n",
       "</div>"
      ],
      "text/plain": [
       "     principal component 1  principal component 2  principal component 3  \\\n",
       "0                -1.574923               0.012000               1.039109   \n",
       "1                -1.614905               0.050969               1.042838   \n",
       "2                -1.623463               0.058240               1.042811   \n",
       "3                -1.629781               0.065918               1.056251   \n",
       "4                 0.630385              -0.716805               0.589550   \n",
       "..                     ...                    ...                    ...   \n",
       "289              -0.111696              -0.448488              -0.218908   \n",
       "290              -0.113551              -0.442868              -0.234159   \n",
       "291              -0.193838              -0.437982              -0.217604   \n",
       "292              -0.184264              -0.432991              -0.228857   \n",
       "293              -0.177509              -0.445573              -0.205826   \n",
       "\n",
       "    PlasticType           Name  \n",
       "0         other            NaN  \n",
       "1         other            ref  \n",
       "2         other            ref  \n",
       "3         other            ref  \n",
       "4          HDPE  214_HDPE_ps_1  \n",
       "..          ...            ...  \n",
       "289       other  6mm_PMMA_ps_2  \n",
       "290       other  6mm_PMMA_ps_3  \n",
       "291       other  5mm_PMMA_ps_1  \n",
       "292       other  5mm_PMMA_ps_2  \n",
       "293       other  5mm_PMMA_ps_3  \n",
       "\n",
       "[294 rows x 5 columns]"
      ]
     },
     "execution_count": 105,
     "metadata": {},
     "output_type": "execute_result"
    }
   ],
   "source": [
    "#do a PCA on the df_snv_toplot dataframe based on the PlasticType column that also has the \"Name\" colum in the final dataframe\n",
    "from sklearn.decomposition import PCA\n",
    "pca = PCA(n_components=3)\n",
    "principalComponents = pca.fit_transform(df_snv_toplot.loc[:, 'nm940':'nm1720'])\n",
    "principalDf = pd.DataFrame(data = principalComponents, columns = ['principal component 1', 'principal component 2', 'principal component 3'])\n",
    "principalDf['PlasticType'] = df_snv_toplot['PlasticType']\n",
    "principalDf['Name'] = df_snv_toplot['Name']\n",
    "principalDf"
   ]
  },
  {
   "cell_type": "code",
   "execution_count": 106,
   "metadata": {},
   "outputs": [
    {
     "data": {
      "application/vnd.plotly.v1+json": {
       "config": {
        "plotlyServerURL": "https://plot.ly"
       },
       "data": [
        {
         "customdata": [
          [
           null
          ],
          [
           "ref"
          ],
          [
           "ref"
          ],
          [
           "ref"
          ],
          [
           null
          ],
          [
           "ref"
          ],
          [
           null
          ],
          [
           "ref"
          ],
          [
           null
          ],
          [
           "ref"
          ],
          [
           "ref1"
          ],
          [
           null
          ],
          [
           "ref"
          ],
          [
           "DW905_PLA_ps_1"
          ],
          [
           "DW905_PLA_ps_2"
          ],
          [
           "DW905_PLA_ps_2"
          ],
          [
           "DW901_PLA_ps_1"
          ],
          [
           "DW901_PLA_ps_2"
          ],
          [
           "DW901_PLA_ps_3"
          ],
          [
           "DW903_PLA_ps_1"
          ],
          [
           "DW903_PLA_ps_2"
          ],
          [
           "DW903_PLA_ps_3"
          ],
          [
           "DW905_PLA_ps_1"
          ],
          [
           "DW905_PLA_ps_2"
          ],
          [
           "DW905_PLA_ps_3"
          ],
          [
           "926_ABS_ps_1"
          ],
          [
           "926_ABS_ps_3"
          ],
          [
           "924_ABS_ps_1"
          ],
          [
           "924_ABS_ps_2"
          ],
          [
           "924_ABS_ps_3"
          ],
          [
           "923_ABS_ps_1"
          ],
          [
           "923_ABS_ps_2"
          ],
          [
           "923_ABS_ps_3"
          ],
          [
           "KL920_ABS_ps_1"
          ],
          [
           "KL920_ABS_ps_2"
          ],
          [
           "KL920_ABS_ps_3"
          ],
          [
           "925_ABS_ps_1"
          ],
          [
           "925_ABS_ps_2"
          ],
          [
           "925_ABS_ps_3"
          ],
          [
           "A_PC_ps_1"
          ],
          [
           "3mm_PMMA_ps_1"
          ],
          [
           "3mm_PMMA_ps_2"
          ],
          [
           "3mm_PMMA_ps_3"
          ],
          [
           "4mm_PMMA_ps_1"
          ],
          [
           "4mm_PMMA_ps_2"
          ],
          [
           "4mm_PMMA_ps_3"
          ],
          [
           "2mm_PMMA_ps_1"
          ],
          [
           "2mm_PMMA_ps_2"
          ],
          [
           "2mm_PMMA_ps_3"
          ],
          [
           "3mm_PC_ps_1"
          ],
          [
           "3mm_PC_ps_2"
          ],
          [
           "3mm_PC_ps_3"
          ],
          [
           "6mm_PMMA_ps_1"
          ],
          [
           "6mm_PMMA_ps_2"
          ],
          [
           "6mm_PMMA_ps_3"
          ],
          [
           "5mm_PMMA_ps_1"
          ],
          [
           "5mm_PMMA_ps_2"
          ],
          [
           "5mm_PMMA_ps_3"
          ]
         ],
         "hovertemplate": "PlasticType=other<br>principal component 1=%{x}<br>principal component 2=%{y}<br>principal component 3=%{z}<br>Name=%{customdata[0]}<extra></extra>",
         "legendgroup": "other",
         "marker": {
          "color": "#636efa",
          "symbol": "circle"
         },
         "mode": "markers",
         "name": "other",
         "scene": "scene",
         "showlegend": true,
         "type": "scatter3d",
         "x": [
          -1.5749226708317332,
          -1.6149048936204493,
          -1.6234626329264321,
          -1.629781006933651,
          2.0223584789862725,
          2.000383899603085,
          2.5599240306779127,
          2.5705097127911647,
          0.8676691512502016,
          -0.06485874630031714,
          1.6341276838420034,
          1.6171503947020138,
          1.6152455560912071,
          -0.9643614777334553,
          -1.0750970323325941,
          -0.48894575936807955,
          -0.23535708059354077,
          -0.4834157264788723,
          -0.3655890322445101,
          -0.3894251371254314,
          -0.42347015535081284,
          -0.3643381136288507,
          -0.23384896261973984,
          -0.29364248587136155,
          0.5714812694627057,
          -0.9241420743402394,
          -0.8972888952016759,
          -0.7501339730909965,
          -0.7702153123377002,
          -0.7763713078280812,
          -0.8124214490813955,
          -0.843596226213122,
          -0.784353090032036,
          -0.5149183381259543,
          -0.5910152767342924,
          -0.48893837387074,
          -0.8475269799623816,
          -0.7674959405247098,
          -0.8958083132005951,
          -0.20239455390034256,
          -0.42677644444144286,
          -0.45759005061548935,
          -0.41190414695974426,
          -0.2804675275429152,
          -0.3155994731222176,
          -0.3067270685628657,
          -0.6331395807673073,
          -0.659023799430278,
          -0.6633116217144204,
          -1.1620526956638846,
          -1.165950289225097,
          -1.158875355528233,
          -0.10329816760616603,
          -0.11169554404191791,
          -0.11355086476021128,
          -0.193837891001044,
          -0.18426355132776828,
          -0.17750852097865064
         ],
         "y": [
          0.01200005367435941,
          0.050968568254235305,
          0.0582400966664692,
          0.06591767653678719,
          2.6226106396329567,
          2.5999022369579543,
          2.8534629362146102,
          2.8406644204878346,
          1.646418395600284,
          2.87674832388161,
          3.271521362434981,
          3.83398404531945,
          3.844169440890444,
          0.8677337881632954,
          0.8827501999671648,
          1.279633754000524,
          0.8193921551952754,
          0.8704126114351081,
          0.7650909174034105,
          -0.4146131033436617,
          -0.4319310356557535,
          -0.422799103184652,
          -0.27524577322841265,
          -0.25419028885295786,
          -0.28442245849969,
          2.063377484194389,
          2.3842421555339337,
          -0.3893523896982063,
          -0.3823366980379839,
          -0.311507799605843,
          -0.39852960574489343,
          -0.3718467534517389,
          -0.4258173376840962,
          -0.5727337429705811,
          -0.5345376047374293,
          -0.5857494806166538,
          -0.3565352585892322,
          -0.45082284253868826,
          -0.3339022522180364,
          -0.5507459606092511,
          -0.36518573561105194,
          -0.3554086160415921,
          -0.3708682517445665,
          -0.404455888739044,
          -0.4053828089569994,
          -0.3899390748515528,
          -0.28778255007268555,
          -0.2827490371618346,
          -0.2773286202621525,
          -0.01677911201283646,
          -0.012015317613925929,
          0.003962233250082201,
          -0.43824998953738015,
          -0.4484879127982444,
          -0.44286795652353267,
          -0.437982140502388,
          -0.4329913797526439,
          -0.44557264549011255
         ],
         "z": [
          1.0391092024022663,
          1.0428376340946337,
          1.0428110366279248,
          1.056250745638511,
          -0.3336678555686253,
          -0.3552993662322909,
          0.8413041258254632,
          0.8683240869851677,
          -0.6204307677359082,
          -0.8136250342820062,
          0.434937424128649,
          1.2008816606883044,
          1.2111106878463949,
          -0.9735734347539691,
          -0.9204544374389882,
          -1.2073563505601792,
          -1.5637259363373661,
          -1.3092368659982712,
          -1.4621619082396442,
          -0.27017433393197765,
          -0.22796854984908577,
          -0.27222737228518745,
          -0.5206934555619072,
          -0.5880073174279272,
          -0.32647404191879426,
          2.263202849308627,
          2.3238499835532407,
          -0.0166403789578735,
          -0.007617820802646911,
          -0.1883749391780257,
          0.09076295841498686,
          0.02471456945501738,
          0.11252748248932704,
          0.22712673084794716,
          0.19076654646431246,
          0.2541745437978681,
          0.0065297736499732965,
          0.11483641074237154,
          -0.02831443874169884,
          0.0776883131839924,
          -0.26640926512827473,
          -0.26522405471014276,
          -0.2706842186374688,
          -0.25104622265504145,
          -0.24148941395248807,
          -0.27428636429197656,
          -0.28336400375978765,
          -0.27945013590628925,
          -0.2813134915760296,
          -0.2621790259012915,
          -0.25609270206218115,
          -0.3004793650607886,
          -0.24212464135150352,
          -0.21890755277447727,
          -0.23415868064734233,
          -0.21760442520463183,
          -0.22885674540911527,
          -0.205826020533744
         ]
        },
        {
         "customdata": [
          [
           "214_HDPE_ps_1"
          ],
          [
           "214_HDPE_ps_2"
          ],
          [
           "214_HDPE_ps_3"
          ],
          [
           "228_HDPE_ps_1"
          ],
          [
           "228_HDPE_ps_3"
          ],
          [
           "203_HDPE_ps_1"
          ],
          [
           "208_HDPE_ps_1"
          ],
          [
           "208_HDPE_ps_2"
          ],
          [
           "223_HDPE_ps_1"
          ],
          [
           "223_HDPE_ps_2"
          ],
          [
           "223_HDPE_ps_3"
          ],
          [
           "234_HDPE_ps_1"
          ],
          [
           "234_HDPE_ps_2"
          ],
          [
           "234_HDPE_ps_3"
          ],
          [
           "207_HDPE_ps_1"
          ],
          [
           "kl200_HDPE_ps_1"
          ],
          [
           "kl200_HDPE_ps_3"
          ],
          [
           "212_HDPE_ps_1"
          ],
          [
           "212_HDPE_ps_2"
          ],
          [
           "212_HDPE_ps_3"
          ],
          [
           "206_HDPE_ps_1"
          ],
          [
           "206_HDPE_ps_2"
          ],
          [
           "206_HDPE_ps_3"
          ],
          [
           "202_HDPE_ps_1"
          ],
          [
           "202_HDPE_ps_2"
          ],
          [
           "202_HDPE_ps_3"
          ],
          [
           "227_HDPE_ps_1"
          ],
          [
           "227_HDPE_ps_2"
          ],
          [
           "227_HDPE_ps_3"
          ],
          [
           "233_HDPE_ps_1"
          ]
         ],
         "hovertemplate": "PlasticType=HDPE<br>principal component 1=%{x}<br>principal component 2=%{y}<br>principal component 3=%{z}<br>Name=%{customdata[0]}<extra></extra>",
         "legendgroup": "HDPE",
         "marker": {
          "color": "#EF553B",
          "symbol": "circle"
         },
         "mode": "markers",
         "name": "HDPE",
         "scene": "scene",
         "showlegend": true,
         "type": "scatter3d",
         "x": [
          0.6303852059804069,
          0.6258571267620172,
          0.7031980025309706,
          0.6146488351815306,
          1.4261162525736584,
          1.5148079944997968,
          1.9139351922947467,
          0.8269737370391307,
          0.6816908627484177,
          0.8647194788060057,
          0.5125644462728567,
          1.5880559773899312,
          0.8744855030164668,
          1.5962185849337713,
          1.1218613964232709,
          0.4995358020679301,
          0.35948341963210134,
          -0.004308799021313643,
          0.025541253158929945,
          0.2659775696930786,
          1.0343965116527944,
          0.7183648531263948,
          0.9252388082207699,
          0.6006387000896908,
          0.5730667115343392,
          0.5086141488859239,
          0.7650906045122386,
          1.2795420343495754,
          0.6078215487078478,
          0.5543290351066815
         ],
         "y": [
          -0.7168054067959848,
          -0.693681568259877,
          -0.6750741539485761,
          -0.6477427390950018,
          -0.4766794465534594,
          -0.3475685733671499,
          0.005364231377198491,
          -0.49969343164874064,
          -0.7216112511763407,
          -0.6391228862265821,
          -0.7296242406501672,
          -0.35236661189665497,
          -0.6678100674692173,
          -0.35196430718309935,
          -0.5683065949559344,
          -0.7323776756257453,
          -0.7416576453531061,
          -0.6642557489719633,
          -0.6890927056805844,
          -0.7687171110598535,
          -0.591120458775704,
          -0.6922211082382447,
          -0.6493599381793749,
          -0.7077933475324152,
          -0.7178594915264181,
          -0.6802206510497317,
          -0.3413466919074617,
          -0.4411618623499074,
          -0.7151443997019109,
          -0.7044832536181459
         ],
         "z": [
          0.5895498470173998,
          0.6893178184721243,
          0.6428632138986825,
          0.2266672197807243,
          0.6084191317716675,
          0.09236304946211121,
          0.3153900270994929,
          0.4471131622032011,
          0.5944536590072754,
          0.2512768864690607,
          0.43339605702280803,
          0.581158648184783,
          0.4480060509669838,
          0.3975198129600222,
          0.4317207487526671,
          0.525188178323139,
          0.47833113314897974,
          0.33174170166424655,
          0.4788188014844308,
          0.6015685106048352,
          0.23033198597391608,
          0.3025399809165357,
          0.5462269472036151,
          0.32806806885866513,
          0.34956630654926235,
          0.08017116960390622,
          -0.16765574740185898,
          0.508033314708301,
          0.8948451234828037,
          1.2216561483524644
         ]
        },
        {
         "customdata": [
          [
           "049_PP_ps_1"
          ],
          [
           "049_PP_ps_2"
          ],
          [
           "049_PP_ps_3"
          ],
          [
           "004_PP_ps_3"
          ],
          [
           "048_PP_ps_1"
          ],
          [
           "048_PP_ps_2"
          ],
          [
           "048_PP_ps_3"
          ],
          [
           "002_PP_ps_1"
          ],
          [
           "002_PP_ps_2"
          ],
          [
           "002_PP_ps_3"
          ],
          [
           "036_PP_ps_1"
          ],
          [
           "036_PP_ps_2"
          ],
          [
           "036_PP_ps_3"
          ],
          [
           "034_PP_ps_1"
          ],
          [
           "034_PP_ps_2"
          ],
          [
           "034_PP_ps_3"
          ],
          [
           "012_PP_ps_1"
          ],
          [
           "012_PP_ps_2"
          ],
          [
           "012_PP_ps_3"
          ],
          [
           "007_PP_ps_1"
          ],
          [
           "007_PP_ps_2"
          ],
          [
           "007_PP_ps_3"
          ],
          [
           "032_PP_ps_1"
          ],
          [
           "032_PP_ps_2"
          ],
          [
           "032_PP_ps_3"
          ],
          [
           "010_PP_ps_1"
          ],
          [
           "010_PP_ps_2"
          ],
          [
           "010_PP_ps_3"
          ],
          [
           "010_PP_ps_4"
          ],
          [
           "054_PP_ps_1"
          ],
          [
           "054_PP_ps_2"
          ],
          [
           "054_PP_ps_3"
          ],
          [
           "028_PP_ps_1"
          ],
          [
           "028_PP_ps_2"
          ],
          [
           "028_PP_ps_3"
          ],
          [
           "033_PP_ps_1"
          ],
          [
           "033_PP_ps_2"
          ],
          [
           "033_PP_ps_3"
          ],
          [
           "053_PP_ps_1"
          ],
          [
           "053_PP_ps_2"
          ],
          [
           "053_PP_ps_3"
          ],
          [
           "027_PP_ps_1"
          ],
          [
           "027_PP_ps_2"
          ],
          [
           "027_PP_ps_3"
          ],
          [
           "030_PP_ps_1"
          ],
          [
           "030_PP_ps_2"
          ],
          [
           "030_PP_ps_3"
          ],
          [
           "024_PP_ps_1"
          ],
          [
           "024_PP_ps_2"
          ],
          [
           "024_PP_ps_3"
          ],
          [
           "006_PP_ps_1"
          ],
          [
           "006_PP_ps_2"
          ],
          [
           "006_PP_ps_3"
          ],
          [
           "047_PP_ps_1"
          ],
          [
           "047_PP_ps_2"
          ],
          [
           "047_PP_ps_3"
          ],
          [
           "052_PP_ps_1"
          ],
          [
           "052_PP_ps_2"
          ],
          [
           "014_PP_ps_1"
          ],
          [
           "014_PP_ps_2"
          ],
          [
           "014_PP_ps_3"
          ],
          [
           "013_PP_ps_1"
          ],
          [
           "013_PP_ps_2"
          ],
          [
           "013_PP_ps_3"
          ],
          [
           "042white_PP_ps_1"
          ],
          [
           "042white_PP_ps_2"
          ],
          [
           "042white_PP_ps_3"
          ],
          [
           "043_PP_ps_1"
          ],
          [
           "043_PP_ps_2"
          ],
          [
           "043_PP_ps_3"
          ],
          [
           "022_PP_ps_1"
          ],
          [
           "022_PP_ps_2"
          ],
          [
           "022_PP_ps_3"
          ],
          [
           "044_PP_ps_1"
          ],
          [
           "044_PP_ps_2"
          ],
          [
           "044_PP_ps_3"
          ],
          [
           "023_PP_ps_1"
          ],
          [
           "023_PP_ps_2"
          ],
          [
           "023_PP_ps_3"
          ],
          [
           "037_PP_ps_1"
          ],
          [
           "037_PP_ps_2"
          ],
          [
           "037_PP_ps_3"
          ],
          [
           "050_PP_ps_1"
          ],
          [
           "050_PP_ps_2"
          ],
          [
           "050_PP_ps_3"
          ],
          [
           "039_PP_ps_1"
          ],
          [
           "039_PP_ps_2"
          ],
          [
           "039_PP_ps_3"
          ],
          [
           "035_PP_ps_1"
          ],
          [
           "035_PP_ps_2"
          ],
          [
           "035_PP_ps_3"
          ],
          [
           "031_PP_ps_1"
          ],
          [
           "031_PP_ps_2"
          ],
          [
           "031_PP_ps_3"
          ],
          [
           "025_PP_ps_1"
          ],
          [
           "025_PP_ps_1"
          ],
          [
           "025_PP_ps_2"
          ],
          [
           "025_PP_ps_3"
          ],
          [
           "051_PP_ps_1"
          ],
          [
           "051_PP_ps_2"
          ],
          [
           "051_PP_ps_3"
          ],
          [
           "016_PP_ps_1"
          ],
          [
           "016_PP_ps_2"
          ],
          [
           "016_PP_ps_3"
          ],
          [
           "056_PP_ps_1"
          ],
          [
           "056_PP_ps_3"
          ],
          [
           "057_PP_ps_1"
          ],
          [
           "057_PP_ps_2"
          ],
          [
           "059_PP_ps_1"
          ],
          [
           "059_PP_ps_2"
          ],
          [
           "059_PP_ps_3"
          ],
          [
           "060_PP_ps_1"
          ],
          [
           "060_PP_ps_2"
          ],
          [
           "060_PP_ps_3"
          ],
          [
           "061_PP_ps_1"
          ],
          [
           "061_PP_ps_2"
          ],
          [
           "061_PP_ps_3"
          ]
         ],
         "hovertemplate": "PlasticType=PP<br>principal component 1=%{x}<br>principal component 2=%{y}<br>principal component 3=%{z}<br>Name=%{customdata[0]}<extra></extra>",
         "legendgroup": "PP",
         "marker": {
          "color": "#00cc96",
          "symbol": "circle"
         },
         "mode": "markers",
         "name": "PP",
         "scene": "scene",
         "showlegend": true,
         "type": "scatter3d",
         "x": [
          0.39781189197816436,
          0.5561967803739299,
          -1.1650090586445614,
          0.71924930396273,
          0.7405004216350295,
          0.5503711548910746,
          0.6175957263561,
          0.8808055262693499,
          0.8124643752510375,
          0.7488603062789214,
          1.8252497901019085,
          0.08283218509630581,
          1.126579509480369,
          1.0017621514991055,
          1.1503878323739527,
          1.1026916344225675,
          1.0029460125846792,
          0.7793373071245286,
          0.9535982120037845,
          1.340634517109668,
          1.1476454676832444,
          1.2977301027280523,
          0.5884073508844103,
          0.40985692517519806,
          0.7272912509730635,
          0.6880427731504675,
          0.8242570088413002,
          0.6098596075336167,
          0.7505153582706786,
          0.759854848994367,
          0.824071645987098,
          0.814288866558805,
          1.2542117031733466,
          1.1838286835183458,
          0.7273978911706432,
          0.7468851135876093,
          0.6661053706592517,
          1.068052612699378,
          0.35783260903613,
          0.8895456215951495,
          0.6698802303333048,
          0.8326904497245041,
          0.7405789295143752,
          1.3060625035734157,
          0.5795378483574621,
          0.5327442067701128,
          0.6564260097016976,
          -0.6047457383001252,
          -0.39385250635723096,
          0.1916348910812415,
          -0.479788456686511,
          0.621920590965663,
          0.7379395933134393,
          -0.1908383357876583,
          -0.4995632171936139,
          1.4370909111845471,
          1.2143318415892397,
          0.9157105244742154,
          0.7930523100504878,
          0.589911845112487,
          2.1024198021332436,
          -0.7864902674096279,
          -0.3593891555561992,
          1.4828578271526665,
          0.5732161715587315,
          0.492771585261689,
          0.8649178778998061,
          2.068099630521876,
          0.7782978064548025,
          0.44070802044167157,
          0.5270354055360434,
          0.4734149456785484,
          0.7872660311332385,
          0.4752958386064773,
          2.1005470310195316,
          1.5266076198679779,
          0.4615790549888824,
          0.5230006270309147,
          0.8260048982140862,
          0.11535276455887705,
          -0.15274972538025758,
          0.8478932415928864,
          0.5300780452769431,
          0.8249946847735345,
          1.28719450989588,
          1.0084356511401578,
          -0.6024121549222821,
          -0.30052319026776886,
          0.2237810439320486,
          0.5105705205282026,
          -0.039916838133915646,
          -0.5314708060934998,
          0.7485827531456821,
          -0.8879877017290237,
          -0.11612877085287593,
          -0.11788015177646707,
          -0.44655826997173664,
          1.167799398166075,
          0.927387731415014,
          0.4657514353550989,
          0.9362975699929279,
          0.5156107893700097,
          0.2454206840461881,
          0.44897591877518417,
          0.7979486575174246,
          0.7540492794152641,
          1.0321905669059959,
          0.8814050908101648,
          0.2912039088865895,
          0.14804238303167072,
          0.6283869031900019,
          0.5583326797547171,
          0.6960794929347216,
          0.6187980337640496,
          0.7840196135975315,
          1.1895929385134034,
          0.9329737662030685
         ],
         "y": [
          -0.5967162720396979,
          -0.5434463784487094,
          -0.2074792135014946,
          -0.3847375772898691,
          -0.5795131014428281,
          -0.6133250796981067,
          -0.5249576737532435,
          -0.5087136016022813,
          -0.5070218931220768,
          -0.6161877205416683,
          1.0528687073573708,
          -0.25406908860085226,
          -0.21014090381610287,
          -0.18424933668790813,
          -0.4261129076526882,
          -0.4049093032968166,
          -0.4192618671952054,
          -0.47522256620878667,
          -0.5846323096674736,
          -0.22890120487181706,
          -0.06445387975196006,
          0.06675823442249146,
          -0.5697214629895295,
          -0.4098963812578186,
          -0.5613024130276839,
          -0.58750123493242,
          -0.5183281652116494,
          -0.6103696841428566,
          -0.5679412513937928,
          -0.40207071185182774,
          -0.5320939135564469,
          -0.5097482929059645,
          0.1543754457146147,
          0.21863789656763985,
          -0.3116082736554193,
          -0.5052582871250869,
          -0.6428637113475552,
          -0.5765756175706894,
          -0.6473997392433913,
          -0.490269168797694,
          -0.49904399231652297,
          0.11723879638346116,
          -0.115941850051039,
          0.10467649718921497,
          -0.5071688417088687,
          -0.5368535433063335,
          -0.5538297926457606,
          -0.33273587595025883,
          -0.01658735260946671,
          -0.42613731581701525,
          0.2159485917909401,
          -0.4422608682055001,
          -0.4596305166285648,
          0.4625009199473562,
          -0.046451665461109064,
          -0.13193961787680855,
          -0.34581211990921285,
          -0.36938875789890785,
          -0.12754357733855268,
          0.43721364416287084,
          1.1986523969727239,
          0.3111044509224497,
          0.46316052614258807,
          -0.10319048220936057,
          -0.6264983839812149,
          -0.6567130842869442,
          -0.543650668709634,
          0.971989206341158,
          -0.5516656172083463,
          -0.6519066885979983,
          -0.6395178096648324,
          -0.6296001669379006,
          -0.560086091820212,
          -0.488695102254579,
          0.6286725746762178,
          -0.18300396575264224,
          -0.5046920372586701,
          -0.44238781981728575,
          -0.5240073302491822,
          0.04059365053553504,
          0.23173830152575958,
          0.43416973850538143,
          -0.5215162486599868,
          -0.41955779885895556,
          -0.37259835178102557,
          -0.027016494568683904,
          2.0819673757028916,
          0.810571741932042,
          -0.558296043909854,
          -0.5773530253771704,
          -0.6389643716542585,
          -0.2516120609061108,
          -0.5440053278407,
          0.017587261050958616,
          -0.5206066354810749,
          -0.5203447625403238,
          -0.30955438321672035,
          -0.4025393753998471,
          -0.4880933334690951,
          -0.4940588850664112,
          -0.5202718200892967,
          -0.257951836879169,
          -0.11426608158317526,
          -0.2799388062573469,
          -0.5350492565298396,
          -0.5364974875691936,
          0.8361058142281923,
          -0.3548353478324632,
          1.3716852823675312,
          -0.11649845362250101,
          -0.17739911739505437,
          -0.0389775466631066,
          -0.034369278332141595,
          -0.024056075533697183,
          -0.3018613095504588,
          -0.5124591873735954,
          -0.4582750159122698
         ],
         "z": [
          -0.0332131593359119,
          -0.15273506703154607,
          0.6814289698424602,
          -0.2801854015589781,
          0.005042466058725414,
          0.02952119422169092,
          -0.15744164032970143,
          -0.11597589981834311,
          -0.15663797926496847,
          0.0690079011003084,
          -0.7569929282505963,
          -0.5587587597736159,
          -0.43831629004873734,
          -0.4574430862617466,
          -0.12196352701241828,
          -0.16499872804917484,
          -0.26825942343802706,
          -0.28942698031675607,
          0.9745332375973287,
          -0.3564428879455171,
          -0.5936689624729526,
          -0.7065124459057796,
          -0.12645824299519548,
          -0.42606482380109384,
          0.14944335458619049,
          -0.07018126610500196,
          -0.14048184884054796,
          -0.006347529707723226,
          -0.052467842110837194,
          -0.33514102712811483,
          -0.11819999016338195,
          -0.16874072423273234,
          -0.8097678461441447,
          -0.7330302352855353,
          -0.4970221840823235,
          0.08492114486123228,
          0.20494193685046472,
          0.5194377105416123,
          0.17683326688535675,
          -0.2057954741405743,
          -0.09699521456084442,
          -0.8833628058089317,
          -0.6994883799459136,
          -0.6095431524505892,
          -0.26284315207873693,
          -0.10049579985084929,
          -0.14425361377781312,
          0.17407264130618016,
          -0.2747610144511737,
          0.18542905456888817,
          -0.520124811072951,
          0.18542604429654638,
          0.371865281911315,
          0.556161421934951,
          1.1184559282525213,
          0.09181974544598548,
          -0.07329557574300381,
          -0.14699523439520248,
          -0.7575884125452217,
          -1.2703861846615918,
          -0.7575218220671878,
          -0.9659710839636154,
          -0.52120484480632,
          -0.14969100579167857,
          0.08780872477567528,
          0.09120278311095076,
          -0.012002387354225744,
          -0.45645495127983426,
          0.9769613982849928,
          0.3089987337786678,
          0.016237716851259864,
          0.04038555774744067,
          0.20607351429084556,
          -0.20222281130504802,
          1.521788298656095,
          0.46792566781121775,
          -0.3187859709339577,
          -0.4138650714281948,
          -0.12336612622731778,
          -0.9724202089680073,
          -0.9482552239548304,
          -1.2685757359020347,
          -0.1543338982152991,
          -0.36364846007047563,
          -0.08176628846101716,
          -0.34744492378938596,
          -0.6919892668530316,
          -0.594897282822616,
          0.041137083115627894,
          0.24582008069199712,
          0.5939251635381344,
          -0.13457432898668906,
          0.9969620138297147,
          -0.6525879462390705,
          0.7381068144832328,
          0.7377457008064494,
          0.20062363707958053,
          1.7149448374298037,
          -0.16057290365627502,
          -0.13418897627510795,
          -0.04580592177167676,
          -0.5157729966227388,
          -0.7378160048155222,
          -0.417702718107452,
          -0.136122232926475,
          -0.16812446851662013,
          -0.8035592825848645,
          -0.1340136653752594,
          -1.1805292714736422,
          -0.571238735258517,
          -0.39823099635580617,
          -0.8606424340188643,
          -0.8619960682492482,
          -0.8790896891869752,
          -0.5044914285642916,
          0.3590574314633726,
          -0.0257569875871943
         ]
        },
        {
         "customdata": [
          [
           "128_PET_ps_1"
          ],
          [
           "128_PET_ps_2"
          ],
          [
           "128_PET_ps_3"
          ],
          [
           "124_PET_ps_1"
          ],
          [
           "124_PET_ps_2"
          ],
          [
           "124_PET_ps_3"
          ],
          [
           "132_PET_ps_1"
          ],
          [
           "132_PET_ps_2"
          ],
          [
           "132_PET_ps_3"
          ],
          [
           "115_PET_ps_1"
          ],
          [
           "115_PET_ps_3"
          ],
          [
           "114_PET_ps_3"
          ],
          [
           "108_PET_ps_3"
          ],
          [
           "111_PET_ps_1"
          ],
          [
           "111_PET_ps_2"
          ],
          [
           "111_PET_ps_3"
          ],
          [
           "123_PET_ps_1"
          ],
          [
           "123_PET_ps_2"
          ],
          [
           "123_PET_ps_3"
          ],
          [
           "134_PET_ps_1"
          ],
          [
           "134_PET_ps_2"
          ],
          [
           "134_PET_ps_3"
          ],
          [
           "150_PET_ps_1"
          ],
          [
           "150_PET_ps_2"
          ],
          [
           "150_PET_ps_3"
          ],
          [
           "127_PET_ps_1"
          ],
          [
           "127_PET_ps_2"
          ],
          [
           "127_PET_ps_3"
          ],
          [
           "119_PET_ps_1"
          ],
          [
           "119_PET_ps_3"
          ],
          [
           "135_PET_ps_1"
          ],
          [
           "135_PET_ps_2"
          ],
          [
           "135_PET_ps_3"
          ],
          [
           "113_PET_ps_1"
          ],
          [
           "113_PET_ps_2"
          ],
          [
           "113_PET_ps_3"
          ],
          [
           "121_PET_ps_1"
          ],
          [
           "121_PET_ps_2"
          ],
          [
           "121_PET_ps_3"
          ],
          [
           "137_PET_ps_1"
          ],
          [
           "137_PET_ps_2"
          ],
          [
           "137_PET_ps_3"
          ],
          [
           "131_PET_ps_1"
          ],
          [
           "131_PET_ps_2"
          ],
          [
           "107_PET_ps_1"
          ],
          [
           "107_PET_ps_2"
          ],
          [
           "107_PET_ps_3"
          ],
          [
           "105_PET_ps_3"
          ],
          [
           "125_PET_ps_1"
          ],
          [
           "112_PET_ps_1"
          ],
          [
           "112_PET_ps_2"
          ],
          [
           "112_PET_ps_3"
          ]
         ],
         "hovertemplate": "PlasticType=PET<br>principal component 1=%{x}<br>principal component 2=%{y}<br>principal component 3=%{z}<br>Name=%{customdata[0]}<extra></extra>",
         "legendgroup": "PET",
         "marker": {
          "color": "#ab63fa",
          "symbol": "circle"
         },
         "mode": "markers",
         "name": "PET",
         "scene": "scene",
         "showlegend": true,
         "type": "scatter3d",
         "x": [
          -1.0103336238047904,
          -1.0277414786411083,
          -1.1197938307522706,
          -1.0253238677888465,
          -1.137410473609093,
          -1.5478038088969606,
          -0.4527466480007211,
          -1.989128237007624,
          -1.3371177626039812,
          -1.0261221536693215,
          1.2740247755648073,
          -0.6447002861128677,
          -1.2298591755861745,
          -0.9669282567747038,
          -0.8441450510820558,
          -1.1494847326741007,
          -1.1764386887924447,
          -1.2165694750680334,
          -1.8051771956986953,
          -1.2341434384758887,
          -1.342975660776407,
          -0.8802951615618296,
          -0.262854651499318,
          -1.6503969287966906,
          -1.3488462701207304,
          -0.752909519033323,
          -1.2082568680097734,
          0.6354044422444324,
          -0.8484084086594286,
          -0.8193638148778221,
          1.2386439841436063,
          1.4457091375609388,
          -0.8524792853909587,
          -1.1675533409157886,
          -0.8248848844912554,
          -1.884836597440722,
          -1.567451452308833,
          -1.3933081018301225,
          -1.1948530704341058,
          -0.09052804209907885,
          0.24231976179758874,
          -1.007690838934642,
          -0.7017931129185413,
          -1.771077176833058,
          -1.757192713655468,
          -1.0615295424565805,
          -1.3363535339935557,
          0.5953394932683828,
          -0.7099422105479257,
          -1.411044380365523,
          -1.2243488527905122,
          -0.9136280680306283
         ],
         "y": [
          -0.39903074872492433,
          -0.3840337385125834,
          -0.28142048083371385,
          0.06550592891708222,
          2.1278591937367293,
          0.12756882979152023,
          0.5283316544984397,
          0.942421618400794,
          0.05788538179967575,
          0.6353872563087865,
          1.4360440225787234,
          -0.3540830440706801,
          -0.034859213163861,
          -0.4518420812134291,
          -0.41965072843823165,
          -0.2816594625972458,
          0.3919829186573521,
          0.5152438730373514,
          1.2242024819218622,
          0.2376305521761289,
          0.13475591078003266,
          -0.17769674471482014,
          1.2200045778872002,
          1.1422477055536824,
          0.5455459415580659,
          0.06744658650314811,
          0.15453607465023775,
          1.1804161644629951,
          -0.2836485562378113,
          -0.4250124902540719,
          3.043787795002661,
          1.1993055103483397,
          1.3931404093277546,
          -0.2742640036363736,
          0.5408975471233771,
          0.5833147002660741,
          0.468316723553586,
          0.024251661689911826,
          0.04733327724576889,
          0.34437125903993127,
          0.4335917845128475,
          -0.29715025627603603,
          1.0315149709656544,
          1.6163044303451524,
          0.7985326299412171,
          -0.22204155721643376,
          0.9155265294023885,
          -0.1369839936676098,
          0.973235445074761,
          -0.02745141360475736,
          -0.040976431395369516,
          -0.4256974867666789
         ],
         "z": [
          0.44473485263236495,
          0.5907275223526715,
          0.34206005247427124,
          0.5033406650859561,
          0.20321058893283733,
          0.4332987344288211,
          -1.024373215507484,
          -0.1280099967641037,
          0.4980625166841086,
          1.7889645050717757,
          -1.2207834464202325,
          0.9551397508305223,
          0.0729305011718807,
          0.7796902514483574,
          0.691098547257755,
          0.8617000362095361,
          0.5282392234629029,
          0.12993273481746545,
          -0.6088331253199579,
          -0.02554532956582096,
          0.12623879106661778,
          0.32695040414306886,
          -0.19775833693761166,
          0.037574335379405105,
          1.1033967522592505,
          1.0735466541303103,
          -0.20128381935585218,
          1.6794465129896814,
          -0.04659721677694633,
          0.2908542221590616,
          2.161347355461003,
          0.31631363297882764,
          -0.4130022180116735,
          1.1953470450481174,
          -0.04945303864297818,
          1.1710172702125763,
          -0.24907871368950937,
          0.31909927470140076,
          0.2899094606026721,
          -0.12484985602472237,
          1.3051914006738854,
          0.28794877949102554,
          -0.054187924990921094,
          -0.30738572913751516,
          0.8578787015672764,
          0.5533869489508274,
          -0.45392302790727007,
          1.0328024179229436,
          -0.36099755058711497,
          0.5198684149097431,
          1.2319890098387467,
          0.9728299513232033
         ]
        },
        {
         "customdata": [
          [
           "306_PS_ps_1"
          ],
          [
           "306_PS_ps_2"
          ],
          [
           "306_PS_ps_3"
          ],
          [
           "305_PS_ps_1"
          ],
          [
           "305_PS_ps_2"
          ],
          [
           "305_PS_ps_3"
          ],
          [
           "305_PS_ps_4"
          ],
          [
           "KL602_PS_ps_1"
          ],
          [
           "KL602_PS_ps_2"
          ],
          [
           "KL602_PS_ps_3"
          ],
          [
           "302_PS_ps_1"
          ],
          [
           "302_PS_ps_2"
          ],
          [
           "302_PS_ps_3"
          ],
          [
           "KL608_PS_ps_1"
          ],
          [
           "KL608_PS_ps_2"
          ],
          [
           "KL608_PS_ps_3"
          ],
          [
           "KL604_PS_ps_1"
          ],
          [
           "KL604_PS_ps_2"
          ],
          [
           "KL604_PS_ps_3"
          ],
          [
           "361_PS_ps_1"
          ],
          [
           "361_PS_ps_3"
          ],
          [
           "KL605_PS_ps_1"
          ],
          [
           "KL600_PS_ps_2"
          ],
          [
           "KL600_PS_ps_3"
          ],
          [
           "303_PS_ps_1"
          ],
          [
           "303_PS_ps_2"
          ],
          [
           "303_PS_ps_3"
          ],
          [
           "304_PS_ps_1"
          ],
          [
           "308_PS_ps_1"
          ],
          [
           "308_PS_ps_2"
          ],
          [
           "308_PS_ps_3"
          ],
          [
           "2mm_PS_ps_1"
          ],
          [
           "2mm_PS_ps_2"
          ],
          [
           "2mm_PS_ps_3"
          ],
          [
           "4mm_PS_ps_1"
          ],
          [
           "4mm_PS_ps_2"
          ],
          [
           "4mm_PS_ps_3"
          ]
         ],
         "hovertemplate": "PlasticType=PS<br>principal component 1=%{x}<br>principal component 2=%{y}<br>principal component 3=%{z}<br>Name=%{customdata[0]}<extra></extra>",
         "legendgroup": "PS",
         "marker": {
          "color": "#FFA15A",
          "symbol": "circle"
         },
         "mode": "markers",
         "name": "PS",
         "scene": "scene",
         "showlegend": true,
         "type": "scatter3d",
         "x": [
          -0.9201421722687637,
          -0.8370699044443407,
          -0.9750540725099985,
          -0.8218313588014223,
          -0.8036744329336555,
          -0.13315642176477419,
          -0.8869549518263542,
          -1.0996683424463496,
          -0.9773955269287378,
          -1.1994209017174002,
          -1.148738631769016,
          -0.6803156001062712,
          -1.1222918687710075,
          -1.3930056168274978,
          -0.2373123408028318,
          -1.756743876383614,
          -0.8007118068170707,
          -1.1746914187300144,
          -0.7331893180953767,
          -1.342893256293248,
          -0.9904573746430578,
          -0.5951465939710593,
          -0.7831351060807272,
          -0.9981019638301458,
          -0.5065709383297408,
          -1.3571890212927424,
          -1.3118406918056773,
          -1.3000212394903847,
          -0.98662301772192,
          -0.7098330460731586,
          -0.7244769196670081,
          -1.1678438223968328,
          -1.200260449626447,
          -1.1658931210660703,
          -0.8449120764670163,
          -0.8923243711828931,
          -0.8678207324533102
         ],
         "y": [
          -0.0929628689982748,
          -0.029886567987398173,
          -0.07189957102771356,
          -0.13307839605847707,
          -0.03444926445840107,
          -0.3010718565203926,
          -0.09581787610305624,
          -0.05598313410462534,
          -0.08281349118920962,
          0.0909250410228323,
          -0.28943514914136304,
          1.105152750190632,
          -0.3310353361592667,
          0.4032049066986613,
          0.7074826321065028,
          0.5000001098491786,
          -0.2541770497842192,
          0.6187446607667437,
          -0.1593683820715665,
          0.2178042683084688,
          0.24969954305576086,
          -0.5113812743384749,
          -0.06675466541319465,
          -0.09692270347579018,
          -0.16368440705548912,
          0.4818151666310697,
          0.2042559899209642,
          0.5531060409014924,
          -0.27196798641526887,
          -0.34582135900161476,
          -0.46026961931752786,
          0.1034813029944608,
          0.09055311807630063,
          0.04626499867737739,
          -0.1109347583154317,
          -0.09319338083679317,
          -0.10801038840994912
         ],
         "z": [
          -0.38987865334193206,
          -0.6226784381079533,
          -0.36906568272867063,
          -0.468101185236181,
          -0.5597467882286234,
          -0.22390969120286444,
          -0.48246718049881837,
          -0.3194715490051254,
          -0.3832860931963994,
          -0.43196632427530746,
          0.24083662122873206,
          -1.299923485911247,
          0.6856032799645452,
          -0.47326144690896693,
          0.17298484764097227,
          -0.17731268716708,
          -0.23760926023206982,
          -0.8800338255877462,
          -0.30929209514734995,
          -0.44067490232406137,
          -0.8203851551445144,
          0.8462598706197801,
          -0.5519760908362141,
          -0.2825934291749626,
          -0.43039297158202616,
          -0.7611273684387864,
          -0.4472076234929202,
          -0.6997299910778194,
          -0.020426881784594706,
          -0.13528078749535044,
          0.16910544789610346,
          -0.42762642607954054,
          -0.3992303328287477,
          -0.388544373061829,
          -0.4379427540592854,
          -0.43980041841621254,
          -0.4287307194760009
         ]
        }
       ],
       "layout": {
        "legend": {
         "title": {
          "text": "PlasticType"
         },
         "tracegroupgap": 0
        },
        "margin": {
         "t": 60
        },
        "scene": {
         "domain": {
          "x": [
           0,
           1
          ],
          "y": [
           0,
           1
          ]
         },
         "xaxis": {
          "title": {
           "text": "principal component 1"
          }
         },
         "yaxis": {
          "title": {
           "text": "principal component 2"
          }
         },
         "zaxis": {
          "title": {
           "text": "principal component 3"
          }
         }
        },
        "template": {
         "data": {
          "bar": [
           {
            "error_x": {
             "color": "#2a3f5f"
            },
            "error_y": {
             "color": "#2a3f5f"
            },
            "marker": {
             "line": {
              "color": "#E5ECF6",
              "width": 0.5
             },
             "pattern": {
              "fillmode": "overlay",
              "size": 10,
              "solidity": 0.2
             }
            },
            "type": "bar"
           }
          ],
          "barpolar": [
           {
            "marker": {
             "line": {
              "color": "#E5ECF6",
              "width": 0.5
             },
             "pattern": {
              "fillmode": "overlay",
              "size": 10,
              "solidity": 0.2
             }
            },
            "type": "barpolar"
           }
          ],
          "carpet": [
           {
            "aaxis": {
             "endlinecolor": "#2a3f5f",
             "gridcolor": "white",
             "linecolor": "white",
             "minorgridcolor": "white",
             "startlinecolor": "#2a3f5f"
            },
            "baxis": {
             "endlinecolor": "#2a3f5f",
             "gridcolor": "white",
             "linecolor": "white",
             "minorgridcolor": "white",
             "startlinecolor": "#2a3f5f"
            },
            "type": "carpet"
           }
          ],
          "choropleth": [
           {
            "colorbar": {
             "outlinewidth": 0,
             "ticks": ""
            },
            "type": "choropleth"
           }
          ],
          "contour": [
           {
            "colorbar": {
             "outlinewidth": 0,
             "ticks": ""
            },
            "colorscale": [
             [
              0,
              "#0d0887"
             ],
             [
              0.1111111111111111,
              "#46039f"
             ],
             [
              0.2222222222222222,
              "#7201a8"
             ],
             [
              0.3333333333333333,
              "#9c179e"
             ],
             [
              0.4444444444444444,
              "#bd3786"
             ],
             [
              0.5555555555555556,
              "#d8576b"
             ],
             [
              0.6666666666666666,
              "#ed7953"
             ],
             [
              0.7777777777777778,
              "#fb9f3a"
             ],
             [
              0.8888888888888888,
              "#fdca26"
             ],
             [
              1,
              "#f0f921"
             ]
            ],
            "type": "contour"
           }
          ],
          "contourcarpet": [
           {
            "colorbar": {
             "outlinewidth": 0,
             "ticks": ""
            },
            "type": "contourcarpet"
           }
          ],
          "heatmap": [
           {
            "colorbar": {
             "outlinewidth": 0,
             "ticks": ""
            },
            "colorscale": [
             [
              0,
              "#0d0887"
             ],
             [
              0.1111111111111111,
              "#46039f"
             ],
             [
              0.2222222222222222,
              "#7201a8"
             ],
             [
              0.3333333333333333,
              "#9c179e"
             ],
             [
              0.4444444444444444,
              "#bd3786"
             ],
             [
              0.5555555555555556,
              "#d8576b"
             ],
             [
              0.6666666666666666,
              "#ed7953"
             ],
             [
              0.7777777777777778,
              "#fb9f3a"
             ],
             [
              0.8888888888888888,
              "#fdca26"
             ],
             [
              1,
              "#f0f921"
             ]
            ],
            "type": "heatmap"
           }
          ],
          "heatmapgl": [
           {
            "colorbar": {
             "outlinewidth": 0,
             "ticks": ""
            },
            "colorscale": [
             [
              0,
              "#0d0887"
             ],
             [
              0.1111111111111111,
              "#46039f"
             ],
             [
              0.2222222222222222,
              "#7201a8"
             ],
             [
              0.3333333333333333,
              "#9c179e"
             ],
             [
              0.4444444444444444,
              "#bd3786"
             ],
             [
              0.5555555555555556,
              "#d8576b"
             ],
             [
              0.6666666666666666,
              "#ed7953"
             ],
             [
              0.7777777777777778,
              "#fb9f3a"
             ],
             [
              0.8888888888888888,
              "#fdca26"
             ],
             [
              1,
              "#f0f921"
             ]
            ],
            "type": "heatmapgl"
           }
          ],
          "histogram": [
           {
            "marker": {
             "pattern": {
              "fillmode": "overlay",
              "size": 10,
              "solidity": 0.2
             }
            },
            "type": "histogram"
           }
          ],
          "histogram2d": [
           {
            "colorbar": {
             "outlinewidth": 0,
             "ticks": ""
            },
            "colorscale": [
             [
              0,
              "#0d0887"
             ],
             [
              0.1111111111111111,
              "#46039f"
             ],
             [
              0.2222222222222222,
              "#7201a8"
             ],
             [
              0.3333333333333333,
              "#9c179e"
             ],
             [
              0.4444444444444444,
              "#bd3786"
             ],
             [
              0.5555555555555556,
              "#d8576b"
             ],
             [
              0.6666666666666666,
              "#ed7953"
             ],
             [
              0.7777777777777778,
              "#fb9f3a"
             ],
             [
              0.8888888888888888,
              "#fdca26"
             ],
             [
              1,
              "#f0f921"
             ]
            ],
            "type": "histogram2d"
           }
          ],
          "histogram2dcontour": [
           {
            "colorbar": {
             "outlinewidth": 0,
             "ticks": ""
            },
            "colorscale": [
             [
              0,
              "#0d0887"
             ],
             [
              0.1111111111111111,
              "#46039f"
             ],
             [
              0.2222222222222222,
              "#7201a8"
             ],
             [
              0.3333333333333333,
              "#9c179e"
             ],
             [
              0.4444444444444444,
              "#bd3786"
             ],
             [
              0.5555555555555556,
              "#d8576b"
             ],
             [
              0.6666666666666666,
              "#ed7953"
             ],
             [
              0.7777777777777778,
              "#fb9f3a"
             ],
             [
              0.8888888888888888,
              "#fdca26"
             ],
             [
              1,
              "#f0f921"
             ]
            ],
            "type": "histogram2dcontour"
           }
          ],
          "mesh3d": [
           {
            "colorbar": {
             "outlinewidth": 0,
             "ticks": ""
            },
            "type": "mesh3d"
           }
          ],
          "parcoords": [
           {
            "line": {
             "colorbar": {
              "outlinewidth": 0,
              "ticks": ""
             }
            },
            "type": "parcoords"
           }
          ],
          "pie": [
           {
            "automargin": true,
            "type": "pie"
           }
          ],
          "scatter": [
           {
            "fillpattern": {
             "fillmode": "overlay",
             "size": 10,
             "solidity": 0.2
            },
            "type": "scatter"
           }
          ],
          "scatter3d": [
           {
            "line": {
             "colorbar": {
              "outlinewidth": 0,
              "ticks": ""
             }
            },
            "marker": {
             "colorbar": {
              "outlinewidth": 0,
              "ticks": ""
             }
            },
            "type": "scatter3d"
           }
          ],
          "scattercarpet": [
           {
            "marker": {
             "colorbar": {
              "outlinewidth": 0,
              "ticks": ""
             }
            },
            "type": "scattercarpet"
           }
          ],
          "scattergeo": [
           {
            "marker": {
             "colorbar": {
              "outlinewidth": 0,
              "ticks": ""
             }
            },
            "type": "scattergeo"
           }
          ],
          "scattergl": [
           {
            "marker": {
             "colorbar": {
              "outlinewidth": 0,
              "ticks": ""
             }
            },
            "type": "scattergl"
           }
          ],
          "scattermapbox": [
           {
            "marker": {
             "colorbar": {
              "outlinewidth": 0,
              "ticks": ""
             }
            },
            "type": "scattermapbox"
           }
          ],
          "scatterpolar": [
           {
            "marker": {
             "colorbar": {
              "outlinewidth": 0,
              "ticks": ""
             }
            },
            "type": "scatterpolar"
           }
          ],
          "scatterpolargl": [
           {
            "marker": {
             "colorbar": {
              "outlinewidth": 0,
              "ticks": ""
             }
            },
            "type": "scatterpolargl"
           }
          ],
          "scatterternary": [
           {
            "marker": {
             "colorbar": {
              "outlinewidth": 0,
              "ticks": ""
             }
            },
            "type": "scatterternary"
           }
          ],
          "surface": [
           {
            "colorbar": {
             "outlinewidth": 0,
             "ticks": ""
            },
            "colorscale": [
             [
              0,
              "#0d0887"
             ],
             [
              0.1111111111111111,
              "#46039f"
             ],
             [
              0.2222222222222222,
              "#7201a8"
             ],
             [
              0.3333333333333333,
              "#9c179e"
             ],
             [
              0.4444444444444444,
              "#bd3786"
             ],
             [
              0.5555555555555556,
              "#d8576b"
             ],
             [
              0.6666666666666666,
              "#ed7953"
             ],
             [
              0.7777777777777778,
              "#fb9f3a"
             ],
             [
              0.8888888888888888,
              "#fdca26"
             ],
             [
              1,
              "#f0f921"
             ]
            ],
            "type": "surface"
           }
          ],
          "table": [
           {
            "cells": {
             "fill": {
              "color": "#EBF0F8"
             },
             "line": {
              "color": "white"
             }
            },
            "header": {
             "fill": {
              "color": "#C8D4E3"
             },
             "line": {
              "color": "white"
             }
            },
            "type": "table"
           }
          ]
         },
         "layout": {
          "annotationdefaults": {
           "arrowcolor": "#2a3f5f",
           "arrowhead": 0,
           "arrowwidth": 1
          },
          "autotypenumbers": "strict",
          "coloraxis": {
           "colorbar": {
            "outlinewidth": 0,
            "ticks": ""
           }
          },
          "colorscale": {
           "diverging": [
            [
             0,
             "#8e0152"
            ],
            [
             0.1,
             "#c51b7d"
            ],
            [
             0.2,
             "#de77ae"
            ],
            [
             0.3,
             "#f1b6da"
            ],
            [
             0.4,
             "#fde0ef"
            ],
            [
             0.5,
             "#f7f7f7"
            ],
            [
             0.6,
             "#e6f5d0"
            ],
            [
             0.7,
             "#b8e186"
            ],
            [
             0.8,
             "#7fbc41"
            ],
            [
             0.9,
             "#4d9221"
            ],
            [
             1,
             "#276419"
            ]
           ],
           "sequential": [
            [
             0,
             "#0d0887"
            ],
            [
             0.1111111111111111,
             "#46039f"
            ],
            [
             0.2222222222222222,
             "#7201a8"
            ],
            [
             0.3333333333333333,
             "#9c179e"
            ],
            [
             0.4444444444444444,
             "#bd3786"
            ],
            [
             0.5555555555555556,
             "#d8576b"
            ],
            [
             0.6666666666666666,
             "#ed7953"
            ],
            [
             0.7777777777777778,
             "#fb9f3a"
            ],
            [
             0.8888888888888888,
             "#fdca26"
            ],
            [
             1,
             "#f0f921"
            ]
           ],
           "sequentialminus": [
            [
             0,
             "#0d0887"
            ],
            [
             0.1111111111111111,
             "#46039f"
            ],
            [
             0.2222222222222222,
             "#7201a8"
            ],
            [
             0.3333333333333333,
             "#9c179e"
            ],
            [
             0.4444444444444444,
             "#bd3786"
            ],
            [
             0.5555555555555556,
             "#d8576b"
            ],
            [
             0.6666666666666666,
             "#ed7953"
            ],
            [
             0.7777777777777778,
             "#fb9f3a"
            ],
            [
             0.8888888888888888,
             "#fdca26"
            ],
            [
             1,
             "#f0f921"
            ]
           ]
          },
          "colorway": [
           "#636efa",
           "#EF553B",
           "#00cc96",
           "#ab63fa",
           "#FFA15A",
           "#19d3f3",
           "#FF6692",
           "#B6E880",
           "#FF97FF",
           "#FECB52"
          ],
          "font": {
           "color": "#2a3f5f"
          },
          "geo": {
           "bgcolor": "white",
           "lakecolor": "white",
           "landcolor": "#E5ECF6",
           "showlakes": true,
           "showland": true,
           "subunitcolor": "white"
          },
          "hoverlabel": {
           "align": "left"
          },
          "hovermode": "closest",
          "mapbox": {
           "style": "light"
          },
          "paper_bgcolor": "white",
          "plot_bgcolor": "#E5ECF6",
          "polar": {
           "angularaxis": {
            "gridcolor": "white",
            "linecolor": "white",
            "ticks": ""
           },
           "bgcolor": "#E5ECF6",
           "radialaxis": {
            "gridcolor": "white",
            "linecolor": "white",
            "ticks": ""
           }
          },
          "scene": {
           "xaxis": {
            "backgroundcolor": "#E5ECF6",
            "gridcolor": "white",
            "gridwidth": 2,
            "linecolor": "white",
            "showbackground": true,
            "ticks": "",
            "zerolinecolor": "white"
           },
           "yaxis": {
            "backgroundcolor": "#E5ECF6",
            "gridcolor": "white",
            "gridwidth": 2,
            "linecolor": "white",
            "showbackground": true,
            "ticks": "",
            "zerolinecolor": "white"
           },
           "zaxis": {
            "backgroundcolor": "#E5ECF6",
            "gridcolor": "white",
            "gridwidth": 2,
            "linecolor": "white",
            "showbackground": true,
            "ticks": "",
            "zerolinecolor": "white"
           }
          },
          "shapedefaults": {
           "line": {
            "color": "#2a3f5f"
           }
          },
          "ternary": {
           "aaxis": {
            "gridcolor": "white",
            "linecolor": "white",
            "ticks": ""
           },
           "baxis": {
            "gridcolor": "white",
            "linecolor": "white",
            "ticks": ""
           },
           "bgcolor": "#E5ECF6",
           "caxis": {
            "gridcolor": "white",
            "linecolor": "white",
            "ticks": ""
           }
          },
          "title": {
           "x": 0.05
          },
          "xaxis": {
           "automargin": true,
           "gridcolor": "white",
           "linecolor": "white",
           "ticks": "",
           "title": {
            "standoff": 15
           },
           "zerolinecolor": "white",
           "zerolinewidth": 2
          },
          "yaxis": {
           "automargin": true,
           "gridcolor": "white",
           "linecolor": "white",
           "ticks": "",
           "title": {
            "standoff": 15
           },
           "zerolinecolor": "white",
           "zerolinewidth": 2
          }
         }
        }
       }
      }
     },
     "metadata": {},
     "output_type": "display_data"
    }
   ],
   "source": [
    "fig = px.scatter_3d(principalDf, x='principal component 1', y='principal component 2', z='principal component 3', color='PlasticType', hover_data=['Name'])\n",
    "fig.show()"
   ]
  }
 ],
 "metadata": {
  "kernelspec": {
   "display_name": "Python 3",
   "language": "python",
   "name": "python3"
  },
  "language_info": {
   "codemirror_mode": {
    "name": "ipython",
    "version": 3
   },
   "file_extension": ".py",
   "mimetype": "text/x-python",
   "name": "python",
   "nbconvert_exporter": "python",
   "pygments_lexer": "ipython3",
   "version": "3.10.1"
  },
  "orig_nbformat": 4
 },
 "nbformat": 4,
 "nbformat_minor": 2
}

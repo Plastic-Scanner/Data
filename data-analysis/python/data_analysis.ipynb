{
 "cells": [
  {
   "attachments": {},
   "cell_type": "markdown",
   "metadata": {},
   "source": [
    "Import dataset"
   ]
  },
  {
   "cell_type": "code",
   "execution_count": 65,
   "metadata": {},
   "outputs": [],
   "source": [
    "# step 1: import the .csv into 1 big dataframe from this url: https://raw.githubusercontent.com/Plastic-Scanner/data/main/data/20230419_DB2.1_fourth_dataset/measurement.csv\n",
    "import pandas as pd\n",
    "#url = 'https://raw.githubusercontent.com/Plastic-Scanner/data/main/data/20230117_DB2.1_second_dataset/measurement.csv'\n",
    "#url = 'https://raw.githubusercontent.com/Plastic-Scanner/data/main/data/20230301_DB2.1_third_dataset/measurement.csv'\n",
    "#url = 'https://raw.githubusercontent.com/Plastic-Scanner/data/main/data/20230419_DB2.1_fourth_dataset/measurement.csv'\n",
    "#url = 'https://raw.githubusercontent.com/Plastic-Scanner/data/main/data/20230508_DB2.2_first_dataset/measurement.csv'\n",
    "#url = 'https://raw.githubusercontent.com/Plastic-Scanner/data/main/data/20230522_DB2.2_second_dataset/measurement.csv'\n",
    "url = 'https://raw.githubusercontent.com/Plastic-Scanner/data/main/data/20230523_DB2.2_third_dataset/measurement.csv'\n",
    "\n",
    "df = pd.read_csv(url, sep=',')"
   ]
  },
  {
   "cell_type": "code",
   "execution_count": 66,
   "metadata": {},
   "outputs": [
    {
     "data": {
      "text/html": [
       "<div>\n",
       "<style scoped>\n",
       "    .dataframe tbody tr th:only-of-type {\n",
       "        vertical-align: middle;\n",
       "    }\n",
       "\n",
       "    .dataframe tbody tr th {\n",
       "        vertical-align: top;\n",
       "    }\n",
       "\n",
       "    .dataframe thead th {\n",
       "        text-align: right;\n",
       "    }\n",
       "</style>\n",
       "<table border=\"1\" class=\"dataframe\">\n",
       "  <thead>\n",
       "    <tr style=\"text-align: right;\">\n",
       "      <th></th>\n",
       "      <th>Reading</th>\n",
       "      <th>Name</th>\n",
       "      <th>PlasticType</th>\n",
       "      <th>Color</th>\n",
       "      <th>MeasurementType</th>\n",
       "      <th>DateTime</th>\n",
       "      <th>nm940</th>\n",
       "      <th>nm1050</th>\n",
       "      <th>nm1200</th>\n",
       "      <th>nm1300</th>\n",
       "      <th>nm1450</th>\n",
       "      <th>nm1550</th>\n",
       "      <th>nm1650</th>\n",
       "      <th>nm1720</th>\n",
       "    </tr>\n",
       "  </thead>\n",
       "  <tbody>\n",
       "    <tr>\n",
       "      <th>0</th>\n",
       "      <td>0</td>\n",
       "      <td>NaN</td>\n",
       "      <td>unknown</td>\n",
       "      <td>NaN</td>\n",
       "      <td>calibration</td>\n",
       "      <td>2023-05-23 11:01:26</td>\n",
       "      <td>56344</td>\n",
       "      <td>89567</td>\n",
       "      <td>205776</td>\n",
       "      <td>206422</td>\n",
       "      <td>108166</td>\n",
       "      <td>115662</td>\n",
       "      <td>39090</td>\n",
       "      <td>26632</td>\n",
       "    </tr>\n",
       "    <tr>\n",
       "      <th>1</th>\n",
       "      <td>1</td>\n",
       "      <td>reference</td>\n",
       "      <td>reference</td>\n",
       "      <td>white</td>\n",
       "      <td>regular</td>\n",
       "      <td>2023-05-23 11:01:41</td>\n",
       "      <td>56016</td>\n",
       "      <td>90392</td>\n",
       "      <td>203769</td>\n",
       "      <td>206205</td>\n",
       "      <td>108056</td>\n",
       "      <td>115277</td>\n",
       "      <td>39330</td>\n",
       "      <td>26430</td>\n",
       "    </tr>\n",
       "    <tr>\n",
       "      <th>2</th>\n",
       "      <td>2</td>\n",
       "      <td>reference</td>\n",
       "      <td>reference</td>\n",
       "      <td>white</td>\n",
       "      <td>regular</td>\n",
       "      <td>2023-05-23 11:01:43</td>\n",
       "      <td>56431</td>\n",
       "      <td>89935</td>\n",
       "      <td>204792</td>\n",
       "      <td>206862</td>\n",
       "      <td>108442</td>\n",
       "      <td>114976</td>\n",
       "      <td>39441</td>\n",
       "      <td>26490</td>\n",
       "    </tr>\n",
       "    <tr>\n",
       "      <th>3</th>\n",
       "      <td>3</td>\n",
       "      <td>reference</td>\n",
       "      <td>reference</td>\n",
       "      <td>white</td>\n",
       "      <td>regular</td>\n",
       "      <td>2023-05-23 11:01:45</td>\n",
       "      <td>56227</td>\n",
       "      <td>89993</td>\n",
       "      <td>202672</td>\n",
       "      <td>205280</td>\n",
       "      <td>108210</td>\n",
       "      <td>114995</td>\n",
       "      <td>39425</td>\n",
       "      <td>26218</td>\n",
       "    </tr>\n",
       "    <tr>\n",
       "      <th>4</th>\n",
       "      <td>4</td>\n",
       "      <td>reference</td>\n",
       "      <td>reference</td>\n",
       "      <td>white</td>\n",
       "      <td>regular</td>\n",
       "      <td>2023-05-23 11:01:46</td>\n",
       "      <td>56241</td>\n",
       "      <td>90047</td>\n",
       "      <td>203466</td>\n",
       "      <td>205718</td>\n",
       "      <td>108088</td>\n",
       "      <td>114781</td>\n",
       "      <td>39354</td>\n",
       "      <td>26665</td>\n",
       "    </tr>\n",
       "    <tr>\n",
       "      <th>...</th>\n",
       "      <td>...</td>\n",
       "      <td>...</td>\n",
       "      <td>...</td>\n",
       "      <td>...</td>\n",
       "      <td>...</td>\n",
       "      <td>...</td>\n",
       "      <td>...</td>\n",
       "      <td>...</td>\n",
       "      <td>...</td>\n",
       "      <td>...</td>\n",
       "      <td>...</td>\n",
       "      <td>...</td>\n",
       "      <td>...</td>\n",
       "      <td>...</td>\n",
       "    </tr>\n",
       "    <tr>\n",
       "      <th>158</th>\n",
       "      <td>158</td>\n",
       "      <td>unknown</td>\n",
       "      <td>unknown</td>\n",
       "      <td>transparent</td>\n",
       "      <td>regular</td>\n",
       "      <td>2023-05-23 11:40:12</td>\n",
       "      <td>58113</td>\n",
       "      <td>92800</td>\n",
       "      <td>209467</td>\n",
       "      <td>215510</td>\n",
       "      <td>108942</td>\n",
       "      <td>118164</td>\n",
       "      <td>40370</td>\n",
       "      <td>26461</td>\n",
       "    </tr>\n",
       "    <tr>\n",
       "      <th>159</th>\n",
       "      <td>159</td>\n",
       "      <td>unknown</td>\n",
       "      <td>unknown</td>\n",
       "      <td>transparent</td>\n",
       "      <td>regular</td>\n",
       "      <td>2023-05-23 11:40:14</td>\n",
       "      <td>57801</td>\n",
       "      <td>93179</td>\n",
       "      <td>208673</td>\n",
       "      <td>216140</td>\n",
       "      <td>108636</td>\n",
       "      <td>118270</td>\n",
       "      <td>40196</td>\n",
       "      <td>26038</td>\n",
       "    </tr>\n",
       "    <tr>\n",
       "      <th>160</th>\n",
       "      <td>160</td>\n",
       "      <td>unknown</td>\n",
       "      <td>unknown</td>\n",
       "      <td>transparent</td>\n",
       "      <td>regular</td>\n",
       "      <td>2023-05-23 11:40:15</td>\n",
       "      <td>57768</td>\n",
       "      <td>92937</td>\n",
       "      <td>209403</td>\n",
       "      <td>215740</td>\n",
       "      <td>108902</td>\n",
       "      <td>117898</td>\n",
       "      <td>40186</td>\n",
       "      <td>25964</td>\n",
       "    </tr>\n",
       "    <tr>\n",
       "      <th>161</th>\n",
       "      <td>161</td>\n",
       "      <td>unknown</td>\n",
       "      <td>unknown</td>\n",
       "      <td>transparent</td>\n",
       "      <td>regular</td>\n",
       "      <td>2023-05-23 11:40:16</td>\n",
       "      <td>58350</td>\n",
       "      <td>93081</td>\n",
       "      <td>209309</td>\n",
       "      <td>216035</td>\n",
       "      <td>108553</td>\n",
       "      <td>117932</td>\n",
       "      <td>40006</td>\n",
       "      <td>26287</td>\n",
       "    </tr>\n",
       "    <tr>\n",
       "      <th>162</th>\n",
       "      <td>162</td>\n",
       "      <td>unknown</td>\n",
       "      <td>unknown</td>\n",
       "      <td>transparent</td>\n",
       "      <td>regular</td>\n",
       "      <td>2023-05-23 11:40:17</td>\n",
       "      <td>57771</td>\n",
       "      <td>93045</td>\n",
       "      <td>208817</td>\n",
       "      <td>215734</td>\n",
       "      <td>109111</td>\n",
       "      <td>117978</td>\n",
       "      <td>40164</td>\n",
       "      <td>25981</td>\n",
       "    </tr>\n",
       "  </tbody>\n",
       "</table>\n",
       "<p>163 rows × 14 columns</p>\n",
       "</div>"
      ],
      "text/plain": [
       "     Reading       Name PlasticType        Color MeasurementType  \\\n",
       "0          0        NaN     unknown          NaN     calibration   \n",
       "1          1  reference   reference        white         regular   \n",
       "2          2  reference   reference        white         regular   \n",
       "3          3  reference   reference        white         regular   \n",
       "4          4  reference   reference        white         regular   \n",
       "..       ...        ...         ...          ...             ...   \n",
       "158      158    unknown     unknown  transparent         regular   \n",
       "159      159    unknown     unknown  transparent         regular   \n",
       "160      160    unknown     unknown  transparent         regular   \n",
       "161      161    unknown     unknown  transparent         regular   \n",
       "162      162    unknown     unknown  transparent         regular   \n",
       "\n",
       "                DateTime  nm940  nm1050  nm1200  nm1300  nm1450  nm1550  \\\n",
       "0    2023-05-23 11:01:26  56344   89567  205776  206422  108166  115662   \n",
       "1    2023-05-23 11:01:41  56016   90392  203769  206205  108056  115277   \n",
       "2    2023-05-23 11:01:43  56431   89935  204792  206862  108442  114976   \n",
       "3    2023-05-23 11:01:45  56227   89993  202672  205280  108210  114995   \n",
       "4    2023-05-23 11:01:46  56241   90047  203466  205718  108088  114781   \n",
       "..                   ...    ...     ...     ...     ...     ...     ...   \n",
       "158  2023-05-23 11:40:12  58113   92800  209467  215510  108942  118164   \n",
       "159  2023-05-23 11:40:14  57801   93179  208673  216140  108636  118270   \n",
       "160  2023-05-23 11:40:15  57768   92937  209403  215740  108902  117898   \n",
       "161  2023-05-23 11:40:16  58350   93081  209309  216035  108553  117932   \n",
       "162  2023-05-23 11:40:17  57771   93045  208817  215734  109111  117978   \n",
       "\n",
       "     nm1650  nm1720  \n",
       "0     39090   26632  \n",
       "1     39330   26430  \n",
       "2     39441   26490  \n",
       "3     39425   26218  \n",
       "4     39354   26665  \n",
       "..      ...     ...  \n",
       "158   40370   26461  \n",
       "159   40196   26038  \n",
       "160   40186   25964  \n",
       "161   40006   26287  \n",
       "162   40164   25981  \n",
       "\n",
       "[163 rows x 14 columns]"
      ]
     },
     "execution_count": 66,
     "metadata": {},
     "output_type": "execute_result"
    }
   ],
   "source": [
    "#drop all the columns after the column named \"nm1720\"\n",
    "df = df.loc[:, :'nm1720']\n",
    "df"
   ]
  },
  {
   "cell_type": "code",
   "execution_count": 67,
   "metadata": {},
   "outputs": [],
   "source": [
    "#drop all the rows with 'metal' as Color\n",
    "df = df[df.Color != 'metal']"
   ]
  },
  {
   "attachments": {},
   "cell_type": "markdown",
   "metadata": {},
   "source": [
    "# Find reference data\n",
    "and check if their standard deviation differs greatly"
   ]
  },
  {
   "cell_type": "code",
   "execution_count": 68,
   "metadata": {},
   "outputs": [
    {
     "data": {
      "text/html": [
       "<div>\n",
       "<style scoped>\n",
       "    .dataframe tbody tr th:only-of-type {\n",
       "        vertical-align: middle;\n",
       "    }\n",
       "\n",
       "    .dataframe tbody tr th {\n",
       "        vertical-align: top;\n",
       "    }\n",
       "\n",
       "    .dataframe thead th {\n",
       "        text-align: right;\n",
       "    }\n",
       "</style>\n",
       "<table border=\"1\" class=\"dataframe\">\n",
       "  <thead>\n",
       "    <tr style=\"text-align: right;\">\n",
       "      <th></th>\n",
       "      <th>Reading</th>\n",
       "      <th>nm940</th>\n",
       "      <th>nm1050</th>\n",
       "      <th>nm1200</th>\n",
       "      <th>nm1300</th>\n",
       "      <th>nm1450</th>\n",
       "      <th>nm1550</th>\n",
       "      <th>nm1650</th>\n",
       "      <th>nm1720</th>\n",
       "    </tr>\n",
       "  </thead>\n",
       "  <tbody>\n",
       "    <tr>\n",
       "      <th>count</th>\n",
       "      <td>19.000000</td>\n",
       "      <td>19.000000</td>\n",
       "      <td>19.000000</td>\n",
       "      <td>19.000000</td>\n",
       "      <td>19.000000</td>\n",
       "      <td>19.000000</td>\n",
       "      <td>19.000000</td>\n",
       "      <td>19.000000</td>\n",
       "      <td>19.000000</td>\n",
       "    </tr>\n",
       "    <tr>\n",
       "      <th>mean</th>\n",
       "      <td>45.315789</td>\n",
       "      <td>56170.263158</td>\n",
       "      <td>89913.526316</td>\n",
       "      <td>205308.842105</td>\n",
       "      <td>206774.578947</td>\n",
       "      <td>108290.052632</td>\n",
       "      <td>115183.263158</td>\n",
       "      <td>39155.052632</td>\n",
       "      <td>26346.684211</td>\n",
       "    </tr>\n",
       "    <tr>\n",
       "      <th>std</th>\n",
       "      <td>66.829844</td>\n",
       "      <td>179.497707</td>\n",
       "      <td>210.542518</td>\n",
       "      <td>1107.943504</td>\n",
       "      <td>975.565267</td>\n",
       "      <td>160.909386</td>\n",
       "      <td>216.632777</td>\n",
       "      <td>303.415826</td>\n",
       "      <td>189.461826</td>\n",
       "    </tr>\n",
       "    <tr>\n",
       "      <th>min</th>\n",
       "      <td>0.000000</td>\n",
       "      <td>55807.000000</td>\n",
       "      <td>89567.000000</td>\n",
       "      <td>202672.000000</td>\n",
       "      <td>205280.000000</td>\n",
       "      <td>108056.000000</td>\n",
       "      <td>114781.000000</td>\n",
       "      <td>38392.000000</td>\n",
       "      <td>25999.000000</td>\n",
       "    </tr>\n",
       "    <tr>\n",
       "      <th>25%</th>\n",
       "      <td>4.500000</td>\n",
       "      <td>56009.500000</td>\n",
       "      <td>89792.000000</td>\n",
       "      <td>204652.000000</td>\n",
       "      <td>206047.000000</td>\n",
       "      <td>108170.000000</td>\n",
       "      <td>115015.000000</td>\n",
       "      <td>39025.000000</td>\n",
       "      <td>26225.000000</td>\n",
       "    </tr>\n",
       "    <tr>\n",
       "      <th>50%</th>\n",
       "      <td>9.000000</td>\n",
       "      <td>56223.000000</td>\n",
       "      <td>89915.000000</td>\n",
       "      <td>205776.000000</td>\n",
       "      <td>206548.000000</td>\n",
       "      <td>108278.000000</td>\n",
       "      <td>115147.000000</td>\n",
       "      <td>39204.000000</td>\n",
       "      <td>26310.000000</td>\n",
       "    </tr>\n",
       "    <tr>\n",
       "      <th>75%</th>\n",
       "      <td>82.500000</td>\n",
       "      <td>56312.000000</td>\n",
       "      <td>90050.500000</td>\n",
       "      <td>206193.500000</td>\n",
       "      <td>207658.000000</td>\n",
       "      <td>108423.500000</td>\n",
       "      <td>115355.000000</td>\n",
       "      <td>39380.000000</td>\n",
       "      <td>26484.500000</td>\n",
       "    </tr>\n",
       "    <tr>\n",
       "      <th>max</th>\n",
       "      <td>156.000000</td>\n",
       "      <td>56439.000000</td>\n",
       "      <td>90392.000000</td>\n",
       "      <td>206499.000000</td>\n",
       "      <td>208411.000000</td>\n",
       "      <td>108564.000000</td>\n",
       "      <td>115662.000000</td>\n",
       "      <td>39597.000000</td>\n",
       "      <td>26665.000000</td>\n",
       "    </tr>\n",
       "  </tbody>\n",
       "</table>\n",
       "</div>"
      ],
      "text/plain": [
       "          Reading         nm940        nm1050         nm1200         nm1300  \\\n",
       "count   19.000000     19.000000     19.000000      19.000000      19.000000   \n",
       "mean    45.315789  56170.263158  89913.526316  205308.842105  206774.578947   \n",
       "std     66.829844    179.497707    210.542518    1107.943504     975.565267   \n",
       "min      0.000000  55807.000000  89567.000000  202672.000000  205280.000000   \n",
       "25%      4.500000  56009.500000  89792.000000  204652.000000  206047.000000   \n",
       "50%      9.000000  56223.000000  89915.000000  205776.000000  206548.000000   \n",
       "75%     82.500000  56312.000000  90050.500000  206193.500000  207658.000000   \n",
       "max    156.000000  56439.000000  90392.000000  206499.000000  208411.000000   \n",
       "\n",
       "              nm1450         nm1550        nm1650        nm1720  \n",
       "count      19.000000      19.000000     19.000000     19.000000  \n",
       "mean   108290.052632  115183.263158  39155.052632  26346.684211  \n",
       "std       160.909386     216.632777    303.415826    189.461826  \n",
       "min    108056.000000  114781.000000  38392.000000  25999.000000  \n",
       "25%    108170.000000  115015.000000  39025.000000  26225.000000  \n",
       "50%    108278.000000  115147.000000  39204.000000  26310.000000  \n",
       "75%    108423.500000  115355.000000  39380.000000  26484.500000  \n",
       "max    108564.000000  115662.000000  39597.000000  26665.000000  "
      ]
     },
     "execution_count": 68,
     "metadata": {},
     "output_type": "execute_result"
    }
   ],
   "source": [
    "#make a new dataframe with only the ones that have MeasurementType as \"calibration\" or PlasticType as \"reference\"\n",
    "df_ref = df[(df['MeasurementType'] == 'calibration') | (df['PlasticType'] == 'reference')]\n",
    "#basic statistics\n",
    "df_ref.describe()"
   ]
  },
  {
   "attachments": {},
   "cell_type": "markdown",
   "metadata": {},
   "source": [
    "# Normalize data"
   ]
  },
  {
   "cell_type": "code",
   "execution_count": 69,
   "metadata": {},
   "outputs": [
    {
     "data": {
      "text/html": [
       "<div>\n",
       "<style scoped>\n",
       "    .dataframe tbody tr th:only-of-type {\n",
       "        vertical-align: middle;\n",
       "    }\n",
       "\n",
       "    .dataframe tbody tr th {\n",
       "        vertical-align: top;\n",
       "    }\n",
       "\n",
       "    .dataframe thead th {\n",
       "        text-align: right;\n",
       "    }\n",
       "</style>\n",
       "<table border=\"1\" class=\"dataframe\">\n",
       "  <thead>\n",
       "    <tr style=\"text-align: right;\">\n",
       "      <th></th>\n",
       "      <th>Reading</th>\n",
       "      <th>nm940</th>\n",
       "      <th>nm1050</th>\n",
       "      <th>nm1200</th>\n",
       "      <th>nm1300</th>\n",
       "      <th>nm1450</th>\n",
       "      <th>nm1550</th>\n",
       "      <th>nm1650</th>\n",
       "      <th>nm1720</th>\n",
       "    </tr>\n",
       "  </thead>\n",
       "  <tbody>\n",
       "    <tr>\n",
       "      <th>count</th>\n",
       "      <td>163.000000</td>\n",
       "      <td>163.000000</td>\n",
       "      <td>163.000000</td>\n",
       "      <td>163.000000</td>\n",
       "      <td>163.000000</td>\n",
       "      <td>163.000000</td>\n",
       "      <td>163.000000</td>\n",
       "      <td>163.000000</td>\n",
       "      <td>163.000000</td>\n",
       "    </tr>\n",
       "    <tr>\n",
       "      <th>mean</th>\n",
       "      <td>81.000000</td>\n",
       "      <td>0.876308</td>\n",
       "      <td>0.876658</td>\n",
       "      <td>0.773096</td>\n",
       "      <td>0.813469</td>\n",
       "      <td>0.756922</td>\n",
       "      <td>0.792199</td>\n",
       "      <td>0.767689</td>\n",
       "      <td>0.745594</td>\n",
       "    </tr>\n",
       "    <tr>\n",
       "      <th>std</th>\n",
       "      <td>47.198164</td>\n",
       "      <td>0.220174</td>\n",
       "      <td>0.227742</td>\n",
       "      <td>0.247505</td>\n",
       "      <td>0.245309</td>\n",
       "      <td>0.239434</td>\n",
       "      <td>0.242532</td>\n",
       "      <td>0.222885</td>\n",
       "      <td>0.216374</td>\n",
       "    </tr>\n",
       "    <tr>\n",
       "      <th>min</th>\n",
       "      <td>0.000000</td>\n",
       "      <td>0.155848</td>\n",
       "      <td>0.138722</td>\n",
       "      <td>0.132323</td>\n",
       "      <td>0.130504</td>\n",
       "      <td>0.129910</td>\n",
       "      <td>0.133005</td>\n",
       "      <td>0.147159</td>\n",
       "      <td>0.157287</td>\n",
       "    </tr>\n",
       "    <tr>\n",
       "      <th>25%</th>\n",
       "      <td>40.500000</td>\n",
       "      <td>0.790712</td>\n",
       "      <td>0.807609</td>\n",
       "      <td>0.633239</td>\n",
       "      <td>0.644344</td>\n",
       "      <td>0.609784</td>\n",
       "      <td>0.686076</td>\n",
       "      <td>0.671586</td>\n",
       "      <td>0.653479</td>\n",
       "    </tr>\n",
       "    <tr>\n",
       "      <th>50%</th>\n",
       "      <td>81.000000</td>\n",
       "      <td>0.960668</td>\n",
       "      <td>0.967096</td>\n",
       "      <td>0.758345</td>\n",
       "      <td>0.884669</td>\n",
       "      <td>0.744824</td>\n",
       "      <td>0.792242</td>\n",
       "      <td>0.813101</td>\n",
       "      <td>0.748481</td>\n",
       "    </tr>\n",
       "    <tr>\n",
       "      <th>75%</th>\n",
       "      <td>121.500000</td>\n",
       "      <td>1.008950</td>\n",
       "      <td>1.005511</td>\n",
       "      <td>0.979729</td>\n",
       "      <td>1.000844</td>\n",
       "      <td>0.986019</td>\n",
       "      <td>0.999242</td>\n",
       "      <td>0.985977</td>\n",
       "      <td>0.945280</td>\n",
       "    </tr>\n",
       "    <tr>\n",
       "      <th>max</th>\n",
       "      <td>162.000000</td>\n",
       "      <td>1.113739</td>\n",
       "      <td>1.176464</td>\n",
       "      <td>1.121725</td>\n",
       "      <td>1.083146</td>\n",
       "      <td>1.076082</td>\n",
       "      <td>1.178826</td>\n",
       "      <td>1.154487</td>\n",
       "      <td>1.012082</td>\n",
       "    </tr>\n",
       "  </tbody>\n",
       "</table>\n",
       "</div>"
      ],
      "text/plain": [
       "          Reading       nm940      nm1050      nm1200      nm1300      nm1450  \\\n",
       "count  163.000000  163.000000  163.000000  163.000000  163.000000  163.000000   \n",
       "mean    81.000000    0.876308    0.876658    0.773096    0.813469    0.756922   \n",
       "std     47.198164    0.220174    0.227742    0.247505    0.245309    0.239434   \n",
       "min      0.000000    0.155848    0.138722    0.132323    0.130504    0.129910   \n",
       "25%     40.500000    0.790712    0.807609    0.633239    0.644344    0.609784   \n",
       "50%     81.000000    0.960668    0.967096    0.758345    0.884669    0.744824   \n",
       "75%    121.500000    1.008950    1.005511    0.979729    1.000844    0.986019   \n",
       "max    162.000000    1.113739    1.176464    1.121725    1.083146    1.076082   \n",
       "\n",
       "           nm1550      nm1650      nm1720  \n",
       "count  163.000000  163.000000  163.000000  \n",
       "mean     0.792199    0.767689    0.745594  \n",
       "std      0.242532    0.222885    0.216374  \n",
       "min      0.133005    0.147159    0.157287  \n",
       "25%      0.686076    0.671586    0.653479  \n",
       "50%      0.792242    0.813101    0.748481  \n",
       "75%      0.999242    0.985977    0.945280  \n",
       "max      1.178826    1.154487    1.012082  "
      ]
     },
     "execution_count": 69,
     "metadata": {},
     "output_type": "execute_result"
    }
   ],
   "source": [
    "#make a new dataframe called df_norm that devides the columns from 'nm940' to 'nm1720' of the original dataframe by the mean values of the columns from 'nm940' to 'nm1720' in the df2 dataframe\n",
    "# while keeping the columns untill 'DateTime' from the original dataframe\n",
    "df_norm = df\n",
    "df_norm.loc[:, 'nm940':'nm1720'] = df.loc[:, 'nm940':'nm1720'].div(df_ref.loc[:, 'nm940':'nm1720'].mean())\n",
    "df_norm.describe()\n"
   ]
  },
  {
   "attachments": {},
   "cell_type": "markdown",
   "metadata": {},
   "source": [
    "# Filter for very dark or very bright samples"
   ]
  },
  {
   "cell_type": "code",
   "execution_count": 70,
   "metadata": {},
   "outputs": [
    {
     "data": {
      "text/html": [
       "<div>\n",
       "<style scoped>\n",
       "    .dataframe tbody tr th:only-of-type {\n",
       "        vertical-align: middle;\n",
       "    }\n",
       "\n",
       "    .dataframe tbody tr th {\n",
       "        vertical-align: top;\n",
       "    }\n",
       "\n",
       "    .dataframe thead th {\n",
       "        text-align: right;\n",
       "    }\n",
       "</style>\n",
       "<table border=\"1\" class=\"dataframe\">\n",
       "  <thead>\n",
       "    <tr style=\"text-align: right;\">\n",
       "      <th></th>\n",
       "      <th>Reading</th>\n",
       "      <th>nm940</th>\n",
       "      <th>nm1050</th>\n",
       "      <th>nm1200</th>\n",
       "      <th>nm1300</th>\n",
       "      <th>nm1450</th>\n",
       "      <th>nm1550</th>\n",
       "      <th>nm1650</th>\n",
       "      <th>nm1720</th>\n",
       "    </tr>\n",
       "  </thead>\n",
       "  <tbody>\n",
       "    <tr>\n",
       "      <th>count</th>\n",
       "      <td>120.000000</td>\n",
       "      <td>120.000000</td>\n",
       "      <td>120.000000</td>\n",
       "      <td>120.000000</td>\n",
       "      <td>120.000000</td>\n",
       "      <td>120.000000</td>\n",
       "      <td>120.000000</td>\n",
       "      <td>120.000000</td>\n",
       "      <td>120.000000</td>\n",
       "    </tr>\n",
       "    <tr>\n",
       "      <th>mean</th>\n",
       "      <td>79.600000</td>\n",
       "      <td>0.983996</td>\n",
       "      <td>0.986878</td>\n",
       "      <td>0.890679</td>\n",
       "      <td>0.933319</td>\n",
       "      <td>0.865824</td>\n",
       "      <td>0.903143</td>\n",
       "      <td>0.856239</td>\n",
       "      <td>0.823246</td>\n",
       "    </tr>\n",
       "    <tr>\n",
       "      <th>std</th>\n",
       "      <td>52.334156</td>\n",
       "      <td>0.060770</td>\n",
       "      <td>0.067781</td>\n",
       "      <td>0.142458</td>\n",
       "      <td>0.116507</td>\n",
       "      <td>0.145699</td>\n",
       "      <td>0.134636</td>\n",
       "      <td>0.143531</td>\n",
       "      <td>0.158086</td>\n",
       "    </tr>\n",
       "    <tr>\n",
       "      <th>min</th>\n",
       "      <td>0.000000</td>\n",
       "      <td>0.801171</td>\n",
       "      <td>0.811869</td>\n",
       "      <td>0.556552</td>\n",
       "      <td>0.634991</td>\n",
       "      <td>0.553024</td>\n",
       "      <td>0.612120</td>\n",
       "      <td>0.566236</td>\n",
       "      <td>0.263297</td>\n",
       "    </tr>\n",
       "    <tr>\n",
       "      <th>25%</th>\n",
       "      <td>29.750000</td>\n",
       "      <td>0.952127</td>\n",
       "      <td>0.956844</td>\n",
       "      <td>0.753008</td>\n",
       "      <td>0.866845</td>\n",
       "      <td>0.725099</td>\n",
       "      <td>0.778143</td>\n",
       "      <td>0.720009</td>\n",
       "      <td>0.696245</td>\n",
       "    </tr>\n",
       "    <tr>\n",
       "      <th>50%</th>\n",
       "      <td>76.500000</td>\n",
       "      <td>0.997138</td>\n",
       "      <td>0.996569</td>\n",
       "      <td>0.948895</td>\n",
       "      <td>0.993384</td>\n",
       "      <td>0.913565</td>\n",
       "      <td>0.950030</td>\n",
       "      <td>0.834669</td>\n",
       "      <td>0.803460</td>\n",
       "    </tr>\n",
       "    <tr>\n",
       "      <th>75%</th>\n",
       "      <td>132.250000</td>\n",
       "      <td>1.025138</td>\n",
       "      <td>1.023756</td>\n",
       "      <td>0.997951</td>\n",
       "      <td>1.011367</td>\n",
       "      <td>0.999898</td>\n",
       "      <td>1.002882</td>\n",
       "      <td>0.995114</td>\n",
       "      <td>0.984650</td>\n",
       "    </tr>\n",
       "    <tr>\n",
       "      <th>max</th>\n",
       "      <td>162.000000</td>\n",
       "      <td>1.113739</td>\n",
       "      <td>1.176464</td>\n",
       "      <td>1.121725</td>\n",
       "      <td>1.083146</td>\n",
       "      <td>1.076082</td>\n",
       "      <td>1.178826</td>\n",
       "      <td>1.154487</td>\n",
       "      <td>1.012082</td>\n",
       "    </tr>\n",
       "  </tbody>\n",
       "</table>\n",
       "</div>"
      ],
      "text/plain": [
       "          Reading       nm940      nm1050      nm1200      nm1300      nm1450  \\\n",
       "count  120.000000  120.000000  120.000000  120.000000  120.000000  120.000000   \n",
       "mean    79.600000    0.983996    0.986878    0.890679    0.933319    0.865824   \n",
       "std     52.334156    0.060770    0.067781    0.142458    0.116507    0.145699   \n",
       "min      0.000000    0.801171    0.811869    0.556552    0.634991    0.553024   \n",
       "25%     29.750000    0.952127    0.956844    0.753008    0.866845    0.725099   \n",
       "50%     76.500000    0.997138    0.996569    0.948895    0.993384    0.913565   \n",
       "75%    132.250000    1.025138    1.023756    0.997951    1.011367    0.999898   \n",
       "max    162.000000    1.113739    1.176464    1.121725    1.083146    1.076082   \n",
       "\n",
       "           nm1550      nm1650      nm1720  \n",
       "count  120.000000  120.000000  120.000000  \n",
       "mean     0.903143    0.856239    0.823246  \n",
       "std      0.134636    0.143531    0.158086  \n",
       "min      0.612120    0.566236    0.263297  \n",
       "25%      0.778143    0.720009    0.696245  \n",
       "50%      0.950030    0.834669    0.803460  \n",
       "75%      1.002882    0.995114    0.984650  \n",
       "max      1.178826    1.154487    1.012082  "
      ]
     },
     "execution_count": 70,
     "metadata": {},
     "output_type": "execute_result"
    }
   ],
   "source": [
    "# go through the df_norm dataframe and delete all the rows that have a value that is smaller than \"TooDark\"value in the column \"nm940\" and bigger than \"TooBright\" value in the column \"nm940\"\n",
    "TooBright = 1.2\n",
    "TooDark = 0.8\n",
    "df_norm = df_norm[(df_norm['nm940'] < TooBright) & (df_norm['nm940'] > TooDark)]\n",
    "df_norm.describe()"
   ]
  },
  {
   "attachments": {},
   "cell_type": "markdown",
   "metadata": {},
   "source": [
    "# Apply SNV filter"
   ]
  },
  {
   "cell_type": "code",
   "execution_count": 71,
   "metadata": {},
   "outputs": [
    {
     "name": "stderr",
     "output_type": "stream",
     "text": [
      "C:\\Users\\Jerry\\AppData\\Local\\Temp\\ipykernel_27332\\3300900161.py:4: SettingWithCopyWarning:\n",
      "\n",
      "\n",
      "A value is trying to be set on a copy of a slice from a DataFrame.\n",
      "Try using .loc[row_indexer,col_indexer] = value instead\n",
      "\n",
      "See the caveats in the documentation: https://pandas.pydata.org/pandas-docs/stable/user_guide/indexing.html#returning-a-view-versus-a-copy\n",
      "\n"
     ]
    },
    {
     "data": {
      "text/html": [
       "<div>\n",
       "<style scoped>\n",
       "    .dataframe tbody tr th:only-of-type {\n",
       "        vertical-align: middle;\n",
       "    }\n",
       "\n",
       "    .dataframe tbody tr th {\n",
       "        vertical-align: top;\n",
       "    }\n",
       "\n",
       "    .dataframe thead th {\n",
       "        text-align: right;\n",
       "    }\n",
       "</style>\n",
       "<table border=\"1\" class=\"dataframe\">\n",
       "  <thead>\n",
       "    <tr style=\"text-align: right;\">\n",
       "      <th></th>\n",
       "      <th>Reading</th>\n",
       "      <th>nm940</th>\n",
       "      <th>nm1050</th>\n",
       "      <th>nm1200</th>\n",
       "      <th>nm1300</th>\n",
       "      <th>nm1450</th>\n",
       "      <th>nm1550</th>\n",
       "      <th>nm1650</th>\n",
       "      <th>nm1720</th>\n",
       "    </tr>\n",
       "  </thead>\n",
       "  <tbody>\n",
       "    <tr>\n",
       "      <th>count</th>\n",
       "      <td>120.000000</td>\n",
       "      <td>120.000000</td>\n",
       "      <td>120.000000</td>\n",
       "      <td>120.000000</td>\n",
       "      <td>120.000000</td>\n",
       "      <td>120.000000</td>\n",
       "      <td>120.000000</td>\n",
       "      <td>120.000000</td>\n",
       "      <td>120.000000</td>\n",
       "    </tr>\n",
       "    <tr>\n",
       "      <th>mean</th>\n",
       "      <td>79.600000</td>\n",
       "      <td>0.826034</td>\n",
       "      <td>0.771381</td>\n",
       "      <td>-0.241571</td>\n",
       "      <td>0.390806</td>\n",
       "      <td>-0.454790</td>\n",
       "      <td>0.030538</td>\n",
       "      <td>-0.442261</td>\n",
       "      <td>-0.880138</td>\n",
       "    </tr>\n",
       "    <tr>\n",
       "      <th>std</th>\n",
       "      <td>52.334156</td>\n",
       "      <td>0.626626</td>\n",
       "      <td>0.718440</td>\n",
       "      <td>0.821135</td>\n",
       "      <td>0.749611</td>\n",
       "      <td>0.665926</td>\n",
       "      <td>0.472974</td>\n",
       "      <td>0.802535</td>\n",
       "      <td>0.955900</td>\n",
       "    </tr>\n",
       "    <tr>\n",
       "      <th>min</th>\n",
       "      <td>0.000000</td>\n",
       "      <td>-1.300904</td>\n",
       "      <td>-1.349827</td>\n",
       "      <td>-2.053186</td>\n",
       "      <td>-1.484823</td>\n",
       "      <td>-1.706640</td>\n",
       "      <td>-1.043216</td>\n",
       "      <td>-1.986818</td>\n",
       "      <td>-2.103984</td>\n",
       "    </tr>\n",
       "    <tr>\n",
       "      <th>25%</th>\n",
       "      <td>29.750000</td>\n",
       "      <td>0.502421</td>\n",
       "      <td>0.462238</td>\n",
       "      <td>-0.739862</td>\n",
       "      <td>-0.081585</td>\n",
       "      <td>-0.997648</td>\n",
       "      <td>-0.375111</td>\n",
       "      <td>-1.073728</td>\n",
       "      <td>-1.708310</td>\n",
       "    </tr>\n",
       "    <tr>\n",
       "      <th>50%</th>\n",
       "      <td>76.500000</td>\n",
       "      <td>0.937637</td>\n",
       "      <td>0.964129</td>\n",
       "      <td>-0.153686</td>\n",
       "      <td>0.670679</td>\n",
       "      <td>-0.357517</td>\n",
       "      <td>0.104689</td>\n",
       "      <td>-0.551182</td>\n",
       "      <td>-0.944577</td>\n",
       "    </tr>\n",
       "    <tr>\n",
       "      <th>75%</th>\n",
       "      <td>132.250000</td>\n",
       "      <td>1.370837</td>\n",
       "      <td>1.311749</td>\n",
       "      <td>0.244372</td>\n",
       "      <td>0.870625</td>\n",
       "      <td>-0.080428</td>\n",
       "      <td>0.310763</td>\n",
       "      <td>0.013849</td>\n",
       "      <td>-0.296472</td>\n",
       "    </tr>\n",
       "    <tr>\n",
       "      <th>max</th>\n",
       "      <td>162.000000</td>\n",
       "      <td>1.789247</td>\n",
       "      <td>1.556759</td>\n",
       "      <td>1.270421</td>\n",
       "      <td>1.622547</td>\n",
       "      <td>1.340493</td>\n",
       "      <td>1.146353</td>\n",
       "      <td>1.877706</td>\n",
       "      <td>2.238286</td>\n",
       "    </tr>\n",
       "  </tbody>\n",
       "</table>\n",
       "</div>"
      ],
      "text/plain": [
       "          Reading       nm940      nm1050      nm1200      nm1300      nm1450  \\\n",
       "count  120.000000  120.000000  120.000000  120.000000  120.000000  120.000000   \n",
       "mean    79.600000    0.826034    0.771381   -0.241571    0.390806   -0.454790   \n",
       "std     52.334156    0.626626    0.718440    0.821135    0.749611    0.665926   \n",
       "min      0.000000   -1.300904   -1.349827   -2.053186   -1.484823   -1.706640   \n",
       "25%     29.750000    0.502421    0.462238   -0.739862   -0.081585   -0.997648   \n",
       "50%     76.500000    0.937637    0.964129   -0.153686    0.670679   -0.357517   \n",
       "75%    132.250000    1.370837    1.311749    0.244372    0.870625   -0.080428   \n",
       "max    162.000000    1.789247    1.556759    1.270421    1.622547    1.340493   \n",
       "\n",
       "           nm1550      nm1650      nm1720  \n",
       "count  120.000000  120.000000  120.000000  \n",
       "mean     0.030538   -0.442261   -0.880138  \n",
       "std      0.472974    0.802535    0.955900  \n",
       "min     -1.043216   -1.986818   -2.103984  \n",
       "25%     -0.375111   -1.073728   -1.708310  \n",
       "50%      0.104689   -0.551182   -0.944577  \n",
       "75%      0.310763    0.013849   -0.296472  \n",
       "max      1.146353    1.877706    2.238286  "
      ]
     },
     "execution_count": 71,
     "metadata": {},
     "output_type": "execute_result"
    }
   ],
   "source": [
    "#make a new dataframe called df_snv that does and SNV transformation for each of the rows from 'nm940' to 'nm1720' of the df_norm dataframe\n",
    "# while keeping the columns untill 'DateTime' from the original dataframe\n",
    "df_snv = df_norm\n",
    "df_snv.loc[:, 'nm940':'nm1720'] = df_norm.loc[:, 'nm940':'nm1720'].sub(df_norm.loc[:, 'nm940':'nm1720'].mean(axis=1), axis=0).div(df_norm.loc[:, 'nm940':'nm1720'].std(axis=1), axis=0)\n",
    "df_snv.describe()"
   ]
  },
  {
   "cell_type": "code",
   "execution_count": 72,
   "metadata": {},
   "outputs": [
    {
     "name": "stderr",
     "output_type": "stream",
     "text": [
      "C:\\Users\\Jerry\\AppData\\Local\\Temp\\ipykernel_27332\\3882521157.py:2: FutureWarning:\n",
      "\n",
      "The default value of numeric_only in DataFrameGroupBy.mean is deprecated. In a future version, numeric_only will default to False. Either specify numeric_only or select only columns which should be valid for the function.\n",
      "\n"
     ]
    },
    {
     "data": {
      "text/html": [
       "<div>\n",
       "<style scoped>\n",
       "    .dataframe tbody tr th:only-of-type {\n",
       "        vertical-align: middle;\n",
       "    }\n",
       "\n",
       "    .dataframe tbody tr th {\n",
       "        vertical-align: top;\n",
       "    }\n",
       "\n",
       "    .dataframe thead th {\n",
       "        text-align: right;\n",
       "    }\n",
       "</style>\n",
       "<table border=\"1\" class=\"dataframe\">\n",
       "  <thead>\n",
       "    <tr style=\"text-align: right;\">\n",
       "      <th></th>\n",
       "      <th>PlasticType</th>\n",
       "      <th>nm940</th>\n",
       "      <th>nm1050</th>\n",
       "      <th>nm1200</th>\n",
       "      <th>nm1300</th>\n",
       "      <th>nm1450</th>\n",
       "      <th>nm1550</th>\n",
       "      <th>nm1650</th>\n",
       "      <th>nm1720</th>\n",
       "    </tr>\n",
       "  </thead>\n",
       "  <tbody>\n",
       "    <tr>\n",
       "      <th>0</th>\n",
       "      <td>HDPE</td>\n",
       "      <td>1.403351</td>\n",
       "      <td>1.464377</td>\n",
       "      <td>-0.887878</td>\n",
       "      <td>-0.216458</td>\n",
       "      <td>-1.245240</td>\n",
       "      <td>-0.510665</td>\n",
       "      <td>0.054896</td>\n",
       "      <td>-0.062383</td>\n",
       "    </tr>\n",
       "    <tr>\n",
       "      <th>1</th>\n",
       "      <td>PET</td>\n",
       "      <td>0.834669</td>\n",
       "      <td>0.801243</td>\n",
       "      <td>0.388523</td>\n",
       "      <td>0.805412</td>\n",
       "      <td>-0.200864</td>\n",
       "      <td>0.189205</td>\n",
       "      <td>-1.056022</td>\n",
       "      <td>-1.762165</td>\n",
       "    </tr>\n",
       "    <tr>\n",
       "      <th>2</th>\n",
       "      <td>PP</td>\n",
       "      <td>1.578766</td>\n",
       "      <td>1.389848</td>\n",
       "      <td>-0.748473</td>\n",
       "      <td>0.186346</td>\n",
       "      <td>-0.976090</td>\n",
       "      <td>-0.402138</td>\n",
       "      <td>-0.400874</td>\n",
       "      <td>-0.627384</td>\n",
       "    </tr>\n",
       "    <tr>\n",
       "      <th>3</th>\n",
       "      <td>PS</td>\n",
       "      <td>0.709904</td>\n",
       "      <td>0.800233</td>\n",
       "      <td>-0.055874</td>\n",
       "      <td>0.794011</td>\n",
       "      <td>0.267660</td>\n",
       "      <td>0.243635</td>\n",
       "      <td>-1.162773</td>\n",
       "      <td>-1.596797</td>\n",
       "    </tr>\n",
       "  </tbody>\n",
       "</table>\n",
       "</div>"
      ],
      "text/plain": [
       "  PlasticType     nm940    nm1050    nm1200    nm1300    nm1450    nm1550  \\\n",
       "0        HDPE  1.403351  1.464377 -0.887878 -0.216458 -1.245240 -0.510665   \n",
       "1         PET  0.834669  0.801243  0.388523  0.805412 -0.200864  0.189205   \n",
       "2          PP  1.578766  1.389848 -0.748473  0.186346 -0.976090 -0.402138   \n",
       "3          PS  0.709904  0.800233 -0.055874  0.794011  0.267660  0.243635   \n",
       "\n",
       "     nm1650    nm1720  \n",
       "0  0.054896 -0.062383  \n",
       "1 -1.056022 -1.762165  \n",
       "2 -0.400874 -0.627384  \n",
       "3 -1.162773 -1.596797  "
      ]
     },
     "execution_count": 72,
     "metadata": {},
     "output_type": "execute_result"
    }
   ],
   "source": [
    "#make a new dataframe the calculates the mean of the rows from 'nm940' to 'nm1720' of the df_snv dataframe grouped by the PlasticType column\n",
    "df_snv_mean = df_snv.groupby('PlasticType').mean()\n",
    "#and drop the Reading column\n",
    "df_snv_mean = df_snv_mean.drop(columns=['Reading'])\n",
    "#and drop the reference and unknown rows\n",
    "df_snv_mean = df_snv_mean.drop(index=['reference'])\n",
    "#do a check if dataframe has any 'unknown' entries in index, and if so drop them\n",
    "if 'unknown' in df_snv_mean.index:\n",
    "    df_snv_mean = df_snv_mean.drop(index=['unknown'])\n",
    "#make the index of the df_snv_mean dataframe into a column\n",
    "df_snv_mean = df_snv_mean.reset_index()\n",
    "#drop the PlasticTypes that are not \"PET\", \"HDPE\", \"PP\", \"PS\"\n",
    "df_snv_mean = df_snv_mean[df_snv_mean['PlasticType'].isin(['PET', 'HDPE', 'PP', 'PS'])]\n",
    "df_snv_mean = df_snv_mean.reset_index(drop=True)\n",
    "df_snv_mean"
   ]
  },
  {
   "cell_type": "code",
   "execution_count": 73,
   "metadata": {},
   "outputs": [
    {
     "data": {
      "text/html": [
       "<div>\n",
       "<style scoped>\n",
       "    .dataframe tbody tr th:only-of-type {\n",
       "        vertical-align: middle;\n",
       "    }\n",
       "\n",
       "    .dataframe tbody tr th {\n",
       "        vertical-align: top;\n",
       "    }\n",
       "\n",
       "    .dataframe thead th {\n",
       "        text-align: right;\n",
       "    }\n",
       "</style>\n",
       "<table border=\"1\" class=\"dataframe\">\n",
       "  <thead>\n",
       "    <tr style=\"text-align: right;\">\n",
       "      <th>PlasticType</th>\n",
       "      <th>wavelength</th>\n",
       "      <th>HDPE</th>\n",
       "      <th>PET</th>\n",
       "      <th>PP</th>\n",
       "      <th>PS</th>\n",
       "    </tr>\n",
       "  </thead>\n",
       "  <tbody>\n",
       "    <tr>\n",
       "      <th>0</th>\n",
       "      <td>nm940</td>\n",
       "      <td>1.403351</td>\n",
       "      <td>0.834669</td>\n",
       "      <td>1.578766</td>\n",
       "      <td>0.709904</td>\n",
       "    </tr>\n",
       "    <tr>\n",
       "      <th>1</th>\n",
       "      <td>nm1050</td>\n",
       "      <td>1.464377</td>\n",
       "      <td>0.801243</td>\n",
       "      <td>1.389848</td>\n",
       "      <td>0.800233</td>\n",
       "    </tr>\n",
       "    <tr>\n",
       "      <th>2</th>\n",
       "      <td>nm1200</td>\n",
       "      <td>-0.887878</td>\n",
       "      <td>0.388523</td>\n",
       "      <td>-0.748473</td>\n",
       "      <td>-0.055874</td>\n",
       "    </tr>\n",
       "    <tr>\n",
       "      <th>3</th>\n",
       "      <td>nm1300</td>\n",
       "      <td>-0.216458</td>\n",
       "      <td>0.805412</td>\n",
       "      <td>0.186346</td>\n",
       "      <td>0.794011</td>\n",
       "    </tr>\n",
       "    <tr>\n",
       "      <th>4</th>\n",
       "      <td>nm1450</td>\n",
       "      <td>-1.24524</td>\n",
       "      <td>-0.200864</td>\n",
       "      <td>-0.97609</td>\n",
       "      <td>0.26766</td>\n",
       "    </tr>\n",
       "    <tr>\n",
       "      <th>5</th>\n",
       "      <td>nm1550</td>\n",
       "      <td>-0.510665</td>\n",
       "      <td>0.189205</td>\n",
       "      <td>-0.402138</td>\n",
       "      <td>0.243635</td>\n",
       "    </tr>\n",
       "    <tr>\n",
       "      <th>6</th>\n",
       "      <td>nm1650</td>\n",
       "      <td>0.054896</td>\n",
       "      <td>-1.056022</td>\n",
       "      <td>-0.400874</td>\n",
       "      <td>-1.162773</td>\n",
       "    </tr>\n",
       "    <tr>\n",
       "      <th>7</th>\n",
       "      <td>nm1720</td>\n",
       "      <td>-0.062383</td>\n",
       "      <td>-1.762165</td>\n",
       "      <td>-0.627384</td>\n",
       "      <td>-1.596797</td>\n",
       "    </tr>\n",
       "  </tbody>\n",
       "</table>\n",
       "</div>"
      ],
      "text/plain": [
       "PlasticType wavelength      HDPE       PET        PP        PS\n",
       "0                nm940  1.403351  0.834669  1.578766  0.709904\n",
       "1               nm1050  1.464377  0.801243  1.389848  0.800233\n",
       "2               nm1200 -0.887878  0.388523 -0.748473 -0.055874\n",
       "3               nm1300 -0.216458  0.805412  0.186346  0.794011\n",
       "4               nm1450  -1.24524 -0.200864  -0.97609   0.26766\n",
       "5               nm1550 -0.510665  0.189205 -0.402138  0.243635\n",
       "6               nm1650  0.054896 -1.056022 -0.400874 -1.162773\n",
       "7               nm1720 -0.062383 -1.762165 -0.627384 -1.596797"
      ]
     },
     "execution_count": 73,
     "metadata": {},
     "output_type": "execute_result"
    }
   ],
   "source": [
    "#transpose the dataframe so the rows have the wavelengths and the columns have the plastic types\n",
    "df_snv_mean = df_snv_mean.T\n",
    "#make the first row the column names\n",
    "df_snv_mean.columns = df_snv_mean.iloc[0]\n",
    "#drop the first row\n",
    "df_snv_mean = df_snv_mean.drop(df_snv_mean.index[0])\n",
    "#reset the index\n",
    "df_snv_mean = df_snv_mean.reset_index()\n",
    "#rename the index column to wavelength\n",
    "df_snv_mean = df_snv_mean.rename(columns={'index': 'wavelength'})\n",
    "df_snv_mean\n"
   ]
  },
  {
   "cell_type": "code",
   "execution_count": 74,
   "metadata": {},
   "outputs": [],
   "source": [
    "df_snv_toplot = df_snv                                                                                          #continue with all the plastics\n",
    "#df_snv_toplot.loc[~df_snv_toplot['PlasticType'].isin(['PET', 'HDPE', 'PP', 'PS']), 'PlasticType'] = 'other'    #continue with only PET, HDPE, PP, PS and other\n",
    "df_snv_toplot = df_snv[df_snv['PlasticType'].isin(['PET', 'HDPE', 'PP', 'PS'])]                                #continue with only PET, HDPE, PP, PS\n",
    "df_snv_toplot = df_snv_toplot.reset_index(drop=True)"
   ]
  },
  {
   "cell_type": "code",
   "execution_count": 75,
   "metadata": {},
   "outputs": [
    {
     "data": {
      "text/html": [
       "<div>\n",
       "<style scoped>\n",
       "    .dataframe tbody tr th:only-of-type {\n",
       "        vertical-align: middle;\n",
       "    }\n",
       "\n",
       "    .dataframe tbody tr th {\n",
       "        vertical-align: top;\n",
       "    }\n",
       "\n",
       "    .dataframe thead th {\n",
       "        text-align: right;\n",
       "    }\n",
       "</style>\n",
       "<table border=\"1\" class=\"dataframe\">\n",
       "  <thead>\n",
       "    <tr style=\"text-align: right;\">\n",
       "      <th></th>\n",
       "      <th>Reading</th>\n",
       "      <th>nm940</th>\n",
       "      <th>nm1050</th>\n",
       "      <th>nm1200</th>\n",
       "      <th>nm1300</th>\n",
       "      <th>nm1450</th>\n",
       "      <th>nm1550</th>\n",
       "      <th>nm1650</th>\n",
       "      <th>nm1720</th>\n",
       "    </tr>\n",
       "  </thead>\n",
       "  <tbody>\n",
       "    <tr>\n",
       "      <th>count</th>\n",
       "      <td>70.000000</td>\n",
       "      <td>70.000000</td>\n",
       "      <td>70.000000</td>\n",
       "      <td>70.000000</td>\n",
       "      <td>70.000000</td>\n",
       "      <td>70.000000</td>\n",
       "      <td>70.000000</td>\n",
       "      <td>70.000000</td>\n",
       "      <td>70.000000</td>\n",
       "    </tr>\n",
       "    <tr>\n",
       "      <th>mean</th>\n",
       "      <td>81.000000</td>\n",
       "      <td>1.026576</td>\n",
       "      <td>1.014473</td>\n",
       "      <td>-0.150181</td>\n",
       "      <td>0.526606</td>\n",
       "      <td>-0.375087</td>\n",
       "      <td>-0.015044</td>\n",
       "      <td>-0.790279</td>\n",
       "      <td>-1.237063</td>\n",
       "    </tr>\n",
       "    <tr>\n",
       "      <th>std</th>\n",
       "      <td>51.328157</td>\n",
       "      <td>0.500406</td>\n",
       "      <td>0.451968</td>\n",
       "      <td>0.644648</td>\n",
       "      <td>0.443330</td>\n",
       "      <td>0.650333</td>\n",
       "      <td>0.361432</td>\n",
       "      <td>0.488930</td>\n",
       "      <td>0.703964</td>\n",
       "    </tr>\n",
       "    <tr>\n",
       "      <th>min</th>\n",
       "      <td>14.000000</td>\n",
       "      <td>-0.362923</td>\n",
       "      <td>0.001168</td>\n",
       "      <td>-1.334371</td>\n",
       "      <td>-0.545502</td>\n",
       "      <td>-1.403888</td>\n",
       "      <td>-0.666910</td>\n",
       "      <td>-1.563955</td>\n",
       "      <td>-2.103984</td>\n",
       "    </tr>\n",
       "    <tr>\n",
       "      <th>25%</th>\n",
       "      <td>31.250000</td>\n",
       "      <td>0.710145</td>\n",
       "      <td>0.792632</td>\n",
       "      <td>-0.718751</td>\n",
       "      <td>0.236192</td>\n",
       "      <td>-0.971493</td>\n",
       "      <td>-0.398486</td>\n",
       "      <td>-1.121452</td>\n",
       "      <td>-1.791472</td>\n",
       "    </tr>\n",
       "    <tr>\n",
       "      <th>50%</th>\n",
       "      <td>60.500000</td>\n",
       "      <td>1.057237</td>\n",
       "      <td>1.124524</td>\n",
       "      <td>-0.108857</td>\n",
       "      <td>0.670931</td>\n",
       "      <td>-0.314190</td>\n",
       "      <td>0.099990</td>\n",
       "      <td>-1.030692</td>\n",
       "      <td>-1.641509</td>\n",
       "    </tr>\n",
       "    <tr>\n",
       "      <th>75%</th>\n",
       "      <td>133.750000</td>\n",
       "      <td>1.428143</td>\n",
       "      <td>1.337355</td>\n",
       "      <td>0.112240</td>\n",
       "      <td>0.831227</td>\n",
       "      <td>-0.087117</td>\n",
       "      <td>0.286459</td>\n",
       "      <td>-0.451349</td>\n",
       "      <td>-0.623783</td>\n",
       "    </tr>\n",
       "    <tr>\n",
       "      <th>max</th>\n",
       "      <td>151.000000</td>\n",
       "      <td>1.789247</td>\n",
       "      <td>1.536707</td>\n",
       "      <td>1.270421</td>\n",
       "      <td>1.372430</td>\n",
       "      <td>1.340493</td>\n",
       "      <td>0.511383</td>\n",
       "      <td>0.313242</td>\n",
       "      <td>0.591723</td>\n",
       "    </tr>\n",
       "  </tbody>\n",
       "</table>\n",
       "</div>"
      ],
      "text/plain": [
       "          Reading      nm940     nm1050     nm1200     nm1300     nm1450  \\\n",
       "count   70.000000  70.000000  70.000000  70.000000  70.000000  70.000000   \n",
       "mean    81.000000   1.026576   1.014473  -0.150181   0.526606  -0.375087   \n",
       "std     51.328157   0.500406   0.451968   0.644648   0.443330   0.650333   \n",
       "min     14.000000  -0.362923   0.001168  -1.334371  -0.545502  -1.403888   \n",
       "25%     31.250000   0.710145   0.792632  -0.718751   0.236192  -0.971493   \n",
       "50%     60.500000   1.057237   1.124524  -0.108857   0.670931  -0.314190   \n",
       "75%    133.750000   1.428143   1.337355   0.112240   0.831227  -0.087117   \n",
       "max    151.000000   1.789247   1.536707   1.270421   1.372430   1.340493   \n",
       "\n",
       "          nm1550     nm1650     nm1720  \n",
       "count  70.000000  70.000000  70.000000  \n",
       "mean   -0.015044  -0.790279  -1.237063  \n",
       "std     0.361432   0.488930   0.703964  \n",
       "min    -0.666910  -1.563955  -2.103984  \n",
       "25%    -0.398486  -1.121452  -1.791472  \n",
       "50%     0.099990  -1.030692  -1.641509  \n",
       "75%     0.286459  -0.451349  -0.623783  \n",
       "max     0.511383   0.313242   0.591723  "
      ]
     },
     "execution_count": 75,
     "metadata": {},
     "output_type": "execute_result"
    }
   ],
   "source": [
    "df_snv_toplot.describe()"
   ]
  },
  {
   "cell_type": "code",
   "execution_count": 76,
   "metadata": {},
   "outputs": [],
   "source": [
    "#make a pairplot of df_snv from the columns \"nm940\" to \"nm1720\" with seanborn, color based on the PlasticType column\n",
    "#import seaborn as sns\n",
    "#sns.pairplot(df_snv_toplot, hue=\"PlasticType\", vars=[\"nm940\",\"nm1050\",\"nm1200\",\"nm1300\",\"nm1450\",\"nm1550\",\"nm1650\",\"nm1720\" ])"
   ]
  },
  {
   "cell_type": "code",
   "execution_count": 77,
   "metadata": {},
   "outputs": [
    {
     "data": {
      "application/vnd.plotly.v1+json": {
       "config": {
        "plotlyServerURL": "https://plot.ly"
       },
       "data": [
        {
         "hovertemplate": "<b>%{hovertext}</b><br><br>PlasticType=PET<br>nm1200=%{x}<br>nm1450=%{y}<br>nm1720=%{z}<extra></extra>",
         "hovertext": [
          "A01A",
          "A01A",
          "A01A",
          "A01A",
          "A01A",
          "A01A",
          "A01A",
          "A01A",
          "A02A",
          "A02A",
          "A02A",
          "A02A",
          "A02A",
          "A03A",
          "A03A",
          "A03A",
          "A03A",
          "A03A",
          "A03A",
          "A03A",
          "A04A",
          "A04A",
          "A04A",
          "A04A",
          "A04A",
          "A04A"
         ],
         "legendgroup": "PET",
         "marker": {
          "color": "#636efa",
          "symbol": "circle"
         },
         "mode": "markers",
         "name": "PET",
         "scene": "scene",
         "showlegend": true,
         "type": "scatter3d",
         "x": [
          0.04968300782364493,
          0.037162726959009774,
          0.05121130782007609,
          0.07827848471050297,
          0.062035893307598004,
          0.04296924719144644,
          0.03954294915172584,
          0.327469155457438,
          0.39290399269608856,
          0.34205916218155236,
          0.3823362712719935,
          0.35795991392988613,
          0.35114952975896907,
          1.141281472099115,
          1.270421078717135,
          1.1629488269334645,
          1.1574428538121215,
          1.2108850284272856,
          1.1356811274383696,
          1.1373436178524825,
          -0.10501030298966435,
          -0.10036067119053184,
          -0.10383879587581869,
          -0.1143694457935846,
          -0.1108238239801982,
          -0.09476989409606988
         ],
         "y": [
          -0.07268952773868786,
          -0.08831540497517142,
          -0.06928277873843854,
          -0.058246874237907205,
          -0.0900790817385448,
          -0.10432590547131784,
          -0.1291317606099776,
          0.32158429562051605,
          -0.11228107211803329,
          -0.13978392072459425,
          -0.14779491459216879,
          -0.13034726601811925,
          -0.15707124590765054,
          -0.37706464134829465,
          -0.32252854460364205,
          -0.27414122905768995,
          -0.3469020608796286,
          -0.3562576930028044,
          -0.41255453230414907,
          -0.301633536296809,
          -0.29405527942329024,
          -0.3193109856899533,
          -0.30345245259503223,
          -0.31302681526203213,
          -0.31535326956463827,
          -0.3084109632263483
         ],
         "z": [
          -1.6732221818177135,
          -1.7355617852402263,
          -1.7385285418556236,
          -1.7231956956343657,
          -1.6715323113929785,
          -1.643525177534389,
          -1.5696267498802168,
          -2.103983577034398,
          -1.7864044877848102,
          -1.7856847517798211,
          -1.738310321362751,
          -1.8228622308376596,
          -1.840280175999117,
          -1.793161732963656,
          -1.7239400688035087,
          -1.9895236215408643,
          -1.8432250515756945,
          -1.9106960707875713,
          -1.8150978095974732,
          -2.016818844020276,
          -1.653198483434093,
          -1.639491912924507,
          -1.6510353726790223,
          -1.6290368810882008,
          -1.662425984260495,
          -1.6559327573622222
         ]
        },
        {
         "hovertemplate": "<b>%{hovertext}</b><br><br>PlasticType=HDPE<br>nm1200=%{x}<br>nm1450=%{y}<br>nm1720=%{z}<extra></extra>",
         "hovertext": [
          "B01A",
          "B01A",
          "B01A",
          "B01A",
          "B01A",
          "B03A",
          "B03A",
          "B04A",
          "B04A",
          "B04A",
          "B04A"
         ],
         "legendgroup": "HDPE",
         "marker": {
          "color": "#EF553B",
          "symbol": "circle"
         },
         "mode": "markers",
         "name": "HDPE",
         "scene": "scene",
         "showlegend": true,
         "type": "scatter3d",
         "x": [
          -0.7118532851666687,
          -0.7107017752295216,
          -0.7210498530717272,
          -0.723349533041901,
          -0.7414545276744584,
          -1.325978951869789,
          -1.3250064722191166,
          -0.9021403545539183,
          -0.9033170590066436,
          -0.8798454150545065,
          -0.8219645732569332
         ],
         "y": [
          -1.3622980921561683,
          -1.3964806835778327,
          -1.3839448966375403,
          -1.4038882989411297,
          -1.370686826787999,
          -1.1678494897387222,
          -1.1433528196674931,
          -1.1330398340969536,
          -1.1472592982861,
          -1.1052074926963757,
          -1.0836306862162228
         ],
         "z": [
          -0.31539237655543495,
          -0.2114387841720863,
          -0.2532365847839681,
          -0.17555533161873618,
          -0.25369589250021507,
          0.5348325803661362,
          0.5917232218610512,
          -0.16380614168040766,
          -0.2025927797949555,
          -0.10332616504715575,
          -0.1337258884146865
         ]
        },
        {
         "hovertemplate": "<b>%{hovertext}</b><br><br>PlasticType=PP<br>nm1200=%{x}<br>nm1450=%{y}<br>nm1720=%{z}<extra></extra>",
         "hovertext": [
          "E01A",
          "E01A",
          "E01A",
          "E01A",
          "E02A",
          "E02A",
          "E02A",
          "E02A",
          "E05A",
          "E05A",
          "E05A",
          "E05A",
          "E05A"
         ],
         "legendgroup": "PP",
         "marker": {
          "color": "#00cc96",
          "symbol": "circle"
         },
         "mode": "markers",
         "name": "PP",
         "scene": "scene",
         "showlegend": true,
         "type": "scatter3d",
         "x": [
          -1.2902772934907025,
          -1.3343709972514635,
          -1.3298536883508,
          -1.2971746101238317,
          -0.21101852643959237,
          -0.17455322679325644,
          -0.2170054705379293,
          -0.1823408054279542,
          -0.7290811507451015,
          -0.7391146156204773,
          -0.7462975825801634,
          -0.7400876123572752,
          -0.738970039994396
         ],
         "y": [
          -0.9592562193800638,
          -0.9718317278410628,
          -0.9705895003402845,
          -0.9717941785506266,
          -0.9624405910774663,
          -0.9248995312064545,
          -0.9451804745229804,
          -0.8866730119933329,
          -1.0165175650297456,
          -1.0094507419590426,
          -1.030226175203256,
          -1.021800304660869,
          -1.018512290858454
         ],
         "z": [
          -0.527966125844307,
          -0.4884750648729219,
          -0.5647539796592862,
          -0.5225523366363539,
          -0.6229514136510016,
          -0.8070952358227659,
          -0.6296963894095338,
          -0.836954600673607,
          -0.6402008356719817,
          -0.6607090466056639,
          -0.6091337486603711,
          -0.6262782073169383,
          -0.6192303536716819
         ]
        },
        {
         "hovertemplate": "<b>%{hovertext}</b><br><br>PlasticType=PS<br>nm1200=%{x}<br>nm1450=%{y}<br>nm1720=%{z}<extra></extra>",
         "hovertext": [
          "F01A",
          "F01A",
          "F01A",
          "F01A",
          "F02A",
          "F02A",
          "F02A",
          "F02A",
          "F03A",
          "F03A",
          "F03A",
          "F03A",
          "F04A",
          "F04A",
          "F04A",
          "F04A",
          "F04A",
          "F04A",
          "F04A",
          "F04A"
         ],
         "legendgroup": "PS",
         "marker": {
          "color": "#ab63fa",
          "symbol": "circle"
         },
         "mode": "markers",
         "name": "PS",
         "scene": "scene",
         "showlegend": true,
         "type": "scatter3d",
         "x": [
          -0.18361054844850727,
          -0.12526196600636905,
          -0.15498447683522767,
          -0.10689047078084012,
          -0.1523865302334442,
          -0.1818012261946532,
          -0.09869710814905473,
          -0.09113485503340317,
          -0.298349098088893,
          -0.3089522391313829,
          -0.31600749090622376,
          -0.3247386334600804,
          0.21667338952940704,
          0.17496815694148954,
          0.1953610812231935,
          0.2063328627202053,
          0.1083581261291536,
          0.11197969663739174,
          0.09932486512092384,
          0.11232718900152013
         ],
         "y": [
          -0.1350729607696964,
          -0.08300684842865841,
          -0.08671818098472393,
          -0.09556432273270386,
          1.2785513232058723,
          1.3404928113680912,
          1.2883368704488767,
          1.2696007971170722,
          -0.3593060465660604,
          -0.3431959553380002,
          -0.3383048578394799,
          -0.35877683982684877,
          0.2233926169287984,
          0.22943435503618315,
          0.22841242521112262,
          0.2440336243653496,
          0.2546541107317104,
          0.2781149584617252,
          0.27673196255455745,
          0.24139694750955443
         ],
         "z": [
          -1.7072183986352398,
          -1.752371423643062,
          -1.7987507489003534,
          -1.7115847137074613,
          -1.0073470472424,
          -1.0019462586123322,
          -0.9672444166351547,
          -0.921908711040468,
          -1.3476101418897644,
          -1.3527037990595916,
          -1.3776655910223878,
          -1.3675268753783487,
          -1.9867118179516812,
          -1.9260451129892102,
          -1.9490560104111165,
          -1.9674472593839114,
          -1.9249199582457388,
          -1.9705743632903074,
          -1.9716497545678617,
          -1.9256483557338269
         ]
        }
       ],
       "layout": {
        "legend": {
         "title": {
          "text": "PlasticType"
         },
         "tracegroupgap": 0
        },
        "margin": {
         "t": 60
        },
        "scene": {
         "domain": {
          "x": [
           0,
           1
          ],
          "y": [
           0,
           1
          ]
         },
         "xaxis": {
          "title": {
           "text": "nm1200"
          }
         },
         "yaxis": {
          "title": {
           "text": "nm1450"
          }
         },
         "zaxis": {
          "title": {
           "text": "nm1720"
          }
         }
        },
        "template": {
         "data": {
          "bar": [
           {
            "error_x": {
             "color": "#2a3f5f"
            },
            "error_y": {
             "color": "#2a3f5f"
            },
            "marker": {
             "line": {
              "color": "#E5ECF6",
              "width": 0.5
             },
             "pattern": {
              "fillmode": "overlay",
              "size": 10,
              "solidity": 0.2
             }
            },
            "type": "bar"
           }
          ],
          "barpolar": [
           {
            "marker": {
             "line": {
              "color": "#E5ECF6",
              "width": 0.5
             },
             "pattern": {
              "fillmode": "overlay",
              "size": 10,
              "solidity": 0.2
             }
            },
            "type": "barpolar"
           }
          ],
          "carpet": [
           {
            "aaxis": {
             "endlinecolor": "#2a3f5f",
             "gridcolor": "white",
             "linecolor": "white",
             "minorgridcolor": "white",
             "startlinecolor": "#2a3f5f"
            },
            "baxis": {
             "endlinecolor": "#2a3f5f",
             "gridcolor": "white",
             "linecolor": "white",
             "minorgridcolor": "white",
             "startlinecolor": "#2a3f5f"
            },
            "type": "carpet"
           }
          ],
          "choropleth": [
           {
            "colorbar": {
             "outlinewidth": 0,
             "ticks": ""
            },
            "type": "choropleth"
           }
          ],
          "contour": [
           {
            "colorbar": {
             "outlinewidth": 0,
             "ticks": ""
            },
            "colorscale": [
             [
              0,
              "#0d0887"
             ],
             [
              0.1111111111111111,
              "#46039f"
             ],
             [
              0.2222222222222222,
              "#7201a8"
             ],
             [
              0.3333333333333333,
              "#9c179e"
             ],
             [
              0.4444444444444444,
              "#bd3786"
             ],
             [
              0.5555555555555556,
              "#d8576b"
             ],
             [
              0.6666666666666666,
              "#ed7953"
             ],
             [
              0.7777777777777778,
              "#fb9f3a"
             ],
             [
              0.8888888888888888,
              "#fdca26"
             ],
             [
              1,
              "#f0f921"
             ]
            ],
            "type": "contour"
           }
          ],
          "contourcarpet": [
           {
            "colorbar": {
             "outlinewidth": 0,
             "ticks": ""
            },
            "type": "contourcarpet"
           }
          ],
          "heatmap": [
           {
            "colorbar": {
             "outlinewidth": 0,
             "ticks": ""
            },
            "colorscale": [
             [
              0,
              "#0d0887"
             ],
             [
              0.1111111111111111,
              "#46039f"
             ],
             [
              0.2222222222222222,
              "#7201a8"
             ],
             [
              0.3333333333333333,
              "#9c179e"
             ],
             [
              0.4444444444444444,
              "#bd3786"
             ],
             [
              0.5555555555555556,
              "#d8576b"
             ],
             [
              0.6666666666666666,
              "#ed7953"
             ],
             [
              0.7777777777777778,
              "#fb9f3a"
             ],
             [
              0.8888888888888888,
              "#fdca26"
             ],
             [
              1,
              "#f0f921"
             ]
            ],
            "type": "heatmap"
           }
          ],
          "heatmapgl": [
           {
            "colorbar": {
             "outlinewidth": 0,
             "ticks": ""
            },
            "colorscale": [
             [
              0,
              "#0d0887"
             ],
             [
              0.1111111111111111,
              "#46039f"
             ],
             [
              0.2222222222222222,
              "#7201a8"
             ],
             [
              0.3333333333333333,
              "#9c179e"
             ],
             [
              0.4444444444444444,
              "#bd3786"
             ],
             [
              0.5555555555555556,
              "#d8576b"
             ],
             [
              0.6666666666666666,
              "#ed7953"
             ],
             [
              0.7777777777777778,
              "#fb9f3a"
             ],
             [
              0.8888888888888888,
              "#fdca26"
             ],
             [
              1,
              "#f0f921"
             ]
            ],
            "type": "heatmapgl"
           }
          ],
          "histogram": [
           {
            "marker": {
             "pattern": {
              "fillmode": "overlay",
              "size": 10,
              "solidity": 0.2
             }
            },
            "type": "histogram"
           }
          ],
          "histogram2d": [
           {
            "colorbar": {
             "outlinewidth": 0,
             "ticks": ""
            },
            "colorscale": [
             [
              0,
              "#0d0887"
             ],
             [
              0.1111111111111111,
              "#46039f"
             ],
             [
              0.2222222222222222,
              "#7201a8"
             ],
             [
              0.3333333333333333,
              "#9c179e"
             ],
             [
              0.4444444444444444,
              "#bd3786"
             ],
             [
              0.5555555555555556,
              "#d8576b"
             ],
             [
              0.6666666666666666,
              "#ed7953"
             ],
             [
              0.7777777777777778,
              "#fb9f3a"
             ],
             [
              0.8888888888888888,
              "#fdca26"
             ],
             [
              1,
              "#f0f921"
             ]
            ],
            "type": "histogram2d"
           }
          ],
          "histogram2dcontour": [
           {
            "colorbar": {
             "outlinewidth": 0,
             "ticks": ""
            },
            "colorscale": [
             [
              0,
              "#0d0887"
             ],
             [
              0.1111111111111111,
              "#46039f"
             ],
             [
              0.2222222222222222,
              "#7201a8"
             ],
             [
              0.3333333333333333,
              "#9c179e"
             ],
             [
              0.4444444444444444,
              "#bd3786"
             ],
             [
              0.5555555555555556,
              "#d8576b"
             ],
             [
              0.6666666666666666,
              "#ed7953"
             ],
             [
              0.7777777777777778,
              "#fb9f3a"
             ],
             [
              0.8888888888888888,
              "#fdca26"
             ],
             [
              1,
              "#f0f921"
             ]
            ],
            "type": "histogram2dcontour"
           }
          ],
          "mesh3d": [
           {
            "colorbar": {
             "outlinewidth": 0,
             "ticks": ""
            },
            "type": "mesh3d"
           }
          ],
          "parcoords": [
           {
            "line": {
             "colorbar": {
              "outlinewidth": 0,
              "ticks": ""
             }
            },
            "type": "parcoords"
           }
          ],
          "pie": [
           {
            "automargin": true,
            "type": "pie"
           }
          ],
          "scatter": [
           {
            "fillpattern": {
             "fillmode": "overlay",
             "size": 10,
             "solidity": 0.2
            },
            "type": "scatter"
           }
          ],
          "scatter3d": [
           {
            "line": {
             "colorbar": {
              "outlinewidth": 0,
              "ticks": ""
             }
            },
            "marker": {
             "colorbar": {
              "outlinewidth": 0,
              "ticks": ""
             }
            },
            "type": "scatter3d"
           }
          ],
          "scattercarpet": [
           {
            "marker": {
             "colorbar": {
              "outlinewidth": 0,
              "ticks": ""
             }
            },
            "type": "scattercarpet"
           }
          ],
          "scattergeo": [
           {
            "marker": {
             "colorbar": {
              "outlinewidth": 0,
              "ticks": ""
             }
            },
            "type": "scattergeo"
           }
          ],
          "scattergl": [
           {
            "marker": {
             "colorbar": {
              "outlinewidth": 0,
              "ticks": ""
             }
            },
            "type": "scattergl"
           }
          ],
          "scattermapbox": [
           {
            "marker": {
             "colorbar": {
              "outlinewidth": 0,
              "ticks": ""
             }
            },
            "type": "scattermapbox"
           }
          ],
          "scatterpolar": [
           {
            "marker": {
             "colorbar": {
              "outlinewidth": 0,
              "ticks": ""
             }
            },
            "type": "scatterpolar"
           }
          ],
          "scatterpolargl": [
           {
            "marker": {
             "colorbar": {
              "outlinewidth": 0,
              "ticks": ""
             }
            },
            "type": "scatterpolargl"
           }
          ],
          "scatterternary": [
           {
            "marker": {
             "colorbar": {
              "outlinewidth": 0,
              "ticks": ""
             }
            },
            "type": "scatterternary"
           }
          ],
          "surface": [
           {
            "colorbar": {
             "outlinewidth": 0,
             "ticks": ""
            },
            "colorscale": [
             [
              0,
              "#0d0887"
             ],
             [
              0.1111111111111111,
              "#46039f"
             ],
             [
              0.2222222222222222,
              "#7201a8"
             ],
             [
              0.3333333333333333,
              "#9c179e"
             ],
             [
              0.4444444444444444,
              "#bd3786"
             ],
             [
              0.5555555555555556,
              "#d8576b"
             ],
             [
              0.6666666666666666,
              "#ed7953"
             ],
             [
              0.7777777777777778,
              "#fb9f3a"
             ],
             [
              0.8888888888888888,
              "#fdca26"
             ],
             [
              1,
              "#f0f921"
             ]
            ],
            "type": "surface"
           }
          ],
          "table": [
           {
            "cells": {
             "fill": {
              "color": "#EBF0F8"
             },
             "line": {
              "color": "white"
             }
            },
            "header": {
             "fill": {
              "color": "#C8D4E3"
             },
             "line": {
              "color": "white"
             }
            },
            "type": "table"
           }
          ]
         },
         "layout": {
          "annotationdefaults": {
           "arrowcolor": "#2a3f5f",
           "arrowhead": 0,
           "arrowwidth": 1
          },
          "autotypenumbers": "strict",
          "coloraxis": {
           "colorbar": {
            "outlinewidth": 0,
            "ticks": ""
           }
          },
          "colorscale": {
           "diverging": [
            [
             0,
             "#8e0152"
            ],
            [
             0.1,
             "#c51b7d"
            ],
            [
             0.2,
             "#de77ae"
            ],
            [
             0.3,
             "#f1b6da"
            ],
            [
             0.4,
             "#fde0ef"
            ],
            [
             0.5,
             "#f7f7f7"
            ],
            [
             0.6,
             "#e6f5d0"
            ],
            [
             0.7,
             "#b8e186"
            ],
            [
             0.8,
             "#7fbc41"
            ],
            [
             0.9,
             "#4d9221"
            ],
            [
             1,
             "#276419"
            ]
           ],
           "sequential": [
            [
             0,
             "#0d0887"
            ],
            [
             0.1111111111111111,
             "#46039f"
            ],
            [
             0.2222222222222222,
             "#7201a8"
            ],
            [
             0.3333333333333333,
             "#9c179e"
            ],
            [
             0.4444444444444444,
             "#bd3786"
            ],
            [
             0.5555555555555556,
             "#d8576b"
            ],
            [
             0.6666666666666666,
             "#ed7953"
            ],
            [
             0.7777777777777778,
             "#fb9f3a"
            ],
            [
             0.8888888888888888,
             "#fdca26"
            ],
            [
             1,
             "#f0f921"
            ]
           ],
           "sequentialminus": [
            [
             0,
             "#0d0887"
            ],
            [
             0.1111111111111111,
             "#46039f"
            ],
            [
             0.2222222222222222,
             "#7201a8"
            ],
            [
             0.3333333333333333,
             "#9c179e"
            ],
            [
             0.4444444444444444,
             "#bd3786"
            ],
            [
             0.5555555555555556,
             "#d8576b"
            ],
            [
             0.6666666666666666,
             "#ed7953"
            ],
            [
             0.7777777777777778,
             "#fb9f3a"
            ],
            [
             0.8888888888888888,
             "#fdca26"
            ],
            [
             1,
             "#f0f921"
            ]
           ]
          },
          "colorway": [
           "#636efa",
           "#EF553B",
           "#00cc96",
           "#ab63fa",
           "#FFA15A",
           "#19d3f3",
           "#FF6692",
           "#B6E880",
           "#FF97FF",
           "#FECB52"
          ],
          "font": {
           "color": "#2a3f5f"
          },
          "geo": {
           "bgcolor": "white",
           "lakecolor": "white",
           "landcolor": "#E5ECF6",
           "showlakes": true,
           "showland": true,
           "subunitcolor": "white"
          },
          "hoverlabel": {
           "align": "left"
          },
          "hovermode": "closest",
          "mapbox": {
           "style": "light"
          },
          "paper_bgcolor": "white",
          "plot_bgcolor": "#E5ECF6",
          "polar": {
           "angularaxis": {
            "gridcolor": "white",
            "linecolor": "white",
            "ticks": ""
           },
           "bgcolor": "#E5ECF6",
           "radialaxis": {
            "gridcolor": "white",
            "linecolor": "white",
            "ticks": ""
           }
          },
          "scene": {
           "xaxis": {
            "backgroundcolor": "#E5ECF6",
            "gridcolor": "white",
            "gridwidth": 2,
            "linecolor": "white",
            "showbackground": true,
            "ticks": "",
            "zerolinecolor": "white"
           },
           "yaxis": {
            "backgroundcolor": "#E5ECF6",
            "gridcolor": "white",
            "gridwidth": 2,
            "linecolor": "white",
            "showbackground": true,
            "ticks": "",
            "zerolinecolor": "white"
           },
           "zaxis": {
            "backgroundcolor": "#E5ECF6",
            "gridcolor": "white",
            "gridwidth": 2,
            "linecolor": "white",
            "showbackground": true,
            "ticks": "",
            "zerolinecolor": "white"
           }
          },
          "shapedefaults": {
           "line": {
            "color": "#2a3f5f"
           }
          },
          "ternary": {
           "aaxis": {
            "gridcolor": "white",
            "linecolor": "white",
            "ticks": ""
           },
           "baxis": {
            "gridcolor": "white",
            "linecolor": "white",
            "ticks": ""
           },
           "bgcolor": "#E5ECF6",
           "caxis": {
            "gridcolor": "white",
            "linecolor": "white",
            "ticks": ""
           }
          },
          "title": {
           "x": 0.05
          },
          "xaxis": {
           "automargin": true,
           "gridcolor": "white",
           "linecolor": "white",
           "ticks": "",
           "title": {
            "standoff": 15
           },
           "zerolinecolor": "white",
           "zerolinewidth": 2
          },
          "yaxis": {
           "automargin": true,
           "gridcolor": "white",
           "linecolor": "white",
           "ticks": "",
           "title": {
            "standoff": 15
           },
           "zerolinecolor": "white",
           "zerolinewidth": 2
          }
         }
        }
       }
      }
     },
     "metadata": {},
     "output_type": "display_data"
    }
   ],
   "source": [
    "#make an interactive 3d scatterplot of df_snv_toplot\n",
    "import plotly.express as px\n",
    "fig = px.scatter_3d(df_snv_toplot, x='nm1200', y='nm1450', z='nm1720', color='PlasticType', hover_name='Name')\n",
    "fig.show()"
   ]
  },
  {
   "cell_type": "code",
   "execution_count": 78,
   "metadata": {},
   "outputs": [
    {
     "name": "stdout",
     "output_type": "stream",
     "text": [
      "163\n",
      "120\n",
      "70\n",
      "0.7361963190184049\n"
     ]
    }
   ],
   "source": [
    "print(len(df))\n",
    "print(len(df_norm))\n",
    "print(len(df_snv_toplot))\n",
    "print(len(df_norm)/len(df))\n"
   ]
  },
  {
   "attachments": {},
   "cell_type": "markdown",
   "metadata": {},
   "source": [
    "# PCA analysis"
   ]
  },
  {
   "cell_type": "code",
   "execution_count": 79,
   "metadata": {},
   "outputs": [
    {
     "data": {
      "text/html": [
       "<div>\n",
       "<style scoped>\n",
       "    .dataframe tbody tr th:only-of-type {\n",
       "        vertical-align: middle;\n",
       "    }\n",
       "\n",
       "    .dataframe tbody tr th {\n",
       "        vertical-align: top;\n",
       "    }\n",
       "\n",
       "    .dataframe thead th {\n",
       "        text-align: right;\n",
       "    }\n",
       "</style>\n",
       "<table border=\"1\" class=\"dataframe\">\n",
       "  <thead>\n",
       "    <tr style=\"text-align: right;\">\n",
       "      <th></th>\n",
       "      <th>principal component 1</th>\n",
       "      <th>principal component 2</th>\n",
       "      <th>principal component 3</th>\n",
       "    </tr>\n",
       "  </thead>\n",
       "  <tbody>\n",
       "    <tr>\n",
       "      <th>count</th>\n",
       "      <td>7.000000e+01</td>\n",
       "      <td>7.000000e+01</td>\n",
       "      <td>7.000000e+01</td>\n",
       "    </tr>\n",
       "    <tr>\n",
       "      <th>mean</th>\n",
       "      <td>-8.247371e-17</td>\n",
       "      <td>1.434368e-16</td>\n",
       "      <td>-9.119689e-18</td>\n",
       "    </tr>\n",
       "    <tr>\n",
       "      <th>std</th>\n",
       "      <td>1.342414e+00</td>\n",
       "      <td>5.319778e-01</td>\n",
       "      <td>4.240790e-01</td>\n",
       "    </tr>\n",
       "    <tr>\n",
       "      <th>min</th>\n",
       "      <td>-1.904032e+00</td>\n",
       "      <td>-5.919332e-01</td>\n",
       "      <td>-4.761589e-01</td>\n",
       "    </tr>\n",
       "    <tr>\n",
       "      <th>25%</th>\n",
       "      <td>-1.158638e+00</td>\n",
       "      <td>-2.282338e-01</td>\n",
       "      <td>-3.097047e-01</td>\n",
       "    </tr>\n",
       "    <tr>\n",
       "      <th>50%</th>\n",
       "      <td>-4.491819e-01</td>\n",
       "      <td>-1.061340e-01</td>\n",
       "      <td>-1.315125e-01</td>\n",
       "    </tr>\n",
       "    <tr>\n",
       "      <th>75%</th>\n",
       "      <td>1.393791e+00</td>\n",
       "      <td>1.123417e-02</td>\n",
       "      <td>1.860532e-01</td>\n",
       "    </tr>\n",
       "    <tr>\n",
       "      <th>max</th>\n",
       "      <td>2.554297e+00</td>\n",
       "      <td>1.841489e+00</td>\n",
       "      <td>1.058446e+00</td>\n",
       "    </tr>\n",
       "  </tbody>\n",
       "</table>\n",
       "</div>"
      ],
      "text/plain": [
       "       principal component 1  principal component 2  principal component 3\n",
       "count           7.000000e+01           7.000000e+01           7.000000e+01\n",
       "mean           -8.247371e-17           1.434368e-16          -9.119689e-18\n",
       "std             1.342414e+00           5.319778e-01           4.240790e-01\n",
       "min            -1.904032e+00          -5.919332e-01          -4.761589e-01\n",
       "25%            -1.158638e+00          -2.282338e-01          -3.097047e-01\n",
       "50%            -4.491819e-01          -1.061340e-01          -1.315125e-01\n",
       "75%             1.393791e+00           1.123417e-02           1.860532e-01\n",
       "max             2.554297e+00           1.841489e+00           1.058446e+00"
      ]
     },
     "execution_count": 79,
     "metadata": {},
     "output_type": "execute_result"
    }
   ],
   "source": [
    "#do a PCA on the df_snv_toplot dataframe based on the PlasticType column that also has the \"Name\" colum in the final dataframe\n",
    "from sklearn.decomposition import PCA\n",
    "pca = PCA(n_components=3)\n",
    "principalComponents = pca.fit_transform(df_snv_toplot.loc[:, 'nm940':'nm1720'])\n",
    "principalDf = pd.DataFrame(data = principalComponents, columns = ['principal component 1', 'principal component 2', 'principal component 3'])\n",
    "principalDf['PlasticType'] = df_snv_toplot['PlasticType']\n",
    "principalDf['Name'] = df_snv_toplot['Name']\n",
    "principalDf.describe()"
   ]
  },
  {
   "cell_type": "code",
   "execution_count": 80,
   "metadata": {},
   "outputs": [
    {
     "data": {
      "application/vnd.plotly.v1+json": {
       "config": {
        "plotlyServerURL": "https://plot.ly"
       },
       "data": [
        {
         "customdata": [
          [
           "A01A"
          ],
          [
           "A01A"
          ],
          [
           "A01A"
          ],
          [
           "A01A"
          ],
          [
           "A01A"
          ],
          [
           "A01A"
          ],
          [
           "A01A"
          ],
          [
           "A01A"
          ],
          [
           "A02A"
          ],
          [
           "A02A"
          ],
          [
           "A02A"
          ],
          [
           "A02A"
          ],
          [
           "A02A"
          ],
          [
           "A03A"
          ],
          [
           "A03A"
          ],
          [
           "A03A"
          ],
          [
           "A03A"
          ],
          [
           "A03A"
          ],
          [
           "A03A"
          ],
          [
           "A03A"
          ],
          [
           "A04A"
          ],
          [
           "A04A"
          ],
          [
           "A04A"
          ],
          [
           "A04A"
          ],
          [
           "A04A"
          ],
          [
           "A04A"
          ]
         ],
         "hovertemplate": "PlasticType=PET<br>principal component 1=%{x}<br>principal component 2=%{y}<br>principal component 3=%{z}<br>Name=%{customdata[0]}<extra></extra>",
         "legendgroup": "PET",
         "marker": {
          "color": "#636efa",
          "symbol": "circle"
         },
         "mode": "markers",
         "name": "PET",
         "scene": "scene",
         "showlegend": true,
         "type": "scatter3d",
         "x": [
          -0.6701126130271102,
          -0.6764229321070399,
          -0.6927139764392675,
          -0.7132358087523273,
          -0.6936058065277861,
          -0.6709456602525982,
          -0.6376287702023554,
          -1.1572722908629838,
          -0.8719241030940542,
          -0.8239478606321099,
          -0.8408066718855789,
          -0.8847777495534291,
          -0.8222638642454708,
          -1.4659071715068142,
          -1.5300989013275215,
          -1.5500078325980302,
          -1.5188256381010965,
          -1.5110476851143901,
          -1.416694239633182,
          -1.461106597642742,
          -0.3747984458636205,
          -0.355367700941733,
          -0.36872613300621604,
          -0.3530360486169417,
          -0.36236928611670965,
          -0.39471102140392134
         ],
         "y": [
          -0.1088315220498949,
          -0.12948295257992423,
          -0.1332472147674399,
          -0.12164406191311028,
          -0.10343654347104579,
          -0.09649576915005637,
          -0.07621567349551847,
          -0.16903791835986579,
          -0.35642294207008296,
          -0.360171883420736,
          -0.353537388001447,
          -0.34282066225553426,
          -0.3879361580246653,
          -0.49918792190628386,
          -0.4889396310729902,
          -0.508138122403751,
          -0.47897355546625325,
          -0.5368568231053594,
          -0.5584120271643173,
          -0.5919331757457645,
          -0.2225980921142296,
          -0.2306501790489601,
          -0.22502161481559593,
          -0.21318294673063484,
          -0.22930452704669654,
          -0.21804849460028683
         ],
         "z": [
          -0.3223023952955869,
          -0.3080558783052083,
          -0.30849482558550456,
          -0.2981747247090578,
          -0.31010796688726405,
          -0.3176203709459295,
          -0.322158103064948,
          -0.09422572228988686,
          -0.06453438951373688,
          -0.09430316478448729,
          -0.06923603368343058,
          -0.06698245128016045,
          -0.07292400798020257,
          0.9068218230946105,
          1.034562147806899,
          1.0190516471063267,
          0.9596030682159123,
          1.0584460226746946,
          0.915458898730681,
          0.9699051344737655,
          -0.3735086386474502,
          -0.36596928627294995,
          -0.3712698429422751,
          -0.3772238127190428,
          -0.36633757104069375,
          -0.35839206358838366
         ]
        },
        {
         "customdata": [
          [
           "B01A"
          ],
          [
           "B01A"
          ],
          [
           "B01A"
          ],
          [
           "B01A"
          ],
          [
           "B01A"
          ],
          [
           "B03A"
          ],
          [
           "B03A"
          ],
          [
           "B04A"
          ],
          [
           "B04A"
          ],
          [
           "B04A"
          ],
          [
           "B04A"
          ]
         ],
         "hovertemplate": "PlasticType=HDPE<br>principal component 1=%{x}<br>principal component 2=%{y}<br>principal component 3=%{z}<br>Name=%{customdata[0]}<extra></extra>",
         "legendgroup": "HDPE",
         "marker": {
          "color": "#EF553B",
          "symbol": "circle"
         },
         "mode": "markers",
         "name": "HDPE",
         "scene": "scene",
         "showlegend": true,
         "type": "scatter3d",
         "x": [
          1.9401500400479523,
          1.9562738184667463,
          1.9414294563242362,
          1.9961806089083876,
          1.9854902162134742,
          2.5139732229211607,
          2.554296815945894,
          2.0422013287597536,
          1.9904191342047772,
          2.036505695381422,
          1.9995245061587907
         ],
         "y": [
          -0.06504726063052023,
          -0.027549917137100154,
          -0.04569247155393572,
          -0.018599479421204355,
          -0.029427998872443278,
          0.8627886961211053,
          0.8981772853521299,
          0.16073996430035323,
          0.1388312660523559,
          0.17944390387674924,
          0.1359792130985648
         ],
         "z": [
          0.39020849271669317,
          0.39527192465488087,
          0.37613059436435914,
          0.41364497483225104,
          0.40026255980890324,
          0.5606104777637432,
          0.6119848769000908,
          0.19920139752335692,
          0.16288875329509517,
          0.18738890631131194,
          0.18204621594013762
         ]
        },
        {
         "customdata": [
          [
           "E01A"
          ],
          [
           "E01A"
          ],
          [
           "E01A"
          ],
          [
           "E01A"
          ],
          [
           "E02A"
          ],
          [
           "E02A"
          ],
          [
           "E02A"
          ],
          [
           "E02A"
          ],
          [
           "E05A"
          ],
          [
           "E05A"
          ],
          [
           "E05A"
          ],
          [
           "E05A"
          ],
          [
           "E05A"
          ]
         ],
         "hovertemplate": "PlasticType=PP<br>principal component 1=%{x}<br>principal component 2=%{y}<br>principal component 3=%{z}<br>Name=%{customdata[0]}<extra></extra>",
         "legendgroup": "PP",
         "marker": {
          "color": "#00cc96",
          "symbol": "circle"
         },
         "mode": "markers",
         "name": "PP",
         "scene": "scene",
         "showlegend": true,
         "type": "scatter3d",
         "x": [
          1.5740370971121396,
          1.58095465622229,
          1.5950313214628906,
          1.5562982220527721,
          1.2034647044082245,
          1.14019163698757,
          1.2467191653289282,
          1.1652019753440759,
          1.3603087280470427,
          1.3953627338746986,
          1.406408802900471,
          1.4018569409092876,
          1.389075744056209
         ],
         "y": [
          0.3517736811269498,
          0.40954186987558433,
          0.36883097663371334,
          0.37517500322126557,
          -0.36246346507272015,
          -0.45620669663297375,
          -0.3753311972203462,
          -0.46680539100801444,
          -0.06311860216137596,
          -0.07117320106055237,
          -0.05094116003685473,
          -0.05746728299473007,
          -0.04832215117534445
         ],
         "z": [
          -0.22104665133749118,
          -0.22052616053889967,
          -0.19109087097741584,
          -0.22493089960856527,
          0.06557085701254815,
          0.06096872657634599,
          0.0777026084386273,
          0.06844899506372545,
          -0.14233791493977857,
          -0.1282555044349127,
          -0.12277479575992928,
          -0.12721811096290223,
          -0.13476956226946085
         ]
        },
        {
         "customdata": [
          [
           "F01A"
          ],
          [
           "F01A"
          ],
          [
           "F01A"
          ],
          [
           "F01A"
          ],
          [
           "F02A"
          ],
          [
           "F02A"
          ],
          [
           "F02A"
          ],
          [
           "F02A"
          ],
          [
           "F03A"
          ],
          [
           "F03A"
          ],
          [
           "F03A"
          ],
          [
           "F03A"
          ],
          [
           "F04A"
          ],
          [
           "F04A"
          ],
          [
           "F04A"
          ],
          [
           "F04A"
          ],
          [
           "F04A"
          ],
          [
           "F04A"
          ],
          [
           "F04A"
          ],
          [
           "F04A"
          ]
         ],
         "hovertemplate": "PlasticType=PS<br>principal component 1=%{x}<br>principal component 2=%{y}<br>principal component 3=%{z}<br>Name=%{customdata[0]}<extra></extra>",
         "legendgroup": "PS",
         "marker": {
          "color": "#ab63fa",
          "symbol": "circle"
         },
         "mode": "markers",
         "name": "PS",
         "scene": "scene",
         "showlegend": true,
         "type": "scatter3d",
         "x": [
          -0.4189188547135017,
          -0.4794449363696095,
          -0.49421685647144603,
          -0.5138454663000509,
          -1.8777601987822115,
          -1.8581447142123004,
          -1.9040316775651218,
          -1.8765255418445426,
          0.14549524765794597,
          0.14102636385463851,
          0.16072458278306065,
          0.16464721594394002,
          -1.1823578215472261,
          -1.1424165407639353,
          -1.1590926557974282,
          -1.1664360749369622,
          -1.1869761553762828,
          -1.1664424117443726,
          -1.168012485904012,
          -1.1702727804947501
         ],
         "y": [
          -0.1490354458860194,
          -0.17358642982965922,
          -0.15310000625580894,
          -0.14268627059999417,
          1.8054674334167529,
          1.836951375259856,
          1.8287255569609076,
          1.841488815256309,
          -0.17439149649075966,
          -0.16475360511884382,
          -0.17917767719376995,
          -0.17046179954311916,
          -0.057233867579719926,
          -0.018271623054141022,
          -0.039603108934597085,
          -0.041005261199060394,
          0.059393977737925,
          0.0210694277488176,
          0.032454736716638365,
          0.035147484688084346
         ],
         "z": [
          -0.4547253602764782,
          -0.4342892881742496,
          -0.434182431184416,
          -0.43227329323018104,
          0.17092020863547316,
          0.1432804345595985,
          0.23557688475709548,
          0.23819940751252944,
          -0.4611667155038443,
          -0.47514901819374006,
          -0.4741957055661844,
          -0.4761589391702158,
          -0.17027178208320679,
          -0.2317349514531798,
          -0.2053663850107977,
          -0.20100658942779726,
          -0.24167504453391445,
          -0.2458096541552845,
          -0.250022839718102,
          -0.24135632072250926
         ]
        }
       ],
       "layout": {
        "legend": {
         "title": {
          "text": "PlasticType"
         },
         "tracegroupgap": 0
        },
        "margin": {
         "t": 60
        },
        "scene": {
         "domain": {
          "x": [
           0,
           1
          ],
          "y": [
           0,
           1
          ]
         },
         "xaxis": {
          "title": {
           "text": "principal component 1"
          }
         },
         "yaxis": {
          "title": {
           "text": "principal component 2"
          }
         },
         "zaxis": {
          "title": {
           "text": "principal component 3"
          }
         }
        },
        "template": {
         "data": {
          "bar": [
           {
            "error_x": {
             "color": "#2a3f5f"
            },
            "error_y": {
             "color": "#2a3f5f"
            },
            "marker": {
             "line": {
              "color": "#E5ECF6",
              "width": 0.5
             },
             "pattern": {
              "fillmode": "overlay",
              "size": 10,
              "solidity": 0.2
             }
            },
            "type": "bar"
           }
          ],
          "barpolar": [
           {
            "marker": {
             "line": {
              "color": "#E5ECF6",
              "width": 0.5
             },
             "pattern": {
              "fillmode": "overlay",
              "size": 10,
              "solidity": 0.2
             }
            },
            "type": "barpolar"
           }
          ],
          "carpet": [
           {
            "aaxis": {
             "endlinecolor": "#2a3f5f",
             "gridcolor": "white",
             "linecolor": "white",
             "minorgridcolor": "white",
             "startlinecolor": "#2a3f5f"
            },
            "baxis": {
             "endlinecolor": "#2a3f5f",
             "gridcolor": "white",
             "linecolor": "white",
             "minorgridcolor": "white",
             "startlinecolor": "#2a3f5f"
            },
            "type": "carpet"
           }
          ],
          "choropleth": [
           {
            "colorbar": {
             "outlinewidth": 0,
             "ticks": ""
            },
            "type": "choropleth"
           }
          ],
          "contour": [
           {
            "colorbar": {
             "outlinewidth": 0,
             "ticks": ""
            },
            "colorscale": [
             [
              0,
              "#0d0887"
             ],
             [
              0.1111111111111111,
              "#46039f"
             ],
             [
              0.2222222222222222,
              "#7201a8"
             ],
             [
              0.3333333333333333,
              "#9c179e"
             ],
             [
              0.4444444444444444,
              "#bd3786"
             ],
             [
              0.5555555555555556,
              "#d8576b"
             ],
             [
              0.6666666666666666,
              "#ed7953"
             ],
             [
              0.7777777777777778,
              "#fb9f3a"
             ],
             [
              0.8888888888888888,
              "#fdca26"
             ],
             [
              1,
              "#f0f921"
             ]
            ],
            "type": "contour"
           }
          ],
          "contourcarpet": [
           {
            "colorbar": {
             "outlinewidth": 0,
             "ticks": ""
            },
            "type": "contourcarpet"
           }
          ],
          "heatmap": [
           {
            "colorbar": {
             "outlinewidth": 0,
             "ticks": ""
            },
            "colorscale": [
             [
              0,
              "#0d0887"
             ],
             [
              0.1111111111111111,
              "#46039f"
             ],
             [
              0.2222222222222222,
              "#7201a8"
             ],
             [
              0.3333333333333333,
              "#9c179e"
             ],
             [
              0.4444444444444444,
              "#bd3786"
             ],
             [
              0.5555555555555556,
              "#d8576b"
             ],
             [
              0.6666666666666666,
              "#ed7953"
             ],
             [
              0.7777777777777778,
              "#fb9f3a"
             ],
             [
              0.8888888888888888,
              "#fdca26"
             ],
             [
              1,
              "#f0f921"
             ]
            ],
            "type": "heatmap"
           }
          ],
          "heatmapgl": [
           {
            "colorbar": {
             "outlinewidth": 0,
             "ticks": ""
            },
            "colorscale": [
             [
              0,
              "#0d0887"
             ],
             [
              0.1111111111111111,
              "#46039f"
             ],
             [
              0.2222222222222222,
              "#7201a8"
             ],
             [
              0.3333333333333333,
              "#9c179e"
             ],
             [
              0.4444444444444444,
              "#bd3786"
             ],
             [
              0.5555555555555556,
              "#d8576b"
             ],
             [
              0.6666666666666666,
              "#ed7953"
             ],
             [
              0.7777777777777778,
              "#fb9f3a"
             ],
             [
              0.8888888888888888,
              "#fdca26"
             ],
             [
              1,
              "#f0f921"
             ]
            ],
            "type": "heatmapgl"
           }
          ],
          "histogram": [
           {
            "marker": {
             "pattern": {
              "fillmode": "overlay",
              "size": 10,
              "solidity": 0.2
             }
            },
            "type": "histogram"
           }
          ],
          "histogram2d": [
           {
            "colorbar": {
             "outlinewidth": 0,
             "ticks": ""
            },
            "colorscale": [
             [
              0,
              "#0d0887"
             ],
             [
              0.1111111111111111,
              "#46039f"
             ],
             [
              0.2222222222222222,
              "#7201a8"
             ],
             [
              0.3333333333333333,
              "#9c179e"
             ],
             [
              0.4444444444444444,
              "#bd3786"
             ],
             [
              0.5555555555555556,
              "#d8576b"
             ],
             [
              0.6666666666666666,
              "#ed7953"
             ],
             [
              0.7777777777777778,
              "#fb9f3a"
             ],
             [
              0.8888888888888888,
              "#fdca26"
             ],
             [
              1,
              "#f0f921"
             ]
            ],
            "type": "histogram2d"
           }
          ],
          "histogram2dcontour": [
           {
            "colorbar": {
             "outlinewidth": 0,
             "ticks": ""
            },
            "colorscale": [
             [
              0,
              "#0d0887"
             ],
             [
              0.1111111111111111,
              "#46039f"
             ],
             [
              0.2222222222222222,
              "#7201a8"
             ],
             [
              0.3333333333333333,
              "#9c179e"
             ],
             [
              0.4444444444444444,
              "#bd3786"
             ],
             [
              0.5555555555555556,
              "#d8576b"
             ],
             [
              0.6666666666666666,
              "#ed7953"
             ],
             [
              0.7777777777777778,
              "#fb9f3a"
             ],
             [
              0.8888888888888888,
              "#fdca26"
             ],
             [
              1,
              "#f0f921"
             ]
            ],
            "type": "histogram2dcontour"
           }
          ],
          "mesh3d": [
           {
            "colorbar": {
             "outlinewidth": 0,
             "ticks": ""
            },
            "type": "mesh3d"
           }
          ],
          "parcoords": [
           {
            "line": {
             "colorbar": {
              "outlinewidth": 0,
              "ticks": ""
             }
            },
            "type": "parcoords"
           }
          ],
          "pie": [
           {
            "automargin": true,
            "type": "pie"
           }
          ],
          "scatter": [
           {
            "fillpattern": {
             "fillmode": "overlay",
             "size": 10,
             "solidity": 0.2
            },
            "type": "scatter"
           }
          ],
          "scatter3d": [
           {
            "line": {
             "colorbar": {
              "outlinewidth": 0,
              "ticks": ""
             }
            },
            "marker": {
             "colorbar": {
              "outlinewidth": 0,
              "ticks": ""
             }
            },
            "type": "scatter3d"
           }
          ],
          "scattercarpet": [
           {
            "marker": {
             "colorbar": {
              "outlinewidth": 0,
              "ticks": ""
             }
            },
            "type": "scattercarpet"
           }
          ],
          "scattergeo": [
           {
            "marker": {
             "colorbar": {
              "outlinewidth": 0,
              "ticks": ""
             }
            },
            "type": "scattergeo"
           }
          ],
          "scattergl": [
           {
            "marker": {
             "colorbar": {
              "outlinewidth": 0,
              "ticks": ""
             }
            },
            "type": "scattergl"
           }
          ],
          "scattermapbox": [
           {
            "marker": {
             "colorbar": {
              "outlinewidth": 0,
              "ticks": ""
             }
            },
            "type": "scattermapbox"
           }
          ],
          "scatterpolar": [
           {
            "marker": {
             "colorbar": {
              "outlinewidth": 0,
              "ticks": ""
             }
            },
            "type": "scatterpolar"
           }
          ],
          "scatterpolargl": [
           {
            "marker": {
             "colorbar": {
              "outlinewidth": 0,
              "ticks": ""
             }
            },
            "type": "scatterpolargl"
           }
          ],
          "scatterternary": [
           {
            "marker": {
             "colorbar": {
              "outlinewidth": 0,
              "ticks": ""
             }
            },
            "type": "scatterternary"
           }
          ],
          "surface": [
           {
            "colorbar": {
             "outlinewidth": 0,
             "ticks": ""
            },
            "colorscale": [
             [
              0,
              "#0d0887"
             ],
             [
              0.1111111111111111,
              "#46039f"
             ],
             [
              0.2222222222222222,
              "#7201a8"
             ],
             [
              0.3333333333333333,
              "#9c179e"
             ],
             [
              0.4444444444444444,
              "#bd3786"
             ],
             [
              0.5555555555555556,
              "#d8576b"
             ],
             [
              0.6666666666666666,
              "#ed7953"
             ],
             [
              0.7777777777777778,
              "#fb9f3a"
             ],
             [
              0.8888888888888888,
              "#fdca26"
             ],
             [
              1,
              "#f0f921"
             ]
            ],
            "type": "surface"
           }
          ],
          "table": [
           {
            "cells": {
             "fill": {
              "color": "#EBF0F8"
             },
             "line": {
              "color": "white"
             }
            },
            "header": {
             "fill": {
              "color": "#C8D4E3"
             },
             "line": {
              "color": "white"
             }
            },
            "type": "table"
           }
          ]
         },
         "layout": {
          "annotationdefaults": {
           "arrowcolor": "#2a3f5f",
           "arrowhead": 0,
           "arrowwidth": 1
          },
          "autotypenumbers": "strict",
          "coloraxis": {
           "colorbar": {
            "outlinewidth": 0,
            "ticks": ""
           }
          },
          "colorscale": {
           "diverging": [
            [
             0,
             "#8e0152"
            ],
            [
             0.1,
             "#c51b7d"
            ],
            [
             0.2,
             "#de77ae"
            ],
            [
             0.3,
             "#f1b6da"
            ],
            [
             0.4,
             "#fde0ef"
            ],
            [
             0.5,
             "#f7f7f7"
            ],
            [
             0.6,
             "#e6f5d0"
            ],
            [
             0.7,
             "#b8e186"
            ],
            [
             0.8,
             "#7fbc41"
            ],
            [
             0.9,
             "#4d9221"
            ],
            [
             1,
             "#276419"
            ]
           ],
           "sequential": [
            [
             0,
             "#0d0887"
            ],
            [
             0.1111111111111111,
             "#46039f"
            ],
            [
             0.2222222222222222,
             "#7201a8"
            ],
            [
             0.3333333333333333,
             "#9c179e"
            ],
            [
             0.4444444444444444,
             "#bd3786"
            ],
            [
             0.5555555555555556,
             "#d8576b"
            ],
            [
             0.6666666666666666,
             "#ed7953"
            ],
            [
             0.7777777777777778,
             "#fb9f3a"
            ],
            [
             0.8888888888888888,
             "#fdca26"
            ],
            [
             1,
             "#f0f921"
            ]
           ],
           "sequentialminus": [
            [
             0,
             "#0d0887"
            ],
            [
             0.1111111111111111,
             "#46039f"
            ],
            [
             0.2222222222222222,
             "#7201a8"
            ],
            [
             0.3333333333333333,
             "#9c179e"
            ],
            [
             0.4444444444444444,
             "#bd3786"
            ],
            [
             0.5555555555555556,
             "#d8576b"
            ],
            [
             0.6666666666666666,
             "#ed7953"
            ],
            [
             0.7777777777777778,
             "#fb9f3a"
            ],
            [
             0.8888888888888888,
             "#fdca26"
            ],
            [
             1,
             "#f0f921"
            ]
           ]
          },
          "colorway": [
           "#636efa",
           "#EF553B",
           "#00cc96",
           "#ab63fa",
           "#FFA15A",
           "#19d3f3",
           "#FF6692",
           "#B6E880",
           "#FF97FF",
           "#FECB52"
          ],
          "font": {
           "color": "#2a3f5f"
          },
          "geo": {
           "bgcolor": "white",
           "lakecolor": "white",
           "landcolor": "#E5ECF6",
           "showlakes": true,
           "showland": true,
           "subunitcolor": "white"
          },
          "hoverlabel": {
           "align": "left"
          },
          "hovermode": "closest",
          "mapbox": {
           "style": "light"
          },
          "paper_bgcolor": "white",
          "plot_bgcolor": "#E5ECF6",
          "polar": {
           "angularaxis": {
            "gridcolor": "white",
            "linecolor": "white",
            "ticks": ""
           },
           "bgcolor": "#E5ECF6",
           "radialaxis": {
            "gridcolor": "white",
            "linecolor": "white",
            "ticks": ""
           }
          },
          "scene": {
           "xaxis": {
            "backgroundcolor": "#E5ECF6",
            "gridcolor": "white",
            "gridwidth": 2,
            "linecolor": "white",
            "showbackground": true,
            "ticks": "",
            "zerolinecolor": "white"
           },
           "yaxis": {
            "backgroundcolor": "#E5ECF6",
            "gridcolor": "white",
            "gridwidth": 2,
            "linecolor": "white",
            "showbackground": true,
            "ticks": "",
            "zerolinecolor": "white"
           },
           "zaxis": {
            "backgroundcolor": "#E5ECF6",
            "gridcolor": "white",
            "gridwidth": 2,
            "linecolor": "white",
            "showbackground": true,
            "ticks": "",
            "zerolinecolor": "white"
           }
          },
          "shapedefaults": {
           "line": {
            "color": "#2a3f5f"
           }
          },
          "ternary": {
           "aaxis": {
            "gridcolor": "white",
            "linecolor": "white",
            "ticks": ""
           },
           "baxis": {
            "gridcolor": "white",
            "linecolor": "white",
            "ticks": ""
           },
           "bgcolor": "#E5ECF6",
           "caxis": {
            "gridcolor": "white",
            "linecolor": "white",
            "ticks": ""
           }
          },
          "title": {
           "x": 0.05
          },
          "xaxis": {
           "automargin": true,
           "gridcolor": "white",
           "linecolor": "white",
           "ticks": "",
           "title": {
            "standoff": 15
           },
           "zerolinecolor": "white",
           "zerolinewidth": 2
          },
          "yaxis": {
           "automargin": true,
           "gridcolor": "white",
           "linecolor": "white",
           "ticks": "",
           "title": {
            "standoff": 15
           },
           "zerolinecolor": "white",
           "zerolinewidth": 2
          }
         }
        }
       }
      }
     },
     "metadata": {},
     "output_type": "display_data"
    }
   ],
   "source": [
    "fig = px.scatter_3d(principalDf, x='principal component 1', y='principal component 2', z='principal component 3', color='PlasticType', hover_data=['Name'])\n",
    "fig.show()"
   ]
  }
 ],
 "metadata": {
  "kernelspec": {
   "display_name": "Python 3",
   "language": "python",
   "name": "python3"
  },
  "language_info": {
   "codemirror_mode": {
    "name": "ipython",
    "version": 3
   },
   "file_extension": ".py",
   "mimetype": "text/x-python",
   "name": "python",
   "nbconvert_exporter": "python",
   "pygments_lexer": "ipython3",
   "version": "3.10.1"
  },
  "orig_nbformat": 4
 },
 "nbformat": 4,
 "nbformat_minor": 2
}
